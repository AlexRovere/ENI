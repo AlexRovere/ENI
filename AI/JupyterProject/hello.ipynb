{
 "cells": [
  {
   "cell_type": "code",
   "id": "initial_id",
   "metadata": {
    "collapsed": true,
    "ExecuteTime": {
     "end_time": "2025-05-19T09:33:13.518914Z",
     "start_time": "2025-05-19T09:33:13.515602Z"
    }
   },
   "source": "import math",
   "outputs": [],
   "execution_count": 5
  },
  {
   "metadata": {},
   "cell_type": "markdown",
   "source": "### Hello word !\n",
   "id": "89ef5c464b3b0bc4"
  },
  {
   "metadata": {
    "ExecuteTime": {
     "end_time": "2025-05-19T09:37:35.826681Z",
     "start_time": "2025-05-19T09:37:35.818676Z"
    }
   },
   "cell_type": "code",
   "source": [
    "pi = math.pi\n",
    "a = pi * 2**2\n",
    "a"
   ],
   "id": "3cc0c7eda8b6197b",
   "outputs": [
    {
     "data": {
      "text/plain": [
       "12.566370614359172"
      ]
     },
     "execution_count": 6,
     "metadata": {},
     "output_type": "execute_result"
    }
   ],
   "execution_count": 6
  },
  {
   "metadata": {
    "ExecuteTime": {
     "end_time": "2025-05-19T09:39:47.041332Z",
     "start_time": "2025-05-19T09:39:47.037510Z"
    }
   },
   "cell_type": "code",
   "source": [
    "liste = (1,2,3)\n",
    "liste"
   ],
   "id": "962b202ce771f8a7",
   "outputs": [
    {
     "data": {
      "text/plain": [
       "(1, 2, 3)"
      ]
     },
     "execution_count": 9,
     "metadata": {},
     "output_type": "execute_result"
    }
   ],
   "execution_count": 9
  }
 ],
 "metadata": {
  "kernelspec": {
   "display_name": "Python 3",
   "language": "python",
   "name": "python3"
  },
  "language_info": {
   "codemirror_mode": {
    "name": "ipython",
    "version": 2
   },
   "file_extension": ".py",
   "mimetype": "text/x-python",
   "name": "python",
   "nbconvert_exporter": "python",
   "pygments_lexer": "ipython2",
   "version": "2.7.6"
  }
 },
 "nbformat": 4,
 "nbformat_minor": 5
}
