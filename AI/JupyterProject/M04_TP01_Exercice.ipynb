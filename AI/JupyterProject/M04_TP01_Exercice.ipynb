{
 "cells": [
  {
   "cell_type": "markdown",
   "id": "395d61ec",
   "metadata": {},
   "source": [
    "# TP n°1 du module 4 : Le travail sur les données pour le _Machine Learning_.\n",
    "\n",
    "Dans ce TP, nous allons explorer plus en détails le jeu de données du Titanic.\n",
    "\n",
    "## Objectifs :\n",
    "- Analyser des statistiques pour décrire les données\n",
    "- Produire des visualisations pertinentes pour la compréhesion des données.\n",
    "- Nettoyer le jeu de données\n",
    "- Préparer les données pour qu'elles soient prêtes à être fournies à un algorithme d'apprentissage."
   ]
  },
  {
   "cell_type": "code",
   "id": "5117092f",
   "metadata": {
    "ExecuteTime": {
     "end_time": "2025-05-20T13:50:42.402813Z",
     "start_time": "2025-05-20T13:50:42.400519Z"
    }
   },
   "source": [
    "from unittest.mock import inplace\n",
    "\n",
    "import numpy as np\n",
    "import pandas as pd\n",
    "import matplotlib.pyplot as plt\n",
    "import seaborn as sns\n",
    "from pandas.conftest import axis_1"
   ],
   "outputs": [],
   "execution_count": 46
  },
  {
   "cell_type": "markdown",
   "id": "fde8da96",
   "metadata": {},
   "source": [
    "Commencez par recharger le jeu de données depuis un csv dans un dataframe Pandas. Rappel de l'adresse à laquelle vous pouvez le trouver : https://raw.githubusercontent.com/datasciencedojo/datasets/master/titanic.csv"
   ]
  },
  {
   "cell_type": "code",
   "id": "33fba6ca",
   "metadata": {
    "ExecuteTime": {
     "end_time": "2025-05-20T13:50:42.695044Z",
     "start_time": "2025-05-20T13:50:42.428382Z"
    }
   },
   "source": "titanic = pd.read_csv(\"https://raw.githubusercontent.com/datasciencedojo/datasets/master/titanic.csv\")",
   "outputs": [],
   "execution_count": 47
  },
  {
   "cell_type": "markdown",
   "id": "205f765d",
   "metadata": {},
   "source": [
    "## 1 - Exploration du jeu de données\n",
    "\n",
    "Commencez par répondre au question suivante. Prenez le temps de bien analyser vos réponses, afin de mieux vous familiariser avec le contenu du jeu de données."
   ]
  },
  {
   "cell_type": "markdown",
   "id": "4d0f2f45-3a4c-49bc-a7e1-d475e62573c6",
   "metadata": {},
   "source": [
    "### Question n°1\n",
    "Combien de données dans le jeu de données Titanic ?"
   ]
  },
  {
   "cell_type": "code",
   "id": "4ee3884e",
   "metadata": {
    "ExecuteTime": {
     "end_time": "2025-05-20T13:50:42.714128Z",
     "start_time": "2025-05-20T13:50:42.710104Z"
    }
   },
   "source": "titanic.shape[0]",
   "outputs": [
    {
     "data": {
      "text/plain": [
       "891"
      ]
     },
     "execution_count": 48,
     "metadata": {},
     "output_type": "execute_result"
    }
   ],
   "execution_count": 48
  },
  {
   "cell_type": "markdown",
   "id": "74f32328",
   "metadata": {},
   "source": [
    "### Question n°2\n",
    "Combien d'attributs compte le jeu de données ?"
   ]
  },
  {
   "cell_type": "code",
   "id": "80eeccc3",
   "metadata": {
    "ExecuteTime": {
     "end_time": "2025-05-20T13:50:42.757420Z",
     "start_time": "2025-05-20T13:50:42.753570Z"
    }
   },
   "source": [
    "titanic.shape[1]\n",
    "len(titanic.columns)"
   ],
   "outputs": [
    {
     "data": {
      "text/plain": [
       "12"
      ]
     },
     "execution_count": 49,
     "metadata": {},
     "output_type": "execute_result"
    }
   ],
   "execution_count": 49
  },
  {
   "cell_type": "markdown",
   "id": "819573a7",
   "metadata": {},
   "source": [
    "### Question n°3\n",
    "Identifiez quelles colonnes contiennent des données _discrètes_, et lesquelles contiennent des données _continues_."
   ]
  },
  {
   "cell_type": "markdown",
   "id": "76f11e95-8aa4-413d-a59e-323c9c1c0cce",
   "metadata": {},
   "source": [
    "#### Réponses\n",
    "- Données _discrètes_ : `Données discrètes : PassengerId, Name, Pclass, Sex, Ticket, Survived, SibSp, Parch, Cabin, Embarked = 10`\n",
    "- Données _continues_ : `Données continues : Fare, Age = 2`"
   ]
  },
  {
   "cell_type": "markdown",
   "id": "12521027-3c99-49ab-94fa-0049d357e742",
   "metadata": {},
   "source": [
    "### Question n°4\n",
    "De la même manière, identifiez les colonnes de données _qualitatives_, et celles de données _quantitatives_."
   ]
  },
  {
   "cell_type": "markdown",
   "id": "7001ce5d-afff-4968-9df3-1c7df83bc53d",
   "metadata": {},
   "source": [
    "#### Réponses\n",
    "- Données _qualitatives_ : `Survived, Name, Cabin, Embarked, Ticket, Sex  =  6`\n",
    "- Données _quantitatives_ : `PassengerId, SibSp, Parch, Age, Pclass, Fare = 6`"
   ]
  },
  {
   "cell_type": "markdown",
   "id": "69c4bee2",
   "metadata": {},
   "source": [
    "### Question n°5\n",
    "Affichez les statistiques de base sur les colonnes _quantitatives_ du _DataSet_. \n",
    "- Quelles informations pouvez-vous en retirer ?\n",
    "- Pour chaque attribut, cherchez au moins une information pertinente, que vous pouvez déduire de vos observations."
   ]
  },
  {
   "cell_type": "code",
   "id": "82ebfbb6",
   "metadata": {
    "ExecuteTime": {
     "end_time": "2025-05-20T13:50:42.846734Z",
     "start_time": "2025-05-20T13:50:42.835710Z"
    }
   },
   "source": [
    "quantitatives = titanic[['Survived', 'Pclass', 'Embarked', 'Age', 'Fare', 'SibSp', 'Parch']]\n",
    "quantitatives.describe()\n",
    "\n",
    "print(\"Survived = au moins 50 % des gens sont morts\")\n",
    "print(\"Pclass = au moins 75 % des gens étaient en 3ème classe\")\n",
    "print(\"Age = L'age moyen est de 28 ans\")\n",
    "print(\"Fare = Un passager a eu son ticket gratuit\")\n",
    "print(\"SibSp = Au moins 75% des passagers voyagaient avec un conjoint ou fraterie\")\n",
    "print(\"Parch = Peu d'enfants\")"
   ],
   "outputs": [
    {
     "name": "stdout",
     "output_type": "stream",
     "text": [
      "Survived = au moins 50 % des gens sont morts\n",
      "Pclass = au moins 75 % des gens étaient en 3ème classe\n",
      "Age = L'age moyen est de 28 ans\n",
      "Fare = Un passager a eu son ticket gratuit\n",
      "SibSp = Au moins 75% des passagers voyagaient avec un conjoint ou fraterie\n",
      "Parch = Peu d'enfants\n"
     ]
    }
   ],
   "execution_count": 50
  },
  {
   "cell_type": "markdown",
   "id": "7b1833af-b913-4200-b423-61fc64e9c5a7",
   "metadata": {},
   "source": [
    "#### Observations sur les statistiques"
   ]
  },
  {
   "cell_type": "markdown",
   "id": "fb6c6ff3-e748-404d-9f54-3c10d5d8a565",
   "metadata": {},
   "source": [
    "`à compléter`"
   ]
  },
  {
   "cell_type": "markdown",
   "id": "46384afa",
   "metadata": {},
   "source": [
    "### Question n°6\n",
    "Sur une figure avec 6 sous-figures, proposez un histogramme pour visualiser la répartition des valeurs sur les attributs suivants :<br/>\n",
    "`Survived`, `Pclass`, `Sex`, `Embarked`, `Age`, `Fare`.\n",
    "\n",
    "Pour chaque figure, quelle(s) observation(s) pouvez-vous faire ?"
   ]
  },
  {
   "cell_type": "code",
   "id": "94ddbac5",
   "metadata": {
    "ExecuteTime": {
     "end_time": "2025-05-20T13:50:43.540307Z",
     "start_time": "2025-05-20T13:50:42.919259Z"
    }
   },
   "source": [
    "\n",
    "fig, axes = plt.subplots(2, 3, figsize=(18, 10))\n",
    "\n",
    "cols = ['Survived', 'Pclass', 'Sex', 'Embarked', 'Age', 'Fare']\n",
    "# Pour savoir si countplot (catégoriel) ou histplot (numérique)\n",
    "cat_cols = ['Survived', 'Pclass', 'Sex', 'Embarked']\n",
    "\n",
    "for i, col in enumerate(cols):\n",
    "    ax = axes[i // 3, i % 3]\n",
    "    if col in cat_cols:\n",
    "        sns.countplot(data=titanic, x=col, ax=ax)\n",
    "    else:\n",
    "        sns.histplot(data=titanic, x=col, kde=True, bins=30, ax=ax)\n",
    "    ax.set_title(f'Distribution de {col}')\n"
   ],
   "outputs": [
    {
     "data": {
      "text/plain": [
       "<Figure size 1800x1000 with 6 Axes>"
      ],
      "image/png": "[encoded data removed]"
     },
     "metadata": {},
     "output_type": "display_data"
    }
   ],
   "execution_count": 51
  },
  {
   "cell_type": "markdown",
   "id": "8a1b0091-72d0-45d9-b7c2-18bc0fb068bf",
   "metadata": {},
   "source": [
    "#### Observations"
   ]
  },
  {
   "cell_type": "markdown",
   "id": "1a9f5033-d3e1-41f2-9792-3ccb81245214",
   "metadata": {},
   "source": [
    "1. `Plus de morts que de survivants`\n",
    "2. `Plus de 3 ème classe`\n",
    "3. `Plus d'hommes`\n",
    "4. `Plus de passgers à S`\n",
    "5. `Moyenne d'age 25 ans`\n",
    "6. `Majorité des billets en dessous de 25$`"
   ]
  },
  {
   "cell_type": "markdown",
   "id": "620fbbba",
   "metadata": {},
   "source": [
    "### Question n°7\n",
    "Sur un même graphique, représentez, pour chaque genre, le nombre de personnes ayant survécu.\n",
    "- Que pouvez-vous en déduire ?\n",
    "- Le genre d'un passager vous parait-il pertinent pour qu'un modèle d'apprentissage puisse prédire si celui-ci a survécu ?"
   ]
  },
  {
   "cell_type": "code",
   "id": "f58cb499",
   "metadata": {
    "ExecuteTime": {
     "end_time": "2025-05-20T13:50:43.648307Z",
     "start_time": "2025-05-20T13:50:43.556552Z"
    }
   },
   "source": [
    "survivors = titanic[titanic['Survived'] == 1]\n",
    "grouped = survivors.groupby(['Sex']).size()\n",
    "grouped.plot(kind='bar')\n",
    "\n",
    "plt.title('Survivants par genres')\n",
    "plt.xlabel('Genres')\n",
    "plt.ylabel('Nombre de passagers')\n"
   ],
   "outputs": [
    {
     "data": {
      "text/plain": [
       "Text(0, 0.5, 'Nombre de passagers')"
      ]
     },
     "execution_count": 52,
     "metadata": {},
     "output_type": "execute_result"
    },
    {
     "data": {
      "text/plain": [
       "<Figure size 640x480 with 1 Axes>"
      ],
      "image/png": "[encoded data removed]"
     },
     "metadata": {},
     "output_type": "display_data"
    }
   ],
   "execution_count": 52
  },
  {
   "cell_type": "markdown",
   "id": "02780815-7ddb-49b6-ba04-f9c434eea086",
   "metadata": {},
   "source": [
    "#### Observations"
   ]
  },
  {
   "cell_type": "markdown",
   "id": "9204e59b-3bdb-4b4b-b1b9-feafc6e7db7b",
   "metadata": {},
   "source": "`Les femmes ont davatanges survecu mais ce n'est pas pertinent d'utiliser cette donnée`"
  },
  {
   "cell_type": "markdown",
   "id": "412e2e95",
   "metadata": {},
   "source": [
    "### Question n°8\n",
    "En vous basant sur une visualisation :\n",
    "- Observez-vous une corrélation entre certains attributs ?\n",
    "- Que pouvez-vous en déduire pour un futur modèle d'apprentissage ?"
   ]
  },
  {
   "cell_type": "code",
   "id": "48d8ee62",
   "metadata": {
    "ExecuteTime": {
     "end_time": "2025-05-20T13:50:43.825043Z",
     "start_time": "2025-05-20T13:50:43.675088Z"
    }
   },
   "source": "sns.heatmap(titanic[['PassengerId', 'Survived', 'Pclass', 'Age', 'SibSp', 'Parch', 'Fare']].corr())",
   "outputs": [
    {
     "data": {
      "text/plain": [
       "<Axes: >"
      ]
     },
     "execution_count": 53,
     "metadata": {},
     "output_type": "execute_result"
    },
    {
     "data": {
      "text/plain": [
       "<Figure size 640x480 with 2 Axes>"
      ],
      "image/png": "[encoded data removed]"
     },
     "metadata": {},
     "output_type": "display_data"
    }
   ],
   "execution_count": 53
  },
  {
   "cell_type": "markdown",
   "id": "ff18573e-4a04-4cd7-9ad5-edc77262ccae",
   "metadata": {},
   "source": [
    "#### Observations"
   ]
  },
  {
   "cell_type": "markdown",
   "id": "8659d399-92e5-4461-9fdb-432a44603a36",
   "metadata": {},
   "source": [
    "`à compléter`"
   ]
  },
  {
   "cell_type": "markdown",
   "id": "ae39b80c",
   "metadata": {},
   "source": [
    "### Question n°9\n",
    "En vous basant sur vos observations de la visualisation précédente :\n",
    "- Confirmez vos impressions en proposant 2 visualisations ?\n",
    "\n",
    "Par exemple, si vous avez observé une corrélation entre un attribut A et un attribut B :<br/>mettez en valeur le fait que les mêmes valeurs de A sont souvent trouvées avec les mêmes valeurs de B."
   ]
  },
  {
   "cell_type": "code",
   "id": "987a4b5f",
   "metadata": {
    "ExecuteTime": {
     "end_time": "2025-05-20T13:50:43.967958Z",
     "start_time": "2025-05-20T13:50:43.852129Z"
    }
   },
   "source": [
    "# Proposition n°1 :\n",
    "sns.countplot(data = titanic, x=\"Pclass\", hue=\"Survived\")"
   ],
   "outputs": [
    {
     "data": {
      "text/plain": [
       "<Axes: xlabel='Pclass', ylabel='count'>"
      ]
     },
     "execution_count": 54,
     "metadata": {},
     "output_type": "execute_result"
    },
    {
     "data": {
      "text/plain": [
       "<Figure size 640x480 with 1 Axes>"
      ],
      "image/png": "[encoded data removed]"
     },
     "metadata": {},
     "output_type": "display_data"
    }
   ],
   "execution_count": 54
  },
  {
   "cell_type": "markdown",
   "id": "bb98f2c4-647a-45e6-9fe2-4128a9cd64f8",
   "metadata": {},
   "source": [
    "#### Observations n°1"
   ]
  },
  {
   "cell_type": "markdown",
   "id": "93c8083a-24eb-46f9-9aff-0af7458ece28",
   "metadata": {},
   "source": [
    "`à compléter`"
   ]
  },
  {
   "cell_type": "code",
   "id": "dafb511e-dfa1-4012-9320-2d38b9238990",
   "metadata": {
    "ExecuteTime": {
     "end_time": "2025-05-20T13:50:44.142487Z",
     "start_time": "2025-05-20T13:50:43.983319Z"
    }
   },
   "source": [
    "# Proposition n°2 :\n",
    "sns.histplot(data=titanic, x='Age', hue='Pclass', multiple='dodge', bins=range(1, 110, 10))"
   ],
   "outputs": [
    {
     "data": {
      "text/plain": [
       "<Axes: xlabel='Age', ylabel='Count'>"
      ]
     },
     "execution_count": 55,
     "metadata": {},
     "output_type": "execute_result"
    },
    {
     "data": {
      "text/plain": [
       "<Figure size 640x480 with 1 Axes>"
      ],
      "image/png": "[encoded data removed]"
     },
     "metadata": {},
     "output_type": "display_data"
    }
   ],
   "execution_count": 55
  },
  {
   "cell_type": "markdown",
   "id": "e69c1a35-5b36-499f-a2cd-a25da68f1151",
   "metadata": {},
   "source": [
    "#### Observations n°2"
   ]
  },
  {
   "cell_type": "markdown",
   "id": "f7789779-709c-4918-8f6f-2f520fdf8670",
   "metadata": {},
   "source": [
    "`à compléter`"
   ]
  },
  {
   "cell_type": "markdown",
   "id": "67adc89f",
   "metadata": {},
   "source": [
    "### Question n°10\n",
    "Mettez-vous à présent dans le rôle d'un data analyst face à un _nouveau jeu de données_ :\n",
    "- Quelles autres visualisations vous paraissent nécessaires ?\n",
    "- Proposez au moins 3 visualisations qui vous semblent pertinentes.\n",
    "- Gardez en tête que l'objectif sur ce jeu de données sera de réussir à prédire si un passager à survécu ou non."
   ]
  },
  {
   "cell_type": "markdown",
   "id": "c8ef0d03-94d0-4d7c-98ce-555d528c9b85",
   "metadata": {},
   "source": [
    "#### Suggestion de visualisations"
   ]
  },
  {
   "cell_type": "markdown",
   "id": "1f6f5a36-247b-40b8-b24c-f3b4c6da9aab",
   "metadata": {},
   "source": [
    "1. `Survie par classe d'age`\n",
    "2. `Suivi et nombre de membres de la famille`\n",
    "3. `Age et tarif du ticket`"
   ]
  },
  {
   "cell_type": "markdown",
   "id": "081aafe5",
   "metadata": {},
   "source": [
    "## 2 - Nettoyage des données"
   ]
  },
  {
   "cell_type": "markdown",
   "id": "b75d7bc2-c14d-4fb2-bdb7-d1074d1e0127",
   "metadata": {},
   "source": [
    "### Question n°1\n",
    "Pour chaque colonne, comptez le nombre de valeurs nulles."
   ]
  },
  {
   "cell_type": "code",
   "id": "ba42c62a",
   "metadata": {
    "ExecuteTime": {
     "end_time": "2025-05-20T13:50:44.173099Z",
     "start_time": "2025-05-20T13:50:44.168094Z"
    }
   },
   "source": "titanic.isna().sum()",
   "outputs": [
    {
     "data": {
      "text/plain": [
       "PassengerId      0\n",
       "Survived         0\n",
       "Pclass           0\n",
       "Name             0\n",
       "Sex              0\n",
       "Age            177\n",
       "SibSp            0\n",
       "Parch            0\n",
       "Ticket           0\n",
       "Fare             0\n",
       "Cabin          687\n",
       "Embarked         2\n",
       "dtype: int64"
      ]
     },
     "execution_count": 56,
     "metadata": {},
     "output_type": "execute_result"
    }
   ],
   "execution_count": 56
  },
  {
   "cell_type": "markdown",
   "id": "e5bc166d",
   "metadata": {},
   "source": [
    "**Traitement du port d'embarquement**\n",
    "\n",
    "### Question n°2\n",
    "Les valeurs manquantes du port d'embarquement sont très peu nombreuses.\n",
    "\n",
    "De plus, s'agissant d'un attribut discret, nous pouvons considérer l'information de valeur nulle comme une valeur possible supplémentaire.<br/>Commencez par afficher les lignes pour lesquelles le port d'embarquement n'est pas renseigné."
   ]
  },
  {
   "cell_type": "code",
   "id": "5219c39a",
   "metadata": {
    "ExecuteTime": {
     "end_time": "2025-05-20T13:50:44.247392Z",
     "start_time": "2025-05-20T13:50:44.235356Z"
    }
   },
   "source": [
    "embarked_null = titanic[titanic['Embarked'].isnull()]\n",
    "embarked_null"
   ],
   "outputs": [
    {
     "data": {
      "text/plain": [
       "     PassengerId  Survived  Pclass                                       Name  \\\n",
       "61            62         1       1                        Icard, Miss. Amelie   \n",
       "829          830         1       1  Stone, Mrs. George Nelson (Martha Evelyn)   \n",
       "\n",
       "        Sex   Age  SibSp  Parch  Ticket  Fare Cabin Embarked  \n",
       "61   female  38.0      0      0  113572  80.0   B28      NaN  \n",
       "829  female  62.0      0      0  113572  80.0   B28      NaN  "
      ],
      "text/html": [
       "<div>\n",
       "<style scoped>\n",
       "    .dataframe tbody tr th:only-of-type {\n",
       "        vertical-align: middle;\n",
       "    }\n",
       "\n",
       "    .dataframe tbody tr th {\n",
       "        vertical-align: top;\n",
       "    }\n",
       "\n",
       "    .dataframe thead th {\n",
       "        text-align: right;\n",
       "    }\n",
       "</style>\n",
       "<table border=\"1\" class=\"dataframe\">\n",
       "  <thead>\n",
       "    <tr style=\"text-align: right;\">\n",
       "      <th></th>\n",
       "      <th>PassengerId</th>\n",
       "      <th>Survived</th>\n",
       "      <th>Pclass</th>\n",
       "      <th>Name</th>\n",
       "      <th>Sex</th>\n",
       "      <th>Age</th>\n",
       "      <th>SibSp</th>\n",
       "      <th>Parch</th>\n",
       "      <th>Ticket</th>\n",
       "      <th>Fare</th>\n",
       "      <th>Cabin</th>\n",
       "      <th>Embarked</th>\n",
       "    </tr>\n",
       "  </thead>\n",
       "  <tbody>\n",
       "    <tr>\n",
       "      <th>61</th>\n",
       "      <td>62</td>\n",
       "      <td>1</td>\n",
       "      <td>1</td>\n",
       "      <td>Icard, Miss. Amelie</td>\n",
       "      <td>female</td>\n",
       "      <td>38.0</td>\n",
       "      <td>0</td>\n",
       "      <td>0</td>\n",
       "      <td>113572</td>\n",
       "      <td>80.0</td>\n",
       "      <td>B28</td>\n",
       "      <td>NaN</td>\n",
       "    </tr>\n",
       "    <tr>\n",
       "      <th>829</th>\n",
       "      <td>830</td>\n",
       "      <td>1</td>\n",
       "      <td>1</td>\n",
       "      <td>Stone, Mrs. George Nelson (Martha Evelyn)</td>\n",
       "      <td>female</td>\n",
       "      <td>62.0</td>\n",
       "      <td>0</td>\n",
       "      <td>0</td>\n",
       "      <td>113572</td>\n",
       "      <td>80.0</td>\n",
       "      <td>B28</td>\n",
       "      <td>NaN</td>\n",
       "    </tr>\n",
       "  </tbody>\n",
       "</table>\n",
       "</div>"
      ]
     },
     "execution_count": 57,
     "metadata": {},
     "output_type": "execute_result"
    }
   ],
   "execution_count": 57
  },
  {
   "cell_type": "markdown",
   "id": "363787e8",
   "metadata": {},
   "source": [
    "### Question n°3\n",
    "Remplacez ces valeurs nulles par la valeur 'U' (pour _Unknown_).\n",
    "\n",
    "Vérifiez vos résultats en réaffichant les lignes obtenues ci-dessus :"
   ]
  },
  {
   "cell_type": "code",
   "id": "2be8a958",
   "metadata": {
    "ExecuteTime": {
     "end_time": "2025-05-20T13:52:33.200699Z",
     "start_time": "2025-05-20T13:52:33.190692Z"
    }
   },
   "source": [
    "titanic.loc[titanic['Embarked'].isnull(), ['Embarked']] = 'U'\n",
    "titanic[titanic['Embarked'] == 'U']"
   ],
   "outputs": [
    {
     "data": {
      "text/plain": [
       "     PassengerId  Survived  Pclass                                       Name  \\\n",
       "61            62         1       1                        Icard, Miss. Amelie   \n",
       "829          830         1       1  Stone, Mrs. George Nelson (Martha Evelyn)   \n",
       "\n",
       "        Sex   Age  SibSp  Parch  Ticket  Fare Cabin Embarked  \n",
       "61   female  38.0      0      0  113572  80.0   B28        U  \n",
       "829  female  62.0      0      0  113572  80.0   B28        U  "
      ],
      "text/html": [
       "<div>\n",
       "<style scoped>\n",
       "    .dataframe tbody tr th:only-of-type {\n",
       "        vertical-align: middle;\n",
       "    }\n",
       "\n",
       "    .dataframe tbody tr th {\n",
       "        vertical-align: top;\n",
       "    }\n",
       "\n",
       "    .dataframe thead th {\n",
       "        text-align: right;\n",
       "    }\n",
       "</style>\n",
       "<table border=\"1\" class=\"dataframe\">\n",
       "  <thead>\n",
       "    <tr style=\"text-align: right;\">\n",
       "      <th></th>\n",
       "      <th>PassengerId</th>\n",
       "      <th>Survived</th>\n",
       "      <th>Pclass</th>\n",
       "      <th>Name</th>\n",
       "      <th>Sex</th>\n",
       "      <th>Age</th>\n",
       "      <th>SibSp</th>\n",
       "      <th>Parch</th>\n",
       "      <th>Ticket</th>\n",
       "      <th>Fare</th>\n",
       "      <th>Cabin</th>\n",
       "      <th>Embarked</th>\n",
       "    </tr>\n",
       "  </thead>\n",
       "  <tbody>\n",
       "    <tr>\n",
       "      <th>61</th>\n",
       "      <td>62</td>\n",
       "      <td>1</td>\n",
       "      <td>1</td>\n",
       "      <td>Icard, Miss. Amelie</td>\n",
       "      <td>female</td>\n",
       "      <td>38.0</td>\n",
       "      <td>0</td>\n",
       "      <td>0</td>\n",
       "      <td>113572</td>\n",
       "      <td>80.0</td>\n",
       "      <td>B28</td>\n",
       "      <td>U</td>\n",
       "    </tr>\n",
       "    <tr>\n",
       "      <th>829</th>\n",
       "      <td>830</td>\n",
       "      <td>1</td>\n",
       "      <td>1</td>\n",
       "      <td>Stone, Mrs. George Nelson (Martha Evelyn)</td>\n",
       "      <td>female</td>\n",
       "      <td>62.0</td>\n",
       "      <td>0</td>\n",
       "      <td>0</td>\n",
       "      <td>113572</td>\n",
       "      <td>80.0</td>\n",
       "      <td>B28</td>\n",
       "      <td>U</td>\n",
       "    </tr>\n",
       "  </tbody>\n",
       "</table>\n",
       "</div>"
      ]
     },
     "execution_count": 69,
     "metadata": {},
     "output_type": "execute_result"
    }
   ],
   "execution_count": 69
  },
  {
   "cell_type": "markdown",
   "id": "a5e22413",
   "metadata": {},
   "source": [
    "**Traitement du numéro de cabine**\n",
    "\n",
    "### Question n°4\n",
    "Le numéro de cabine est l'attribut qui contient le plus de valeurs nulles.\n",
    "\n",
    "Cet attribut n'a pas de lien évident avec la survie des passagers :<br/>Supprimer cette colonne dans votre _DataFrame_."
   ]
  },
  {
   "cell_type": "code",
   "id": "aef1705c",
   "metadata": {
    "ExecuteTime": {
     "end_time": "2025-05-20T13:50:44.553558Z",
     "start_time": "2025-05-20T13:50:44.543603Z"
    }
   },
   "source": "titanic.drop(axis=1,labels='Cabin')",
   "outputs": [
    {
     "data": {
      "text/plain": [
       "     PassengerId  Survived  Pclass  \\\n",
       "0              1         0       3   \n",
       "1              2         1       1   \n",
       "2              3         1       3   \n",
       "3              4         1       1   \n",
       "4              5         0       3   \n",
       "..           ...       ...     ...   \n",
       "886          887         0       2   \n",
       "887          888         1       1   \n",
       "888          889         0       3   \n",
       "889          890         1       1   \n",
       "890          891         0       3   \n",
       "\n",
       "                                                  Name     Sex   Age  SibSp  \\\n",
       "0                              Braund, Mr. Owen Harris    male  22.0      1   \n",
       "1    Cumings, Mrs. John Bradley (Florence Briggs Th...  female  38.0      1   \n",
       "2                               Heikkinen, Miss. Laina  female  26.0      0   \n",
       "3         Futrelle, Mrs. Jacques Heath (Lily May Peel)  female  35.0      1   \n",
       "4                             Allen, Mr. William Henry    male  35.0      0   \n",
       "..                                                 ...     ...   ...    ...   \n",
       "886                              Montvila, Rev. Juozas    male  27.0      0   \n",
       "887                       Graham, Miss. Margaret Edith  female  19.0      0   \n",
       "888           Johnston, Miss. Catherine Helen \"Carrie\"  female   NaN      1   \n",
       "889                              Behr, Mr. Karl Howell    male  26.0      0   \n",
       "890                                Dooley, Mr. Patrick    male  32.0      0   \n",
       "\n",
       "     Parch            Ticket     Fare Embarked  \n",
       "0        0         A/5 21171   7.2500        S  \n",
       "1        0          PC 17599  71.2833        C  \n",
       "2        0  STON/O2. 3101282   7.9250        S  \n",
       "3        0            113803  53.1000        S  \n",
       "4        0            373450   8.0500        S  \n",
       "..     ...               ...      ...      ...  \n",
       "886      0            211536  13.0000        S  \n",
       "887      0            112053  30.0000        S  \n",
       "888      2        W./C. 6607  23.4500        S  \n",
       "889      0            111369  30.0000        C  \n",
       "890      0            370376   7.7500        Q  \n",
       "\n",
       "[891 rows x 11 columns]"
      ],
      "text/html": [
       "<div>\n",
       "<style scoped>\n",
       "    .dataframe tbody tr th:only-of-type {\n",
       "        vertical-align: middle;\n",
       "    }\n",
       "\n",
       "    .dataframe tbody tr th {\n",
       "        vertical-align: top;\n",
       "    }\n",
       "\n",
       "    .dataframe thead th {\n",
       "        text-align: right;\n",
       "    }\n",
       "</style>\n",
       "<table border=\"1\" class=\"dataframe\">\n",
       "  <thead>\n",
       "    <tr style=\"text-align: right;\">\n",
       "      <th></th>\n",
       "      <th>PassengerId</th>\n",
       "      <th>Survived</th>\n",
       "      <th>Pclass</th>\n",
       "      <th>Name</th>\n",
       "      <th>Sex</th>\n",
       "      <th>Age</th>\n",
       "      <th>SibSp</th>\n",
       "      <th>Parch</th>\n",
       "      <th>Ticket</th>\n",
       "      <th>Fare</th>\n",
       "      <th>Embarked</th>\n",
       "    </tr>\n",
       "  </thead>\n",
       "  <tbody>\n",
       "    <tr>\n",
       "      <th>0</th>\n",
       "      <td>1</td>\n",
       "      <td>0</td>\n",
       "      <td>3</td>\n",
       "      <td>Braund, Mr. Owen Harris</td>\n",
       "      <td>male</td>\n",
       "      <td>22.0</td>\n",
       "      <td>1</td>\n",
       "      <td>0</td>\n",
       "      <td>A/5 21171</td>\n",
       "      <td>7.2500</td>\n",
       "      <td>S</td>\n",
       "    </tr>\n",
       "    <tr>\n",
       "      <th>1</th>\n",
       "      <td>2</td>\n",
       "      <td>1</td>\n",
       "      <td>1</td>\n",
       "      <td>Cumings, Mrs. John Bradley (Florence Briggs Th...</td>\n",
       "      <td>female</td>\n",
       "      <td>38.0</td>\n",
       "      <td>1</td>\n",
       "      <td>0</td>\n",
       "      <td>PC 17599</td>\n",
       "      <td>71.2833</td>\n",
       "      <td>C</td>\n",
       "    </tr>\n",
       "    <tr>\n",
       "      <th>2</th>\n",
       "      <td>3</td>\n",
       "      <td>1</td>\n",
       "      <td>3</td>\n",
       "      <td>Heikkinen, Miss. Laina</td>\n",
       "      <td>female</td>\n",
       "      <td>26.0</td>\n",
       "      <td>0</td>\n",
       "      <td>0</td>\n",
       "      <td>STON/O2. 3101282</td>\n",
       "      <td>7.9250</td>\n",
       "      <td>S</td>\n",
       "    </tr>\n",
       "    <tr>\n",
       "      <th>3</th>\n",
       "      <td>4</td>\n",
       "      <td>1</td>\n",
       "      <td>1</td>\n",
       "      <td>Futrelle, Mrs. Jacques Heath (Lily May Peel)</td>\n",
       "      <td>female</td>\n",
       "      <td>35.0</td>\n",
       "      <td>1</td>\n",
       "      <td>0</td>\n",
       "      <td>113803</td>\n",
       "      <td>53.1000</td>\n",
       "      <td>S</td>\n",
       "    </tr>\n",
       "    <tr>\n",
       "      <th>4</th>\n",
       "      <td>5</td>\n",
       "      <td>0</td>\n",
       "      <td>3</td>\n",
       "      <td>Allen, Mr. William Henry</td>\n",
       "      <td>male</td>\n",
       "      <td>35.0</td>\n",
       "      <td>0</td>\n",
       "      <td>0</td>\n",
       "      <td>373450</td>\n",
       "      <td>8.0500</td>\n",
       "      <td>S</td>\n",
       "    </tr>\n",
       "    <tr>\n",
       "      <th>...</th>\n",
       "      <td>...</td>\n",
       "      <td>...</td>\n",
       "      <td>...</td>\n",
       "      <td>...</td>\n",
       "      <td>...</td>\n",
       "      <td>...</td>\n",
       "      <td>...</td>\n",
       "      <td>...</td>\n",
       "      <td>...</td>\n",
       "      <td>...</td>\n",
       "      <td>...</td>\n",
       "    </tr>\n",
       "    <tr>\n",
       "      <th>886</th>\n",
       "      <td>887</td>\n",
       "      <td>0</td>\n",
       "      <td>2</td>\n",
       "      <td>Montvila, Rev. Juozas</td>\n",
       "      <td>male</td>\n",
       "      <td>27.0</td>\n",
       "      <td>0</td>\n",
       "      <td>0</td>\n",
       "      <td>211536</td>\n",
       "      <td>13.0000</td>\n",
       "      <td>S</td>\n",
       "    </tr>\n",
       "    <tr>\n",
       "      <th>887</th>\n",
       "      <td>888</td>\n",
       "      <td>1</td>\n",
       "      <td>1</td>\n",
       "      <td>Graham, Miss. Margaret Edith</td>\n",
       "      <td>female</td>\n",
       "      <td>19.0</td>\n",
       "      <td>0</td>\n",
       "      <td>0</td>\n",
       "      <td>112053</td>\n",
       "      <td>30.0000</td>\n",
       "      <td>S</td>\n",
       "    </tr>\n",
       "    <tr>\n",
       "      <th>888</th>\n",
       "      <td>889</td>\n",
       "      <td>0</td>\n",
       "      <td>3</td>\n",
       "      <td>Johnston, Miss. Catherine Helen \"Carrie\"</td>\n",
       "      <td>female</td>\n",
       "      <td>NaN</td>\n",
       "      <td>1</td>\n",
       "      <td>2</td>\n",
       "      <td>W./C. 6607</td>\n",
       "      <td>23.4500</td>\n",
       "      <td>S</td>\n",
       "    </tr>\n",
       "    <tr>\n",
       "      <th>889</th>\n",
       "      <td>890</td>\n",
       "      <td>1</td>\n",
       "      <td>1</td>\n",
       "      <td>Behr, Mr. Karl Howell</td>\n",
       "      <td>male</td>\n",
       "      <td>26.0</td>\n",
       "      <td>0</td>\n",
       "      <td>0</td>\n",
       "      <td>111369</td>\n",
       "      <td>30.0000</td>\n",
       "      <td>C</td>\n",
       "    </tr>\n",
       "    <tr>\n",
       "      <th>890</th>\n",
       "      <td>891</td>\n",
       "      <td>0</td>\n",
       "      <td>3</td>\n",
       "      <td>Dooley, Mr. Patrick</td>\n",
       "      <td>male</td>\n",
       "      <td>32.0</td>\n",
       "      <td>0</td>\n",
       "      <td>0</td>\n",
       "      <td>370376</td>\n",
       "      <td>7.7500</td>\n",
       "      <td>Q</td>\n",
       "    </tr>\n",
       "  </tbody>\n",
       "</table>\n",
       "<p>891 rows × 11 columns</p>\n",
       "</div>"
      ]
     },
     "execution_count": 59,
     "metadata": {},
     "output_type": "execute_result"
    }
   ],
   "execution_count": 59
  },
  {
   "cell_type": "markdown",
   "id": "112f1631",
   "metadata": {},
   "source": [
    "**Traitement de l'âge**\n",
    "### Question n°5\n",
    "L'âge est un attribut plus délicat à traiter : il contient un nombre conséquent de valeur nulle, mais il est très pertinent à prendre en compte pour la prédiction de la survie d'un passager, ces deux informations étant assez fortement corrélées.\n",
    "\n",
    "Il existe plusieurs stratégies pour remplacer ces valeurs manquantes :\n",
    "- Mettre une valeur aléatoire (entre le min et le max)\n",
    "- Remplacer par la moyenne\n",
    "- **Remplacer par une valeur déterminée en fonction des autres paramètres (classe, age, …)**\n",
    "\n",
    "Commencer par calculer pour chaque genre et pour chaque classe, l'âge moyen (6 valeurs à obtenir au total)."
   ]
  },
  {
   "cell_type": "code",
   "id": "2b2a06ff",
   "metadata": {
    "ExecuteTime": {
     "end_time": "2025-05-20T13:54:35.183107Z",
     "start_time": "2025-05-20T13:54:35.175713Z"
    }
   },
   "source": [
    "age_avg_pclass_sex = titanic.groupby(['Pclass', 'Sex'], as_index=False)['Age'].mean()\n",
    "age_avg_pclass_sex"
   ],
   "outputs": [
    {
     "data": {
      "text/plain": [
       "   Pclass     Sex        Age\n",
       "0       1  female  34.611765\n",
       "1       1    male  41.281386\n",
       "2       2  female  28.722973\n",
       "3       2    male  30.740707\n",
       "4       3  female  21.750000\n",
       "5       3    male  26.507589"
      ],
      "text/html": [
       "<div>\n",
       "<style scoped>\n",
       "    .dataframe tbody tr th:only-of-type {\n",
       "        vertical-align: middle;\n",
       "    }\n",
       "\n",
       "    .dataframe tbody tr th {\n",
       "        vertical-align: top;\n",
       "    }\n",
       "\n",
       "    .dataframe thead th {\n",
       "        text-align: right;\n",
       "    }\n",
       "</style>\n",
       "<table border=\"1\" class=\"dataframe\">\n",
       "  <thead>\n",
       "    <tr style=\"text-align: right;\">\n",
       "      <th></th>\n",
       "      <th>Pclass</th>\n",
       "      <th>Sex</th>\n",
       "      <th>Age</th>\n",
       "    </tr>\n",
       "  </thead>\n",
       "  <tbody>\n",
       "    <tr>\n",
       "      <th>0</th>\n",
       "      <td>1</td>\n",
       "      <td>female</td>\n",
       "      <td>34.611765</td>\n",
       "    </tr>\n",
       "    <tr>\n",
       "      <th>1</th>\n",
       "      <td>1</td>\n",
       "      <td>male</td>\n",
       "      <td>41.281386</td>\n",
       "    </tr>\n",
       "    <tr>\n",
       "      <th>2</th>\n",
       "      <td>2</td>\n",
       "      <td>female</td>\n",
       "      <td>28.722973</td>\n",
       "    </tr>\n",
       "    <tr>\n",
       "      <th>3</th>\n",
       "      <td>2</td>\n",
       "      <td>male</td>\n",
       "      <td>30.740707</td>\n",
       "    </tr>\n",
       "    <tr>\n",
       "      <th>4</th>\n",
       "      <td>3</td>\n",
       "      <td>female</td>\n",
       "      <td>21.750000</td>\n",
       "    </tr>\n",
       "    <tr>\n",
       "      <th>5</th>\n",
       "      <td>3</td>\n",
       "      <td>male</td>\n",
       "      <td>26.507589</td>\n",
       "    </tr>\n",
       "  </tbody>\n",
       "</table>\n",
       "</div>"
      ]
     },
     "execution_count": 73,
     "metadata": {},
     "output_type": "execute_result"
    }
   ],
   "execution_count": 73
  },
  {
   "cell_type": "markdown",
   "id": "e42013d7",
   "metadata": {},
   "source": [
    "### Question n°6\n",
    "Pour chaque ligne du jeu de données, si l'âge est manquant :\n",
    "- Remplacez la valeur nulle par une des valeurs calculées ci-dessus.<br/>(basez-vous sur le genre et la classe du passager pour choisir la bonne valeur.)"
   ]
  },
  {
   "cell_type": "code",
   "id": "b11b0761-641d-47e6-9508-f6a5fab0279f",
   "metadata": {
    "ExecuteTime": {
     "end_time": "2025-05-20T13:50:44.902752Z",
     "start_time": "2025-05-20T13:50:44.900287Z"
    }
   },
   "source": [
    "#TODO"
   ],
   "outputs": [],
   "execution_count": 61
  },
  {
   "cell_type": "code",
   "id": "3daa4cc6",
   "metadata": {
    "ExecuteTime": {
     "end_time": "2025-05-20T13:50:45.032111Z",
     "start_time": "2025-05-20T13:50:45.029106Z"
    }
   },
   "source": "#TODO",
   "outputs": [],
   "execution_count": 62
  },
  {
   "cell_type": "markdown",
   "id": "574ecdec-8033-41c1-8682-edd48a910ed4",
   "metadata": {},
   "source": [
    "##### Vérification des valeurs manquantes"
   ]
  },
  {
   "cell_type": "code",
   "id": "7cafae81-ff20-4e99-b3f2-92b6830a9343",
   "metadata": {
    "ExecuteTime": {
     "end_time": "2025-05-20T13:50:45.088568Z",
     "start_time": "2025-05-20T13:50:45.085670Z"
    }
   },
   "source": [
    "#TODO"
   ],
   "outputs": [],
   "execution_count": 63
  },
  {
   "cell_type": "markdown",
   "id": "cf24aa8b",
   "metadata": {},
   "source": [
    "## 3 - Préparer les données\n",
    "Nous entrons dans la dernière phase de traitement des données :\n",
    "- Nous allons terminer par la mise en forme de celles-ci, pour qu'elles soient prêtes à être manipulées dans un processus d'apprentissage."
   ]
  },
  {
   "cell_type": "markdown",
   "id": "f2ab2605",
   "metadata": {},
   "source": [
    "**Encodage des données catégorielles**\n",
    "\n",
    "### Question n°1\n",
    "Réaffichez les infos sur le jeu de données. Vous devez avoir 11 colonnes, toutes remplies avec 891 valeurs."
   ]
  },
  {
   "cell_type": "code",
   "id": "3ac1186f",
   "metadata": {
    "ExecuteTime": {
     "end_time": "2025-05-20T14:00:18.450842Z",
     "start_time": "2025-05-20T14:00:18.444328Z"
    }
   },
   "source": "titanic.info()",
   "outputs": [
    {
     "name": "stdout",
     "output_type": "stream",
     "text": [
      "<class 'pandas.core.frame.DataFrame'>\n",
      "RangeIndex: 891 entries, 0 to 890\n",
      "Data columns (total 12 columns):\n",
      " #   Column       Non-Null Count  Dtype  \n",
      "---  ------       --------------  -----  \n",
      " 0   PassengerId  891 non-null    int64  \n",
      " 1   Survived     891 non-null    int64  \n",
      " 2   Pclass       891 non-null    int64  \n",
      " 3   Name         891 non-null    object \n",
      " 4   Sex          891 non-null    object \n",
      " 5   Age          714 non-null    float64\n",
      " 6   SibSp        891 non-null    int64  \n",
      " 7   Parch        891 non-null    int64  \n",
      " 8   Ticket       891 non-null    object \n",
      " 9   Fare         891 non-null    float64\n",
      " 10  Cabin        204 non-null    object \n",
      " 11  Embarked     891 non-null    object \n",
      "dtypes: float64(2), int64(5), object(5)\n",
      "memory usage: 83.7+ KB\n"
     ]
    }
   ],
   "execution_count": 75
  },
  {
   "cell_type": "markdown",
   "id": "a62f568e",
   "metadata": {},
   "source": [
    "### Question n°2\n",
    "Il y a 3 colonnes qui sont liées à l'identification unique d'un passager, et ne sont pas pertinentes pour la prédiction de la survie.\n",
    "\n",
    "Supprimez ces 3 colonnes de votre jeu de données."
   ]
  },
  {
   "cell_type": "code",
   "id": "a4b7d99c",
   "metadata": {
    "ExecuteTime": {
     "end_time": "2025-05-20T14:02:07.419779Z",
     "start_time": "2025-05-20T14:02:07.342057Z"
    }
   },
   "source": [
    "titanic.drop(['PassengerId', 'Name', 'Ticket'], axis=1, inplace=True)\n",
    "titanic.info()"
   ],
   "outputs": [
    {
     "ename": "KeyError",
     "evalue": "\"['PassengerId', 'Name', 'Ticket'] not found in axis\"",
     "output_type": "error",
     "traceback": [
      "\u001B[31m---------------------------------------------------------------------------\u001B[39m",
      "\u001B[31mKeyError\u001B[39m                                  Traceback (most recent call last)",
      "\u001B[36mCell\u001B[39m\u001B[36m \u001B[39m\u001B[32mIn[77]\u001B[39m\u001B[32m, line 1\u001B[39m\n\u001B[32m----> \u001B[39m\u001B[32m1\u001B[39m titanic.drop([\u001B[33m'\u001B[39m\u001B[33mPassengerId\u001B[39m\u001B[33m'\u001B[39m, \u001B[33m'\u001B[39m\u001B[33mName\u001B[39m\u001B[33m'\u001B[39m, \u001B[33m'\u001B[39m\u001B[33mTicket\u001B[39m\u001B[33m'\u001B[39m, \u001B[33m'\u001B[39m\u001B[33mCabin\u001B[39m\u001B[33m'\u001B[39m], axis=\u001B[32m1\u001B[39m, inplace=\u001B[38;5;28;01mTrue\u001B[39;00m)\n\u001B[32m      2\u001B[39m titanic.info()\n",
      "\u001B[36mFile \u001B[39m\u001B[32m~\\miniconda3\\Lib\\site-packages\\pandas\\core\\frame.py:5581\u001B[39m, in \u001B[36mDataFrame.drop\u001B[39m\u001B[34m(self, labels, axis, index, columns, level, inplace, errors)\u001B[39m\n\u001B[32m   5433\u001B[39m \u001B[38;5;28;01mdef\u001B[39;00m\u001B[38;5;250m \u001B[39m\u001B[34mdrop\u001B[39m(\n\u001B[32m   5434\u001B[39m     \u001B[38;5;28mself\u001B[39m,\n\u001B[32m   5435\u001B[39m     labels: IndexLabel | \u001B[38;5;28;01mNone\u001B[39;00m = \u001B[38;5;28;01mNone\u001B[39;00m,\n\u001B[32m   (...)\u001B[39m\u001B[32m   5442\u001B[39m     errors: IgnoreRaise = \u001B[33m\"\u001B[39m\u001B[33mraise\u001B[39m\u001B[33m\"\u001B[39m,\n\u001B[32m   5443\u001B[39m ) -> DataFrame | \u001B[38;5;28;01mNone\u001B[39;00m:\n\u001B[32m   5444\u001B[39m \u001B[38;5;250m    \u001B[39m\u001B[33;03m\"\"\"\u001B[39;00m\n\u001B[32m   5445\u001B[39m \u001B[33;03m    Drop specified labels from rows or columns.\u001B[39;00m\n\u001B[32m   5446\u001B[39m \n\u001B[32m   (...)\u001B[39m\u001B[32m   5579\u001B[39m \u001B[33;03m            weight  1.0     0.8\u001B[39;00m\n\u001B[32m   5580\u001B[39m \u001B[33;03m    \"\"\"\u001B[39;00m\n\u001B[32m-> \u001B[39m\u001B[32m5581\u001B[39m     \u001B[38;5;28;01mreturn\u001B[39;00m \u001B[38;5;28msuper\u001B[39m().drop(\n\u001B[32m   5582\u001B[39m         labels=labels,\n\u001B[32m   5583\u001B[39m         axis=axis,\n\u001B[32m   5584\u001B[39m         index=index,\n\u001B[32m   5585\u001B[39m         columns=columns,\n\u001B[32m   5586\u001B[39m         level=level,\n\u001B[32m   5587\u001B[39m         inplace=inplace,\n\u001B[32m   5588\u001B[39m         errors=errors,\n\u001B[32m   5589\u001B[39m     )\n",
      "\u001B[36mFile \u001B[39m\u001B[32m~\\miniconda3\\Lib\\site-packages\\pandas\\core\\generic.py:4788\u001B[39m, in \u001B[36mNDFrame.drop\u001B[39m\u001B[34m(self, labels, axis, index, columns, level, inplace, errors)\u001B[39m\n\u001B[32m   4786\u001B[39m \u001B[38;5;28;01mfor\u001B[39;00m axis, labels \u001B[38;5;129;01min\u001B[39;00m axes.items():\n\u001B[32m   4787\u001B[39m     \u001B[38;5;28;01mif\u001B[39;00m labels \u001B[38;5;129;01mis\u001B[39;00m \u001B[38;5;129;01mnot\u001B[39;00m \u001B[38;5;28;01mNone\u001B[39;00m:\n\u001B[32m-> \u001B[39m\u001B[32m4788\u001B[39m         obj = obj._drop_axis(labels, axis, level=level, errors=errors)\n\u001B[32m   4790\u001B[39m \u001B[38;5;28;01mif\u001B[39;00m inplace:\n\u001B[32m   4791\u001B[39m     \u001B[38;5;28mself\u001B[39m._update_inplace(obj)\n",
      "\u001B[36mFile \u001B[39m\u001B[32m~\\miniconda3\\Lib\\site-packages\\pandas\\core\\generic.py:4830\u001B[39m, in \u001B[36mNDFrame._drop_axis\u001B[39m\u001B[34m(self, labels, axis, level, errors, only_slice)\u001B[39m\n\u001B[32m   4828\u001B[39m         new_axis = axis.drop(labels, level=level, errors=errors)\n\u001B[32m   4829\u001B[39m     \u001B[38;5;28;01melse\u001B[39;00m:\n\u001B[32m-> \u001B[39m\u001B[32m4830\u001B[39m         new_axis = axis.drop(labels, errors=errors)\n\u001B[32m   4831\u001B[39m     indexer = axis.get_indexer(new_axis)\n\u001B[32m   4833\u001B[39m \u001B[38;5;66;03m# Case for non-unique axis\u001B[39;00m\n\u001B[32m   4834\u001B[39m \u001B[38;5;28;01melse\u001B[39;00m:\n",
      "\u001B[36mFile \u001B[39m\u001B[32m~\\miniconda3\\Lib\\site-packages\\pandas\\core\\indexes\\base.py:7070\u001B[39m, in \u001B[36mIndex.drop\u001B[39m\u001B[34m(self, labels, errors)\u001B[39m\n\u001B[32m   7068\u001B[39m \u001B[38;5;28;01mif\u001B[39;00m mask.any():\n\u001B[32m   7069\u001B[39m     \u001B[38;5;28;01mif\u001B[39;00m errors != \u001B[33m\"\u001B[39m\u001B[33mignore\u001B[39m\u001B[33m\"\u001B[39m:\n\u001B[32m-> \u001B[39m\u001B[32m7070\u001B[39m         \u001B[38;5;28;01mraise\u001B[39;00m \u001B[38;5;167;01mKeyError\u001B[39;00m(\u001B[33mf\u001B[39m\u001B[33m\"\u001B[39m\u001B[38;5;132;01m{\u001B[39;00mlabels[mask].tolist()\u001B[38;5;132;01m}\u001B[39;00m\u001B[33m not found in axis\u001B[39m\u001B[33m\"\u001B[39m)\n\u001B[32m   7071\u001B[39m     indexer = indexer[~mask]\n\u001B[32m   7072\u001B[39m \u001B[38;5;28;01mreturn\u001B[39;00m \u001B[38;5;28mself\u001B[39m.delete(indexer)\n",
      "\u001B[31mKeyError\u001B[39m: \"['PassengerId', 'Name', 'Ticket'] not found in axis\""
     ]
    }
   ],
   "execution_count": 77
  },
  {
   "cell_type": "markdown",
   "id": "9126e8f9",
   "metadata": {},
   "source": [
    "### Question n°3\n",
    "Reproduisez une manipulation vue au module 3 :\n",
    "- Combinez 2 colonnes relatives aux familles de passagers (`FamilyMembers`), pour n'en faire plus qu'une seule.\n",
    "- Pensez à supprimer les 2 anciennes colonnes."
   ]
  },
  {
   "cell_type": "code",
   "id": "ad70a5d5",
   "metadata": {
    "scrolled": true,
    "ExecuteTime": {
     "end_time": "2025-05-20T14:03:39.231281Z",
     "start_time": "2025-05-20T14:03:39.160177Z"
    }
   },
   "source": [
    "titanic['FamilyMembers'] = titanic['SibSp'] + titanic['Parch']\n",
    "titanic.drop(['SibSp', 'Parch'], axis=1, inplace=True)\n",
    "\n"
   ],
   "outputs": [
    {
     "ename": "KeyError",
     "evalue": "'SibSp'",
     "output_type": "error",
     "traceback": [
      "\u001B[31m---------------------------------------------------------------------------\u001B[39m",
      "\u001B[31mKeyError\u001B[39m                                  Traceback (most recent call last)",
      "\u001B[36mFile \u001B[39m\u001B[32m~\\miniconda3\\Lib\\site-packages\\pandas\\core\\indexes\\base.py:3805\u001B[39m, in \u001B[36mIndex.get_loc\u001B[39m\u001B[34m(self, key)\u001B[39m\n\u001B[32m   3804\u001B[39m \u001B[38;5;28;01mtry\u001B[39;00m:\n\u001B[32m-> \u001B[39m\u001B[32m3805\u001B[39m     \u001B[38;5;28;01mreturn\u001B[39;00m \u001B[38;5;28mself\u001B[39m._engine.get_loc(casted_key)\n\u001B[32m   3806\u001B[39m \u001B[38;5;28;01mexcept\u001B[39;00m \u001B[38;5;167;01mKeyError\u001B[39;00m \u001B[38;5;28;01mas\u001B[39;00m err:\n",
      "\u001B[36mFile \u001B[39m\u001B[32mindex.pyx:167\u001B[39m, in \u001B[36mpandas._libs.index.IndexEngine.get_loc\u001B[39m\u001B[34m()\u001B[39m\n",
      "\u001B[36mFile \u001B[39m\u001B[32mindex.pyx:196\u001B[39m, in \u001B[36mpandas._libs.index.IndexEngine.get_loc\u001B[39m\u001B[34m()\u001B[39m\n",
      "\u001B[36mFile \u001B[39m\u001B[32mpandas\\\\_libs\\\\hashtable_class_helper.pxi:7081\u001B[39m, in \u001B[36mpandas._libs.hashtable.PyObjectHashTable.get_item\u001B[39m\u001B[34m()\u001B[39m\n",
      "\u001B[36mFile \u001B[39m\u001B[32mpandas\\\\_libs\\\\hashtable_class_helper.pxi:7089\u001B[39m, in \u001B[36mpandas._libs.hashtable.PyObjectHashTable.get_item\u001B[39m\u001B[34m()\u001B[39m\n",
      "\u001B[31mKeyError\u001B[39m: 'SibSp'",
      "\nThe above exception was the direct cause of the following exception:\n",
      "\u001B[31mKeyError\u001B[39m                                  Traceback (most recent call last)",
      "\u001B[36mCell\u001B[39m\u001B[36m \u001B[39m\u001B[32mIn[81]\u001B[39m\u001B[32m, line 1\u001B[39m\n\u001B[32m----> \u001B[39m\u001B[32m1\u001B[39m titanic[\u001B[33m'\u001B[39m\u001B[33mFamilyMembers\u001B[39m\u001B[33m'\u001B[39m] = titanic[\u001B[33m'\u001B[39m\u001B[33mSibSp\u001B[39m\u001B[33m'\u001B[39m] + titanic[\u001B[33m'\u001B[39m\u001B[33mParch\u001B[39m\u001B[33m'\u001B[39m]\n\u001B[32m      2\u001B[39m titanic.drop([\u001B[33m'\u001B[39m\u001B[33mSibSp\u001B[39m\u001B[33m'\u001B[39m, \u001B[33m'\u001B[39m\u001B[33mParch\u001B[39m\u001B[33m'\u001B[39m], axis=\u001B[32m1\u001B[39m, inplace=\u001B[38;5;28;01mTrue\u001B[39;00m)\n",
      "\u001B[36mFile \u001B[39m\u001B[32m~\\miniconda3\\Lib\\site-packages\\pandas\\core\\frame.py:4102\u001B[39m, in \u001B[36mDataFrame.__getitem__\u001B[39m\u001B[34m(self, key)\u001B[39m\n\u001B[32m   4100\u001B[39m \u001B[38;5;28;01mif\u001B[39;00m \u001B[38;5;28mself\u001B[39m.columns.nlevels > \u001B[32m1\u001B[39m:\n\u001B[32m   4101\u001B[39m     \u001B[38;5;28;01mreturn\u001B[39;00m \u001B[38;5;28mself\u001B[39m._getitem_multilevel(key)\n\u001B[32m-> \u001B[39m\u001B[32m4102\u001B[39m indexer = \u001B[38;5;28mself\u001B[39m.columns.get_loc(key)\n\u001B[32m   4103\u001B[39m \u001B[38;5;28;01mif\u001B[39;00m is_integer(indexer):\n\u001B[32m   4104\u001B[39m     indexer = [indexer]\n",
      "\u001B[36mFile \u001B[39m\u001B[32m~\\miniconda3\\Lib\\site-packages\\pandas\\core\\indexes\\base.py:3812\u001B[39m, in \u001B[36mIndex.get_loc\u001B[39m\u001B[34m(self, key)\u001B[39m\n\u001B[32m   3807\u001B[39m     \u001B[38;5;28;01mif\u001B[39;00m \u001B[38;5;28misinstance\u001B[39m(casted_key, \u001B[38;5;28mslice\u001B[39m) \u001B[38;5;129;01mor\u001B[39;00m (\n\u001B[32m   3808\u001B[39m         \u001B[38;5;28misinstance\u001B[39m(casted_key, abc.Iterable)\n\u001B[32m   3809\u001B[39m         \u001B[38;5;129;01mand\u001B[39;00m \u001B[38;5;28many\u001B[39m(\u001B[38;5;28misinstance\u001B[39m(x, \u001B[38;5;28mslice\u001B[39m) \u001B[38;5;28;01mfor\u001B[39;00m x \u001B[38;5;129;01min\u001B[39;00m casted_key)\n\u001B[32m   3810\u001B[39m     ):\n\u001B[32m   3811\u001B[39m         \u001B[38;5;28;01mraise\u001B[39;00m InvalidIndexError(key)\n\u001B[32m-> \u001B[39m\u001B[32m3812\u001B[39m     \u001B[38;5;28;01mraise\u001B[39;00m \u001B[38;5;167;01mKeyError\u001B[39;00m(key) \u001B[38;5;28;01mfrom\u001B[39;00m\u001B[38;5;250m \u001B[39m\u001B[34;01merr\u001B[39;00m\n\u001B[32m   3813\u001B[39m \u001B[38;5;28;01mexcept\u001B[39;00m \u001B[38;5;167;01mTypeError\u001B[39;00m:\n\u001B[32m   3814\u001B[39m     \u001B[38;5;66;03m# If we have a listlike key, _check_indexing_error will raise\u001B[39;00m\n\u001B[32m   3815\u001B[39m     \u001B[38;5;66;03m#  InvalidIndexError. Otherwise we fall through and re-raise\u001B[39;00m\n\u001B[32m   3816\u001B[39m     \u001B[38;5;66;03m#  the TypeError.\u001B[39;00m\n\u001B[32m   3817\u001B[39m     \u001B[38;5;28mself\u001B[39m._check_indexing_error(key)\n",
      "\u001B[31mKeyError\u001B[39m: 'SibSp'"
     ]
    }
   ],
   "execution_count": 81
  },
  {
   "cell_type": "markdown",
   "id": "a96edd21",
   "metadata": {},
   "source": [
    "### Question n°4\n",
    "Parmi les colonnes restantes, sur lesquelles un encodage one-hot vous semble pertinent ?\n",
    "\n",
    "- En vous appuyant sur [la documentation de scikit-learn](https://scikit-learn.org/stable/modules/generated/sklearn.preprocessing.OneHotEncoder.html), appliquez cet encodage aux colonnes identifiées.\n",
    "- Enfin, pensez à supprimer les anciennes colonnes.\n",
    "\n",
    "_Note : pour le genre, il n'y a que 2 possibilités dans ce jeu de données.<br/>Avec l'option `if_binary` de l'encodeur, vous pouvez ne générer qu'une seule colonne (l'autre s'obtenant immédiatement par déduction)._"
   ]
  },
  {
   "cell_type": "code",
   "id": "1316c770",
   "metadata": {
    "ExecuteTime": {
     "end_time": "2025-05-20T13:50:45.345249Z",
     "start_time": "2025-05-20T13:50:45.342238Z"
    }
   },
   "source": [
    "#TODO"
   ],
   "outputs": [],
   "execution_count": 67
  },
  {
   "cell_type": "markdown",
   "id": "439cb51a",
   "metadata": {},
   "source": [
    "### Question n°5\n",
    "Vous devez à présent avoir un jeu de données sur 10 attributs, tous numériques (`int64` ou `float64`), sans aucune valeur nulle.\n",
    "\n",
    "- Enregistrer ce jeu de données au format csv, afin de pouvoir le réutiliser par la suite.\n",
    "\n",
    "_N.B. : Il est inutile de sauvegarder l'index présent dans le DataFrame._"
   ]
  },
  {
   "cell_type": "code",
   "id": "363a15e3",
   "metadata": {
    "ExecuteTime": {
     "end_time": "2025-05-20T13:50:45.414698Z",
     "start_time": "2025-05-20T13:50:45.412191Z"
    }
   },
   "source": [
    "#TODO"
   ],
   "outputs": [],
   "execution_count": 68
  },
  {
   "cell_type": "markdown",
   "id": "91ccfd1f",
   "metadata": {},
   "source": [
    "# Fin du TP !"
   ]
  }
 ],
 "metadata": {
  "kernelspec": {
   "display_name": "Python 3 (ipykernel)",
   "language": "python",
   "name": "python3"
  },
  "language_info": {
   "codemirror_mode": {
    "name": "ipython",
    "version": 3
   },
   "file_extension": ".py",
   "mimetype": "text/x-python",
   "name": "python",
   "nbconvert_exporter": "python",
   "pygments_lexer": "ipython3",
   "version": "3.12.4"
  }
 },
 "nbformat": 4,
 "nbformat_minor": 5
}
