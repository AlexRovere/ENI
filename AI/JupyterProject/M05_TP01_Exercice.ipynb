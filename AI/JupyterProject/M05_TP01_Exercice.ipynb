{
 "cells": [
  {
   "cell_type": "markdown",
   "id": "fd78eddb",
   "metadata": {},
   "source": [
    "# TP n°1 du module 5 : L'apprentissage supervisé dans le _Machine Learning_\n",
    "\n",
    "Dans ce TP, nous allons mettre en pratique les principes de l'apprentissage supervisé. Objectifs :\n",
    "- Préparer des jeux de données pour l'apprentissage supervisé\n",
    "- Entraîner un modèle d'arbre de décision\n",
    "- Evaluer les performances d'un modèle de classification\n",
    "- Entraîner et évaluer un modèle de régression\n",
    "\n",
    "_N.B. : La convention de nommage consiste à utiliser \"X\" en majuscule pour représenter la matrice des caractéristiques (inputs) et \"y\" en minuscule pour représenter le vecteur des réponses (outputs), afin de distinguer les entrées multivariées des cibles généralement unidimensionnelles._ "
   ]
  },
  {
   "cell_type": "code",
   "id": "f423b9af",
   "metadata": {
    "ExecuteTime": {
     "end_time": "2025-05-21T11:45:46.113191Z",
     "start_time": "2025-05-21T11:45:46.109679Z"
    }
   },
   "source": [
    "from statistics import LinearRegression\n",
    "\n",
    "import numpy as np\n",
    "import pandas as pd\n",
    "import matplotlib.pyplot as plt\n",
    "import seaborn as sns\n",
    "from sklearn.datasets import load_diabetes\n",
    "from sklearn.metrics import accuracy_score, confusion_matrix, ConfusionMatrixDisplay\n",
    "from sklearn.model_selection import train_test_split, cross_val_score\n",
    "from sklearn.tree import DecisionTreeClassifier, plot_tree\n",
    "from sklearn.metrics import accuracy_score, precision_score, recall_score, confusion_matrix, ConfusionMatrixDisplay"
   ],
   "outputs": [],
   "execution_count": 111
  },
  {
   "cell_type": "markdown",
   "id": "5baf53df",
   "metadata": {},
   "source": [
    "## Création de modèles de classification pour le Titanic"
   ]
  },
  {
   "cell_type": "markdown",
   "id": "faa07f3f",
   "metadata": {},
   "source": [
    "### Question n°1\n",
    "Commencez par recharger votre jeu de données sur le Titanic, à partir du csv que vous aviez enregistré à la fin du TP du module 4.\n",
    "\n",
    "Ainsi, vous obtenez un jeu de données déjà préparé pour l'apprentissage."
   ]
  },
  {
   "cell_type": "code",
   "id": "fb6a795c",
   "metadata": {
    "ExecuteTime": {
     "end_time": "2025-05-21T11:45:46.154637Z",
     "start_time": "2025-05-21T11:45:46.141264Z"
    }
   },
   "source": [
    "titanic = pd.read_csv(\"Titanic.csv\")\n",
    "titanic"
   ],
   "outputs": [
    {
     "data": {
      "text/plain": [
       "     Survived  Pclass    Age     Fare  FamilyMembers  Sex_male  Embarked_C  \\\n",
       "0           0       3  22.00   7.2500              1       1.0         0.0   \n",
       "1           1       1  38.00  71.2833              1       0.0         1.0   \n",
       "2           1       3  26.00   7.9250              0       0.0         0.0   \n",
       "3           1       1  35.00  53.1000              1       0.0         0.0   \n",
       "4           0       3  35.00   8.0500              0       1.0         0.0   \n",
       "..        ...     ...    ...      ...            ...       ...         ...   \n",
       "886         0       2  27.00  13.0000              0       1.0         0.0   \n",
       "887         1       1  19.00  30.0000              0       0.0         0.0   \n",
       "888         0       3  21.75  23.4500              3       0.0         0.0   \n",
       "889         1       1  26.00  30.0000              0       1.0         1.0   \n",
       "890         0       3  32.00   7.7500              0       1.0         0.0   \n",
       "\n",
       "     Embarked_Q  Embarked_S  Embarked_U  \n",
       "0           0.0         1.0         0.0  \n",
       "1           0.0         0.0         0.0  \n",
       "2           0.0         1.0         0.0  \n",
       "3           0.0         1.0         0.0  \n",
       "4           0.0         1.0         0.0  \n",
       "..          ...         ...         ...  \n",
       "886         0.0         1.0         0.0  \n",
       "887         0.0         1.0         0.0  \n",
       "888         0.0         1.0         0.0  \n",
       "889         0.0         0.0         0.0  \n",
       "890         1.0         0.0         0.0  \n",
       "\n",
       "[891 rows x 10 columns]"
      ],
      "text/html": [
       "<div>\n",
       "<style scoped>\n",
       "    .dataframe tbody tr th:only-of-type {\n",
       "        vertical-align: middle;\n",
       "    }\n",
       "\n",
       "    .dataframe tbody tr th {\n",
       "        vertical-align: top;\n",
       "    }\n",
       "\n",
       "    .dataframe thead th {\n",
       "        text-align: right;\n",
       "    }\n",
       "</style>\n",
       "<table border=\"1\" class=\"dataframe\">\n",
       "  <thead>\n",
       "    <tr style=\"text-align: right;\">\n",
       "      <th></th>\n",
       "      <th>Survived</th>\n",
       "      <th>Pclass</th>\n",
       "      <th>Age</th>\n",
       "      <th>Fare</th>\n",
       "      <th>FamilyMembers</th>\n",
       "      <th>Sex_male</th>\n",
       "      <th>Embarked_C</th>\n",
       "      <th>Embarked_Q</th>\n",
       "      <th>Embarked_S</th>\n",
       "      <th>Embarked_U</th>\n",
       "    </tr>\n",
       "  </thead>\n",
       "  <tbody>\n",
       "    <tr>\n",
       "      <th>0</th>\n",
       "      <td>0</td>\n",
       "      <td>3</td>\n",
       "      <td>22.00</td>\n",
       "      <td>7.2500</td>\n",
       "      <td>1</td>\n",
       "      <td>1.0</td>\n",
       "      <td>0.0</td>\n",
       "      <td>0.0</td>\n",
       "      <td>1.0</td>\n",
       "      <td>0.0</td>\n",
       "    </tr>\n",
       "    <tr>\n",
       "      <th>1</th>\n",
       "      <td>1</td>\n",
       "      <td>1</td>\n",
       "      <td>38.00</td>\n",
       "      <td>71.2833</td>\n",
       "      <td>1</td>\n",
       "      <td>0.0</td>\n",
       "      <td>1.0</td>\n",
       "      <td>0.0</td>\n",
       "      <td>0.0</td>\n",
       "      <td>0.0</td>\n",
       "    </tr>\n",
       "    <tr>\n",
       "      <th>2</th>\n",
       "      <td>1</td>\n",
       "      <td>3</td>\n",
       "      <td>26.00</td>\n",
       "      <td>7.9250</td>\n",
       "      <td>0</td>\n",
       "      <td>0.0</td>\n",
       "      <td>0.0</td>\n",
       "      <td>0.0</td>\n",
       "      <td>1.0</td>\n",
       "      <td>0.0</td>\n",
       "    </tr>\n",
       "    <tr>\n",
       "      <th>3</th>\n",
       "      <td>1</td>\n",
       "      <td>1</td>\n",
       "      <td>35.00</td>\n",
       "      <td>53.1000</td>\n",
       "      <td>1</td>\n",
       "      <td>0.0</td>\n",
       "      <td>0.0</td>\n",
       "      <td>0.0</td>\n",
       "      <td>1.0</td>\n",
       "      <td>0.0</td>\n",
       "    </tr>\n",
       "    <tr>\n",
       "      <th>4</th>\n",
       "      <td>0</td>\n",
       "      <td>3</td>\n",
       "      <td>35.00</td>\n",
       "      <td>8.0500</td>\n",
       "      <td>0</td>\n",
       "      <td>1.0</td>\n",
       "      <td>0.0</td>\n",
       "      <td>0.0</td>\n",
       "      <td>1.0</td>\n",
       "      <td>0.0</td>\n",
       "    </tr>\n",
       "    <tr>\n",
       "      <th>...</th>\n",
       "      <td>...</td>\n",
       "      <td>...</td>\n",
       "      <td>...</td>\n",
       "      <td>...</td>\n",
       "      <td>...</td>\n",
       "      <td>...</td>\n",
       "      <td>...</td>\n",
       "      <td>...</td>\n",
       "      <td>...</td>\n",
       "      <td>...</td>\n",
       "    </tr>\n",
       "    <tr>\n",
       "      <th>886</th>\n",
       "      <td>0</td>\n",
       "      <td>2</td>\n",
       "      <td>27.00</td>\n",
       "      <td>13.0000</td>\n",
       "      <td>0</td>\n",
       "      <td>1.0</td>\n",
       "      <td>0.0</td>\n",
       "      <td>0.0</td>\n",
       "      <td>1.0</td>\n",
       "      <td>0.0</td>\n",
       "    </tr>\n",
       "    <tr>\n",
       "      <th>887</th>\n",
       "      <td>1</td>\n",
       "      <td>1</td>\n",
       "      <td>19.00</td>\n",
       "      <td>30.0000</td>\n",
       "      <td>0</td>\n",
       "      <td>0.0</td>\n",
       "      <td>0.0</td>\n",
       "      <td>0.0</td>\n",
       "      <td>1.0</td>\n",
       "      <td>0.0</td>\n",
       "    </tr>\n",
       "    <tr>\n",
       "      <th>888</th>\n",
       "      <td>0</td>\n",
       "      <td>3</td>\n",
       "      <td>21.75</td>\n",
       "      <td>23.4500</td>\n",
       "      <td>3</td>\n",
       "      <td>0.0</td>\n",
       "      <td>0.0</td>\n",
       "      <td>0.0</td>\n",
       "      <td>1.0</td>\n",
       "      <td>0.0</td>\n",
       "    </tr>\n",
       "    <tr>\n",
       "      <th>889</th>\n",
       "      <td>1</td>\n",
       "      <td>1</td>\n",
       "      <td>26.00</td>\n",
       "      <td>30.0000</td>\n",
       "      <td>0</td>\n",
       "      <td>1.0</td>\n",
       "      <td>1.0</td>\n",
       "      <td>0.0</td>\n",
       "      <td>0.0</td>\n",
       "      <td>0.0</td>\n",
       "    </tr>\n",
       "    <tr>\n",
       "      <th>890</th>\n",
       "      <td>0</td>\n",
       "      <td>3</td>\n",
       "      <td>32.00</td>\n",
       "      <td>7.7500</td>\n",
       "      <td>0</td>\n",
       "      <td>1.0</td>\n",
       "      <td>0.0</td>\n",
       "      <td>1.0</td>\n",
       "      <td>0.0</td>\n",
       "      <td>0.0</td>\n",
       "    </tr>\n",
       "  </tbody>\n",
       "</table>\n",
       "<p>891 rows × 10 columns</p>\n",
       "</div>"
      ]
     },
     "execution_count": 112,
     "metadata": {},
     "output_type": "execute_result"
    }
   ],
   "execution_count": 112
  },
  {
   "cell_type": "markdown",
   "id": "ca2175c6",
   "metadata": {},
   "source": [
    "### Question n°2\n",
    "- Séparer vos données en mettant d'un côté les attributs, de l'autre la cible à prédire.\n",
    "\n",
    "- Ensuite, séparer encore ces groupes entre entraînement et test (proportion : 80% entrainement et 20 de test)"
   ]
  },
  {
   "cell_type": "code",
   "id": "eaf3faeb",
   "metadata": {
    "ExecuteTime": {
     "end_time": "2025-05-21T11:45:46.226847Z",
     "start_time": "2025-05-21T11:45:46.217325Z"
    }
   },
   "source": [
    "X = titanic.drop(['Survived'], axis=1)\n",
    "y = titanic['Survived']\n",
    "\n",
    "X_train, X_test, y_train, y_test = train_test_split(X, y, test_size=0.2)\n",
    "\n",
    "print(X_train)"
   ],
   "outputs": [
    {
     "name": "stdout",
     "output_type": "stream",
     "text": [
      "     Pclass        Age      Fare  FamilyMembers  Sex_male  Embarked_C  \\\n",
      "525       3  40.500000    7.7500              0       1.0         0.0   \n",
      "642       3   2.000000   27.9000              5       0.0         0.0   \n",
      "333       3  16.000000   18.0000              2       1.0         0.0   \n",
      "31        1  34.611765  146.5208              1       0.0         1.0   \n",
      "465       3  38.000000    7.0500              0       1.0         0.0   \n",
      "..      ...        ...       ...            ...       ...         ...   \n",
      "577       1  39.000000   55.9000              1       0.0         0.0   \n",
      "458       2  50.000000   10.5000              0       0.0         0.0   \n",
      "407       2   3.000000   18.7500              2       1.0         0.0   \n",
      "212       3  22.000000    7.2500              0       1.0         0.0   \n",
      "205       3   2.000000   10.4625              1       0.0         0.0   \n",
      "\n",
      "     Embarked_Q  Embarked_S  Embarked_U  \n",
      "525         1.0         0.0         0.0  \n",
      "642         0.0         1.0         0.0  \n",
      "333         0.0         1.0         0.0  \n",
      "31          0.0         0.0         0.0  \n",
      "465         0.0         1.0         0.0  \n",
      "..          ...         ...         ...  \n",
      "577         0.0         1.0         0.0  \n",
      "458         0.0         1.0         0.0  \n",
      "407         0.0         1.0         0.0  \n",
      "212         0.0         1.0         0.0  \n",
      "205         0.0         1.0         0.0  \n",
      "\n",
      "[712 rows x 9 columns]\n"
     ]
    }
   ],
   "execution_count": 113
  },
  {
   "cell_type": "markdown",
   "id": "0fffa149",
   "metadata": {},
   "source": [
    "### Question n°3\n",
    "- Créez un arbre de décision, sans option particulière pour l'instant.\n",
    "- Entraînez-le, puis évaluez-le à l'aide de l'accuracy, sur les jeux de données crées ci-dessus.\n",
    "- Comparez ce score avec le score moyen obtenu en effectuant une validation croisée sur l'ensemble du jeu de données."
   ]
  },
  {
   "cell_type": "code",
   "id": "75244332",
   "metadata": {
    "ExecuteTime": {
     "end_time": "2025-05-21T11:45:46.367133Z",
     "start_time": "2025-05-21T11:45:46.338654Z"
    }
   },
   "source": [
    "# Entrainement\n",
    "model = DecisionTreeClassifier()\n",
    "model.fit(X_train, y_train)\n",
    "\n",
    "# print(\"Accuracy : \", np.round(tree_score(X_test, y_test), 2))\n",
    "\n",
    "print(\"Croised : \" , np.round(np.mean(cross_val_score(model, X, y, cv=5)), 2))\n"
   ],
   "outputs": [
    {
     "name": "stdout",
     "output_type": "stream",
     "text": [
      "Croised :  0.78\n"
     ]
    }
   ],
   "execution_count": 114
  },
  {
   "cell_type": "markdown",
   "id": "949b2215",
   "metadata": {},
   "source": [
    "### Question n°4\n",
    "- Calculer également la _précision_ et le _rappel_.\n",
    "- Cherchez notamment dans la documentation comment indiquer laquelle des deux classes considérer comme la classe positive.\n",
    "- Quelles observations pouvez-vous faire ?"
   ]
  },
  {
   "cell_type": "code",
   "id": "21576d9a",
   "metadata": {
    "ExecuteTime": {
     "end_time": "2025-05-21T11:45:46.458938Z",
     "start_time": "2025-05-21T11:45:46.448913Z"
    }
   },
   "source": [
    "# Evaluation\n",
    "y_pred = model.predict(X_test)\n",
    "\n",
    "precision = precision_score(y_test, y_pred, average='binary', pos_label=1)\n",
    "print(\"Precision : \", np.round(precision, 2))\n",
    "\n",
    "rappel = recall_score(y_test, y_pred, average='binary', pos_label=1)\n",
    "print(\"Rappel : \", np.round(rappel, 2))\n"
   ],
   "outputs": [
    {
     "name": "stdout",
     "output_type": "stream",
     "text": [
      "Precision :  0.69\n",
      "Rappel :  0.64\n"
     ]
    }
   ],
   "execution_count": 115
  },
  {
   "cell_type": "markdown",
   "id": "43b14d19",
   "metadata": {},
   "source": [
    "**Observations :** il n'y a pas d'écart important entre accuracy, précision et rappel. Il semble donc qu'il n'y ait pas de déséquilibre notable au niveau des prédictions."
   ]
  },
  {
   "cell_type": "markdown",
   "id": "4ebfa508",
   "metadata": {},
   "source": [
    "### Question n°5\n",
    "- Afficher la matrice de confusion pour cet arbre de décision, sur le jeu de test.\n",
    "- Commencez par simplement l'afficher de manière textuelle, puis travailler votre affichage à l'aide de _Matplotlib_, afin d'ajouter des couleurs relatives au nombre d'éléments dans chaque case de la matrice."
   ]
  },
  {
   "cell_type": "code",
   "id": "0eadce28",
   "metadata": {
    "ExecuteTime": {
     "end_time": "2025-05-21T11:45:46.517115Z",
     "start_time": "2025-05-21T11:45:46.512601Z"
    }
   },
   "source": [
    "confusion = confusion_matrix(y_test, y_pred)\n",
    "print(\"Confusion : \", confusion)"
   ],
   "outputs": [
    {
     "name": "stdout",
     "output_type": "stream",
     "text": [
      "Confusion :  [[89 20]\n",
      " [25 45]]\n"
     ]
    }
   ],
   "execution_count": 116
  },
  {
   "cell_type": "code",
   "id": "68993a30",
   "metadata": {
    "ExecuteTime": {
     "end_time": "2025-05-21T11:45:46.781208Z",
     "start_time": "2025-05-21T11:45:46.606761Z"
    }
   },
   "source": [
    "ConfusionMatrixDisplay.from_estimator(model, X_test, y_test, cmap=plt.cm.Blues, display_labels=['Died', 'Survived'])\n",
    "plt.show()"
   ],
   "outputs": [
    {
     "data": {
      "text/plain": [
       "<Figure size 640x480 with 2 Axes>"
      ],
      "image/png": "[encoded data removed]"
     },
     "metadata": {},
     "output_type": "display_data"
    }
   ],
   "execution_count": 117
  },
  {
   "cell_type": "markdown",
   "id": "35152af4",
   "metadata": {},
   "source": [
    "### Question n°6\n",
    "- Quelle est la profondeur de l'arbre de décision que vous avez créé ?"
   ]
  },
  {
   "cell_type": "code",
   "id": "8e11c4ce",
   "metadata": {
    "ExecuteTime": {
     "end_time": "2025-05-21T11:45:46.817202Z",
     "start_time": "2025-05-21T11:45:46.814430Z"
    }
   },
   "source": "print(model.tree_.max_depth)",
   "outputs": [
    {
     "name": "stdout",
     "output_type": "stream",
     "text": [
      "17\n"
     ]
    }
   ],
   "execution_count": 118
  },
  {
   "cell_type": "markdown",
   "id": "81749549",
   "metadata": {},
   "source": [
    "### Question n°7\n",
    "Créer un 2e arbre de décision, en limitant sa profondeur à 3 niveaux.\n",
    "\n",
    "Affichez son accuracy sur les données de test :\n",
    "- Que constatez-vous ?\n",
    "- Comment pouvez-vous l'expliquer ?"
   ]
  },
  {
   "cell_type": "code",
   "id": "37d8da95",
   "metadata": {
    "ExecuteTime": {
     "end_time": "2025-05-21T11:45:46.869169Z",
     "start_time": "2025-05-21T11:45:46.862652Z"
    }
   },
   "source": [
    "tree_3_depth = DecisionTreeClassifier(max_depth=3)\n",
    "tree_3_depth.fit(X_train, y_train)\n",
    "\n",
    "y_pred = tree_3_depth.predict(X_test)\n",
    "\n",
    "scores_accuracy = accuracy_score(y_test, y_pred)\n",
    "print(\"Accuracy : \", np.mean(scores_accuracy))"
   ],
   "outputs": [
    {
     "name": "stdout",
     "output_type": "stream",
     "text": [
      "Accuracy :  0.7486033519553073\n"
     ]
    }
   ],
   "execution_count": 119
  },
  {
   "cell_type": "markdown",
   "id": "a6a60fc7",
   "metadata": {},
   "source": [
    "**Observation :** en limitant (artificiellement) la profondeur de l'arbre, le score augmente !<br/>\n",
    "Cela est dû au fait que limiter la profondeur de l'arbre permet d'éviter un phénomène de _surapprentissage_."
   ]
  },
  {
   "cell_type": "markdown",
   "id": "fa541c9a",
   "metadata": {},
   "source": [
    "### Question n°8\n",
    "Visualisez ce nouvel arbre de décision :\n",
    "- Prenez garde à bien faire apparaître les labels du jeu de données,\n",
    "- Remplacez les valeurs 0 et 1 par des labels textuels de votre choix (ex : 'Died' et 'Survived').\n",
    "\n",
    "- Quelles observations pouvez-vous faire sur ce nouvel arbre ?\n",
    "- Les décisions vous paraissent-elles cohérentes avec l'analyse des données faites dans le module 4 ?"
   ]
  },
  {
   "cell_type": "code",
   "id": "3db9ec07",
   "metadata": {
    "ExecuteTime": {
     "end_time": "2025-05-21T11:45:47.232915Z",
     "start_time": "2025-05-21T11:45:46.902778Z"
    }
   },
   "source": [
    "\n",
    "fig = plt.figure(figsize=(10,10))\n",
    "plot_tree(tree_3_depth, filled=True, feature_names=X.columns)"
   ],
   "outputs": [
    {
     "data": {
      "text/plain": [
       "[Text(0.5, 0.875, 'Sex_male <= 0.5\\ngini = 0.472\\nsamples = 712\\nvalue = [440.0, 272.0]'),\n",
       " Text(0.25, 0.625, 'Pclass <= 2.5\\ngini = 0.376\\nsamples = 255\\nvalue = [64, 191]'),\n",
       " Text(0.375, 0.75, 'True  '),\n",
       " Text(0.125, 0.375, 'Age <= 2.5\\ngini = 0.096\\nsamples = 138\\nvalue = [7, 131]'),\n",
       " Text(0.0625, 0.125, 'gini = 0.5\\nsamples = 2\\nvalue = [1, 1]'),\n",
       " Text(0.1875, 0.125, 'gini = 0.084\\nsamples = 136\\nvalue = [6, 130]'),\n",
       " Text(0.375, 0.375, 'FamilyMembers <= 3.5\\ngini = 0.5\\nsamples = 117\\nvalue = [57.0, 60.0]'),\n",
       " Text(0.3125, 0.125, 'gini = 0.473\\nsamples = 94\\nvalue = [36, 58]'),\n",
       " Text(0.4375, 0.125, 'gini = 0.159\\nsamples = 23\\nvalue = [21, 2]'),\n",
       " Text(0.75, 0.625, 'Pclass <= 1.5\\ngini = 0.292\\nsamples = 457\\nvalue = [376, 81]'),\n",
       " Text(0.625, 0.75, '  False'),\n",
       " Text(0.625, 0.375, 'Age <= 36.5\\ngini = 0.476\\nsamples = 95\\nvalue = [58, 37]'),\n",
       " Text(0.5625, 0.125, 'gini = 0.475\\nsamples = 36\\nvalue = [14, 22]'),\n",
       " Text(0.6875, 0.125, 'gini = 0.379\\nsamples = 59\\nvalue = [44, 15]'),\n",
       " Text(0.875, 0.375, 'Age <= 6.5\\ngini = 0.214\\nsamples = 362\\nvalue = [318, 44]'),\n",
       " Text(0.8125, 0.125, 'gini = 0.457\\nsamples = 17\\nvalue = [6, 11]'),\n",
       " Text(0.9375, 0.125, 'gini = 0.173\\nsamples = 345\\nvalue = [312, 33]')]"
      ]
     },
     "execution_count": 120,
     "metadata": {},
     "output_type": "execute_result"
    },
    {
     "data": {
      "text/plain": [
       "<Figure size 1000x1000 with 1 Axes>"
      ],
      "image/png": "[encoded data removed]"
     },
     "metadata": {},
     "output_type": "display_data"
    }
   ],
   "execution_count": 120
  },
  {
   "cell_type": "markdown",
   "id": "e5562441-71b3-429b-9fbb-02daed9f5821",
   "metadata": {},
   "source": [
    "### Question n°9\n",
    "Vous allez à présent comparer les performances d'arbre de profondeurs différentes.\n",
    "- Créez différents arbres, en faisant varier la profondeur entre 1 et la profondeur trouvée à la question n°6.\n",
    "- Pour chaque arbre, calculer son score (accuracy) à l'aide d'une validation croisée à 5 feuilles.\n",
    "- Sur un graphique, représentez l'évolution du score en fonction de la profondeur de l'arbre.\n",
    "\n",
    "- Affichez également la profondeur pour lequel le score est maximal.\n",
    "- Qu'observez-vous ?"
   ]
  },
  {
   "cell_type": "code",
   "id": "359409ab-eae6-4f28-a8a6-5ab2824f78bd",
   "metadata": {
    "ExecuteTime": {
     "end_time": "2025-05-21T11:45:47.239299Z",
     "start_time": "2025-05-21T11:45:47.236425Z"
    }
   },
   "source": "scores = []",
   "outputs": [],
   "execution_count": 121
  },
  {
   "cell_type": "markdown",
   "id": "14bb73c3",
   "metadata": {},
   "source": [
    "#### Observations :\n",
    "⚠️Attention au caractère aléatoire de la construction d'un arbre (_DecisionTreeClassifier_) !\n",
    "\n",
    "`à compléter`"
   ]
  },
  {
   "cell_type": "markdown",
   "id": "906f7111",
   "metadata": {},
   "source": [
    "### Question n°10\n",
    "Comparez les valeurs de paramètres possible pour le critère pouvant être utilisé dans la construction d'un arbre de décision :\n",
    "- Identifier les paramètres de `criterion` (coefficient de _gini_, mesure d'entropie, …)\n",
    "- Utiliser la profondeur de l'arbre déduite dans la question n°9 (`prof_max`),\n",
    "- Calculer une validation croisée pour chaque arbre\n",
    "\n",
    "- Affichez sur un histogramme les valeurs moyennes obtenues.\n",
    "- Observez-vous un critère qui se détache des autres par ses performances pour ce jeu de données ?"
   ]
  },
  {
   "cell_type": "code",
   "id": "bdfe567e",
   "metadata": {
    "ExecuteTime": {
     "end_time": "2025-05-21T11:45:47.281921Z",
     "start_time": "2025-05-21T11:45:47.279410Z"
    }
   },
   "source": [
    "#TODO"
   ],
   "outputs": [],
   "execution_count": 122
  },
  {
   "cell_type": "markdown",
   "id": "0e718e4d",
   "metadata": {},
   "source": [
    "## Observations :\n",
    "`à compléter`"
   ]
  },
  {
   "cell_type": "markdown",
   "id": "3819b10a",
   "metadata": {},
   "source": [
    "## Créer un modèle de regression\n",
    "\n",
    "Pour tester le concept de modèle de régression, nous ne pouvons pas utiliser le jeu de données sur le Titanic.<br/>À la place, nous allons nous intéresser à un jeu de données présentant l'évolution de la maladie chez des patients diabétiques.\n",
    "\n",
    "L'objectif sera de prédire l'évolution de la maladie en un an, en se basant sur des données mesurées un an avant.<br/>Ce jeu de données est directement disponible via la librairie _Scikit-Learn_. (Documentation : [sklearn.datasets.load_diabetes](https://scikit-learn.org/stable/modules/generated/sklearn.datasets.load_diabetes.html))\n",
    "\n",
    "_N.B. : Tous les attributs **ont déjà été normalisées**, afin de permettre aux modèles d'être plus efficaces, et de traiter chaque attribut de manière plus équilibrée._\n",
    "\n",
    "| N° | Attribut | Explications                         |\n",
    "|----|----------|--------------------------------------|\n",
    "| 1  | age      | Âge normalisé des patients.          |\n",
    "| 2  | sex      | Sexe normalisé des patients.         |\n",
    "| 3  | bmi      | Indice de masse corporelle (BMI), indicateur du surpoids. |\n",
    "| 4  | bp       | Pression sanguine moyenne (Blood Pressure). |\n",
    "| 5  | s1       | Taux de cholestérol total normalisé. |\n",
    "| 6  | s2       | Taux de lipoprotéines de basse densité (LDL). |\n",
    "| 7  | s3       | Taux de lipoprotéines de haute densité (HDL). |\n",
    "| 8  | s4       | Concentration de triglycérides normalisée. |\n",
    "| 9  | s5       | Concentration de glycémie (Glucose) dans le sang. |\n",
    "| 10 | s6       | Taux de globulines, marqueur de fonction hépatique. |"
   ]
  },
  {
   "cell_type": "markdown",
   "id": "f8bf1f7a",
   "metadata": {},
   "source": [
    "### Question n°1\n",
    "Après avoir consulté la documentation :\n",
    "- Commencez par charger les données dans 2 _DataFrames_ séparés,\n",
    "    - un pour les attributs,\n",
    "    - l'autre pour la cible à prédire (réponses)."
   ]
  },
  {
   "cell_type": "code",
   "id": "39d7c581",
   "metadata": {
    "ExecuteTime": {
     "end_time": "2025-05-21T11:45:47.321548Z",
     "start_time": "2025-05-21T11:45:47.313523Z"
    }
   },
   "source": "diabetes_X, diabetes_y = load_diabetes(return_X_y=True, as_frame=True)",
   "outputs": [],
   "execution_count": 123
  },
  {
   "cell_type": "markdown",
   "id": "971982f5",
   "metadata": {},
   "source": [
    "### Question n°2\n",
    "- Affichez les premières lignes des attributs.\n",
    "- Avez-vous bien repéré contenant la valeur à prédire ?\n",
    "- Avez-vous bien identifié le DataFrame contenant la variable cible à prédire ?"
   ]
  },
  {
   "cell_type": "code",
   "id": "3a508658",
   "metadata": {
    "ExecuteTime": {
     "end_time": "2025-05-21T11:45:47.353222Z",
     "start_time": "2025-05-21T11:45:47.344345Z"
    }
   },
   "source": "diabetes_X.head()",
   "outputs": [
    {
     "data": {
      "text/plain": [
       "        age       sex       bmi        bp        s1        s2        s3  \\\n",
       "0  0.038076  0.050680  0.061696  0.021872 -0.044223 -0.034821 -0.043401   \n",
       "1 -0.001882 -0.044642 -0.051474 -0.026328 -0.008449 -0.019163  0.074412   \n",
       "2  0.085299  0.050680  0.044451 -0.005670 -0.045599 -0.034194 -0.032356   \n",
       "3 -0.089063 -0.044642 -0.011595 -0.036656  0.012191  0.024991 -0.036038   \n",
       "4  0.005383 -0.044642 -0.036385  0.021872  0.003935  0.015596  0.008142   \n",
       "\n",
       "         s4        s5        s6  \n",
       "0 -0.002592  0.019907 -0.017646  \n",
       "1 -0.039493 -0.068332 -0.092204  \n",
       "2 -0.002592  0.002861 -0.025930  \n",
       "3  0.034309  0.022688 -0.009362  \n",
       "4 -0.002592 -0.031988 -0.046641  "
      ],
      "text/html": [
       "<div>\n",
       "<style scoped>\n",
       "    .dataframe tbody tr th:only-of-type {\n",
       "        vertical-align: middle;\n",
       "    }\n",
       "\n",
       "    .dataframe tbody tr th {\n",
       "        vertical-align: top;\n",
       "    }\n",
       "\n",
       "    .dataframe thead th {\n",
       "        text-align: right;\n",
       "    }\n",
       "</style>\n",
       "<table border=\"1\" class=\"dataframe\">\n",
       "  <thead>\n",
       "    <tr style=\"text-align: right;\">\n",
       "      <th></th>\n",
       "      <th>age</th>\n",
       "      <th>sex</th>\n",
       "      <th>bmi</th>\n",
       "      <th>bp</th>\n",
       "      <th>s1</th>\n",
       "      <th>s2</th>\n",
       "      <th>s3</th>\n",
       "      <th>s4</th>\n",
       "      <th>s5</th>\n",
       "      <th>s6</th>\n",
       "    </tr>\n",
       "  </thead>\n",
       "  <tbody>\n",
       "    <tr>\n",
       "      <th>0</th>\n",
       "      <td>0.038076</td>\n",
       "      <td>0.050680</td>\n",
       "      <td>0.061696</td>\n",
       "      <td>0.021872</td>\n",
       "      <td>-0.044223</td>\n",
       "      <td>-0.034821</td>\n",
       "      <td>-0.043401</td>\n",
       "      <td>-0.002592</td>\n",
       "      <td>0.019907</td>\n",
       "      <td>-0.017646</td>\n",
       "    </tr>\n",
       "    <tr>\n",
       "      <th>1</th>\n",
       "      <td>-0.001882</td>\n",
       "      <td>-0.044642</td>\n",
       "      <td>-0.051474</td>\n",
       "      <td>-0.026328</td>\n",
       "      <td>-0.008449</td>\n",
       "      <td>-0.019163</td>\n",
       "      <td>0.074412</td>\n",
       "      <td>-0.039493</td>\n",
       "      <td>-0.068332</td>\n",
       "      <td>-0.092204</td>\n",
       "    </tr>\n",
       "    <tr>\n",
       "      <th>2</th>\n",
       "      <td>0.085299</td>\n",
       "      <td>0.050680</td>\n",
       "      <td>0.044451</td>\n",
       "      <td>-0.005670</td>\n",
       "      <td>-0.045599</td>\n",
       "      <td>-0.034194</td>\n",
       "      <td>-0.032356</td>\n",
       "      <td>-0.002592</td>\n",
       "      <td>0.002861</td>\n",
       "      <td>-0.025930</td>\n",
       "    </tr>\n",
       "    <tr>\n",
       "      <th>3</th>\n",
       "      <td>-0.089063</td>\n",
       "      <td>-0.044642</td>\n",
       "      <td>-0.011595</td>\n",
       "      <td>-0.036656</td>\n",
       "      <td>0.012191</td>\n",
       "      <td>0.024991</td>\n",
       "      <td>-0.036038</td>\n",
       "      <td>0.034309</td>\n",
       "      <td>0.022688</td>\n",
       "      <td>-0.009362</td>\n",
       "    </tr>\n",
       "    <tr>\n",
       "      <th>4</th>\n",
       "      <td>0.005383</td>\n",
       "      <td>-0.044642</td>\n",
       "      <td>-0.036385</td>\n",
       "      <td>0.021872</td>\n",
       "      <td>0.003935</td>\n",
       "      <td>0.015596</td>\n",
       "      <td>0.008142</td>\n",
       "      <td>-0.002592</td>\n",
       "      <td>-0.031988</td>\n",
       "      <td>-0.046641</td>\n",
       "    </tr>\n",
       "  </tbody>\n",
       "</table>\n",
       "</div>"
      ]
     },
     "execution_count": 124,
     "metadata": {},
     "output_type": "execute_result"
    }
   ],
   "execution_count": 124
  },
  {
   "cell_type": "markdown",
   "id": "6327af11-e367-4f9c-b9bd-8ce8cef889d0",
   "metadata": {},
   "source": [
    "Par défaut, les données sont chargées normalisées.<br/>\n",
    "_N.B. : Une fois normalisé avec une moyenne de 0 et une variance de 1, l'attribut devient une variable continue, avec des valeurs positives ou négatives qui indiquent la distance par rapport à la moyenne de l'échantillon. Cela permet de traiter cette caractéristique de manière cohérente avec les autres attributs du dataset lors de l'entraînement des modèles._"
   ]
  },
  {
   "cell_type": "code",
   "id": "1c4b7ddc-ebe3-44b0-8294-2037db245a02",
   "metadata": {
    "ExecuteTime": {
     "end_time": "2025-05-21T11:45:53.905983Z",
     "start_time": "2025-05-21T11:45:53.882933Z"
    }
   },
   "source": [
    "X_train, X_test, y_train, y_test = train_test_split(diabetes_X, diabetes_y, test_size=0.2)\n",
    "\n",
    "regressor = LinearRegression()\n",
    "regressor.fit(X_train, y_train)"
   ],
   "outputs": [
    {
     "ename": "TypeError",
     "evalue": "LinearRegression.__new__() missing 2 required positional arguments: 'slope' and 'intercept'",
     "output_type": "error",
     "traceback": [
      "\u001B[31m---------------------------------------------------------------------------\u001B[39m",
      "\u001B[31mTypeError\u001B[39m                                 Traceback (most recent call last)",
      "\u001B[36mCell\u001B[39m\u001B[36m \u001B[39m\u001B[32mIn[126]\u001B[39m\u001B[32m, line 3\u001B[39m\n\u001B[32m      1\u001B[39m X_train, X_test, y_train, y_test = train_test_split(diabetes_X, diabetes_y, test_size=\u001B[32m0.2\u001B[39m)\n\u001B[32m----> \u001B[39m\u001B[32m3\u001B[39m regressor = LinearRegression()\n\u001B[32m      4\u001B[39m regressor.fit(X_train, y_train)\n",
      "\u001B[31mTypeError\u001B[39m: LinearRegression.__new__() missing 2 required positional arguments: 'slope' and 'intercept'"
     ]
    }
   ],
   "execution_count": 126
  },
  {
   "cell_type": "markdown",
   "id": "995a7448-65e8-47ca-83f3-69c6adf99693",
   "metadata": {},
   "source": [
    "La nature des données du _Dataframe_ `diabetes_y` contient des valeurs numériques continues représentant la progression de la maladie diabétique.\n",
    "- Ces valeurs peuvent être interprétées comme des scores de progression de la maladie."
   ]
  },
  {
   "cell_type": "markdown",
   "id": "9530d95f",
   "metadata": {},
   "source": [
    "### Question n°3\n",
    "Commencez par effectuer une régression linéaire, en prenant bien soin d'avoir des données d'entraînement et de test.\n",
    "- Quelle erreur quadratique moyenne obtenez-vous ?\n",
    "- Comment analysez-vous ce résultat ?"
   ]
  },
  {
   "cell_type": "code",
   "id": "893349de-4ffc-416c-981b-c35d68d33bd7",
   "metadata": {
    "ExecuteTime": {
     "end_time": "2025-05-21T11:45:47.468575Z",
     "start_time": "2025-05-21T11:43:50.644768Z"
    }
   },
   "source": [
    "#TODO"
   ],
   "outputs": [],
   "execution_count": 82
  },
  {
   "cell_type": "markdown",
   "id": "3769ce6f-de7f-416d-9bff-45bd9430a269",
   "metadata": {},
   "source": [
    "#### Analyse du MSE / variations\n",
    "`à compléter`\n"
   ]
  },
  {
   "cell_type": "markdown",
   "id": "9e99bcc0",
   "metadata": {},
   "source": [
    "### Question n°4\n",
    "Faites une représentation graphique des données réelles par rapport aux données prédites par le modèle :\n",
    "- Pour chaque attribut, représentez graphiquement les valeurs sur l'abscisse, et l'évolution de la maladie (réelle et prédite) sur les ordonnées.\n",
    "\n",
    "- Colorez différemment les données en fonction de si elles sont réelles ou prédites."
   ]
  },
  {
   "cell_type": "code",
   "id": "dd1f38e6",
   "metadata": {
    "ExecuteTime": {
     "end_time": "2025-05-21T11:45:47.493273700Z",
     "start_time": "2025-05-21T11:43:50.674844Z"
    }
   },
   "source": [
    "#TODO"
   ],
   "outputs": [],
   "execution_count": 83
  },
  {
   "cell_type": "markdown",
   "id": "cca8ad81",
   "metadata": {},
   "source": [
    "### Question n°5\n",
    "Sur un seul graphe, affichez les valeurs prédites en fonction des valeurs réelles.\n",
    "- Tracez également la droite d'équation _y=x_\n",
    "\n",
    "- Quelles observations faites-vous ?"
   ]
  },
  {
   "cell_type": "code",
   "id": "36cc6ccc",
   "metadata": {
    "ExecuteTime": {
     "end_time": "2025-05-21T11:45:47.522214600Z",
     "start_time": "2025-05-21T11:43:50.698918Z"
    }
   },
   "source": [
    "#TODO"
   ],
   "outputs": [],
   "execution_count": 84
  },
  {
   "cell_type": "markdown",
   "id": "5bb1ee37-a839-4ddd-aa9c-720498a214d9",
   "metadata": {},
   "source": [
    "#### Observations\n",
    "`à compléter`"
   ]
  },
  {
   "cell_type": "markdown",
   "id": "cd4c4dc8",
   "metadata": {},
   "source": [
    "### Question n°6\n",
    "Pour une régression linéaire, les valeurs sur les attributs sont cruciales.\n",
    "\n",
    "_N.B. : Par défaut lorsque vous avez chargé vos données avec Scikit-learn, celles-ci était normalisées._\n",
    "\n",
    "- Rechargez-les en ajoutant l'option pour obtenir les données brutes.\n",
    "- Affichez les premières lignes du dataset pour constater les différences de plage de valeurs."
   ]
  },
  {
   "cell_type": "code",
   "id": "07d7fce8",
   "metadata": {
    "ExecuteTime": {
     "end_time": "2025-05-21T11:45:47.524215100Z",
     "start_time": "2025-05-21T11:43:50.738556Z"
    }
   },
   "source": [
    "#TODO"
   ],
   "outputs": [],
   "execution_count": 85
  },
  {
   "cell_type": "markdown",
   "id": "655bd7ea",
   "metadata": {},
   "source": [
    "### Question n°7\n",
    "- Réentraînez un modèle de régression linéaire sur ces données non normalisées?\n",
    "\n",
    "- Que constatez-vous ?"
   ]
  },
  {
   "cell_type": "code",
   "id": "f8abe97f-56e5-44c8-9058-6ae0db9eb753",
   "metadata": {
    "ExecuteTime": {
     "end_time": "2025-05-21T11:45:47.544266200Z",
     "start_time": "2025-05-21T11:43:50.767129Z"
    }
   },
   "source": [
    "#TODO"
   ],
   "outputs": [],
   "execution_count": 86
  },
  {
   "cell_type": "markdown",
   "id": "3f9fcf55",
   "metadata": {},
   "source": [
    "### Question n°8\n",
    "Proposez des modèles de régression polynomiale :\n",
    "- Tester plusieurs degrés de polynôme, entre 1 et 10.\n",
    "\n",
    "Pour chacun, calculez le score obtenu, et affichez-le.\n",
    "- Représentez graphiquement l'évolution de l'erreur quadratique moyenne en fonction du degré du polynôme.\n",
    "\n",
    "**⚠️Attention :** Pour cette partie, réfléchissez aux données que vous voulez utiliser (normalisées ou non ?)"
   ]
  },
  {
   "cell_type": "code",
   "id": "d8877d23",
   "metadata": {
    "ExecuteTime": {
     "end_time": "2025-05-21T11:45:47.546774100Z",
     "start_time": "2025-05-21T11:43:50.795560Z"
    }
   },
   "source": [
    "#TODO"
   ],
   "outputs": [],
   "execution_count": 87
  },
  {
   "cell_type": "code",
   "id": "05d7bf91",
   "metadata": {
    "ExecuteTime": {
     "end_time": "2025-05-21T11:45:47.547774500Z",
     "start_time": "2025-05-21T11:43:50.819294Z"
    }
   },
   "source": [
    "#TODO"
   ],
   "outputs": [],
   "execution_count": 88
  },
  {
   "cell_type": "markdown",
   "id": "5dc018dd-e2cb-4aa2-b4ed-2eddffe3f723",
   "metadata": {},
   "source": [
    "#### Observation :\n",
    "`à compléter`\n"
   ]
  },
  {
   "cell_type": "markdown",
   "id": "cc404583",
   "metadata": {},
   "source": [
    "### Question n°9\n",
    "- Constatez-vous une différence avec la régression linéaire simple ?"
   ]
  },
  {
   "cell_type": "markdown",
   "id": "23e856b9-3335-4bc9-baa9-853224c1b91f",
   "metadata": {},
   "source": [
    "#### Observation\n",
    "`à compléter`"
   ]
  },
  {
   "cell_type": "markdown",
   "id": "e7341463",
   "metadata": {},
   "source": [
    "## Régression avec un arbre de décision\n",
    "\n",
    "Il est aussi possible d'utiliser les arbres de décision pour construire un modèle de régression.\n",
    "\n",
    "En utilisant la classe adéquate de _Scikit-Learn_, proposez un arbre de régression sur le jeu de données du diabètes.\n",
    "- Prenez soin d'analyser la profondeur de l'arbre, afin de choisir celle qui vous parait la plus pertinente.\n",
    "- Affichez l'arbre obtenant le meilleur score.\n"
   ]
  },
  {
   "cell_type": "markdown",
   "id": "64ad63a3",
   "metadata": {},
   "source": [
    "### Question n°1\n",
    "Comparez les résultats obtenus avec ceux de la régression linéaire et de la régression polynomiale."
   ]
  },
  {
   "cell_type": "code",
   "id": "af19bd1f",
   "metadata": {
    "ExecuteTime": {
     "end_time": "2025-05-21T11:45:47.547774500Z",
     "start_time": "2025-05-21T11:43:50.847366Z"
    }
   },
   "source": [
    "#TODO"
   ],
   "outputs": [],
   "execution_count": 89
  },
  {
   "cell_type": "code",
   "id": "1fcfe5df",
   "metadata": {
    "ExecuteTime": {
     "end_time": "2025-05-21T11:45:47.548781Z",
     "start_time": "2025-05-21T11:43:50.877106Z"
    }
   },
   "source": [
    "#TODO"
   ],
   "outputs": [],
   "execution_count": 90
  },
  {
   "cell_type": "markdown",
   "id": "ccd98ae3-15ee-48db-b548-c3187c5edb9b",
   "metadata": {},
   "source": [
    "#### Comparaison des Résultats\n",
    "`à compléter`"
   ]
  },
  {
   "cell_type": "code",
   "id": "8f4ebde6-ed3f-44fc-9249-293662303b8c",
   "metadata": {
    "ExecuteTime": {
     "end_time": "2025-05-21T11:45:47.548781Z",
     "start_time": "2025-05-21T11:43:50.904917Z"
    }
   },
   "source": [],
   "outputs": [],
   "execution_count": null
  }
 ],
 "metadata": {
  "kernelspec": {
   "display_name": "Python 3 (ipykernel)",
   "language": "python",
   "name": "python3"
  },
  "language_info": {
   "codemirror_mode": {
    "name": "ipython",
    "version": 3
   },
   "file_extension": ".py",
   "mimetype": "text/x-python",
   "name": "python",
   "nbconvert_exporter": "python",
   "pygments_lexer": "ipython3",
   "version": "3.12.4"
  }
 },
 "nbformat": 4,
 "nbformat_minor": 5
}
