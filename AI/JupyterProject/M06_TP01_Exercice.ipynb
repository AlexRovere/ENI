{
 "cells": [
  {
   "cell_type": "markdown",
   "id": "0c601b14",
   "metadata": {},
   "source": [
    "# TP n°1 du module 6 : Les algorithmes de classification pour le _Machine Learning_\n",
    "\n",
    "Dans ce TP, nous allons mettre en pratique les principes de l'apprentissage supervisé.\n",
    "\n",
    "## Objectifs :\n",
    "- Savoir mettre en place les principaux algorithmes de classification\n",
    "- Etudier l'impact de leurs paramètres sur leurs performances\n",
    "- Comparer les performances de différents algorithmes"
   ]
  },
  {
   "cell_type": "code",
   "id": "8423b3aa",
   "metadata": {
    "ExecuteTime": {
     "end_time": "2025-05-22T07:40:11.578890Z",
     "start_time": "2025-05-22T07:40:11.568896Z"
    }
   },
   "source": [
    "import numpy as np\n",
    "import pandas as pd\n",
    "import matplotlib.pyplot as plt\n",
    "import seaborn as sns\n",
    "from IPython.core.pylabtools import figsize\n",
    "from sklearn.datasets import load_diabetes\n",
    "from sklearn.metrics import accuracy_score, confusion_matrix, ConfusionMatrixDisplay\n",
    "from sklearn.model_selection import train_test_split, cross_val_score\n",
    "from sklearn.naive_bayes import GaussianNB\n",
    "from sklearn.neighbors import KNeighborsClassifier\n",
    "from sklearn.neural_network import MLPClassifier\n",
    "from sklearn.svm import SVC\n",
    "from sklearn.tree import DecisionTreeClassifier, plot_tree\n",
    "from sklearn.metrics import accuracy_score, precision_score, recall_score, confusion_matrix, ConfusionMatrixDisplay"
   ],
   "outputs": [],
   "execution_count": 33
  },
  {
   "cell_type": "markdown",
   "id": "82e63125",
   "metadata": {},
   "source": [
    "## Question n°0\n",
    "Commencez par charger à nouveau le jeu de données Titanic, à partir du csv généré dans le TP1 du module 4.\n",
    "- Préparez les données d'entraînement et de test qui seront utilisées par la suite."
   ]
  },
  {
   "cell_type": "code",
   "id": "79f23c2b",
   "metadata": {
    "ExecuteTime": {
     "end_time": "2025-05-22T07:40:11.612632Z",
     "start_time": "2025-05-22T07:40:11.599030Z"
    }
   },
   "source": [
    "# Lambda nommée pour afficher un score en pourcentage avec un libellé (avec détail) :\n",
    "pscore = lambda lib, score, detail='': print(F\"{lib}{('',f\" ({detail})\")[len(str(detail))>0]} : {100*score:.2f}%\")\n",
    "titanic = pd.read_csv(\"Titanic.csv\")\n",
    "titanic"
   ],
   "outputs": [
    {
     "data": {
      "text/plain": [
       "     Survived  Pclass    Age     Fare  FamilyMembers  Sex_male  Embarked_C  \\\n",
       "0           0       3  22.00   7.2500              1       1.0         0.0   \n",
       "1           1       1  38.00  71.2833              1       0.0         1.0   \n",
       "2           1       3  26.00   7.9250              0       0.0         0.0   \n",
       "3           1       1  35.00  53.1000              1       0.0         0.0   \n",
       "4           0       3  35.00   8.0500              0       1.0         0.0   \n",
       "..        ...     ...    ...      ...            ...       ...         ...   \n",
       "886         0       2  27.00  13.0000              0       1.0         0.0   \n",
       "887         1       1  19.00  30.0000              0       0.0         0.0   \n",
       "888         0       3  21.75  23.4500              3       0.0         0.0   \n",
       "889         1       1  26.00  30.0000              0       1.0         1.0   \n",
       "890         0       3  32.00   7.7500              0       1.0         0.0   \n",
       "\n",
       "     Embarked_Q  Embarked_S  Embarked_U  \n",
       "0           0.0         1.0         0.0  \n",
       "1           0.0         0.0         0.0  \n",
       "2           0.0         1.0         0.0  \n",
       "3           0.0         1.0         0.0  \n",
       "4           0.0         1.0         0.0  \n",
       "..          ...         ...         ...  \n",
       "886         0.0         1.0         0.0  \n",
       "887         0.0         1.0         0.0  \n",
       "888         0.0         1.0         0.0  \n",
       "889         0.0         0.0         0.0  \n",
       "890         1.0         0.0         0.0  \n",
       "\n",
       "[891 rows x 10 columns]"
      ],
      "text/html": [
       "<div>\n",
       "<style scoped>\n",
       "    .dataframe tbody tr th:only-of-type {\n",
       "        vertical-align: middle;\n",
       "    }\n",
       "\n",
       "    .dataframe tbody tr th {\n",
       "        vertical-align: top;\n",
       "    }\n",
       "\n",
       "    .dataframe thead th {\n",
       "        text-align: right;\n",
       "    }\n",
       "</style>\n",
       "<table border=\"1\" class=\"dataframe\">\n",
       "  <thead>\n",
       "    <tr style=\"text-align: right;\">\n",
       "      <th></th>\n",
       "      <th>Survived</th>\n",
       "      <th>Pclass</th>\n",
       "      <th>Age</th>\n",
       "      <th>Fare</th>\n",
       "      <th>FamilyMembers</th>\n",
       "      <th>Sex_male</th>\n",
       "      <th>Embarked_C</th>\n",
       "      <th>Embarked_Q</th>\n",
       "      <th>Embarked_S</th>\n",
       "      <th>Embarked_U</th>\n",
       "    </tr>\n",
       "  </thead>\n",
       "  <tbody>\n",
       "    <tr>\n",
       "      <th>0</th>\n",
       "      <td>0</td>\n",
       "      <td>3</td>\n",
       "      <td>22.00</td>\n",
       "      <td>7.2500</td>\n",
       "      <td>1</td>\n",
       "      <td>1.0</td>\n",
       "      <td>0.0</td>\n",
       "      <td>0.0</td>\n",
       "      <td>1.0</td>\n",
       "      <td>0.0</td>\n",
       "    </tr>\n",
       "    <tr>\n",
       "      <th>1</th>\n",
       "      <td>1</td>\n",
       "      <td>1</td>\n",
       "      <td>38.00</td>\n",
       "      <td>71.2833</td>\n",
       "      <td>1</td>\n",
       "      <td>0.0</td>\n",
       "      <td>1.0</td>\n",
       "      <td>0.0</td>\n",
       "      <td>0.0</td>\n",
       "      <td>0.0</td>\n",
       "    </tr>\n",
       "    <tr>\n",
       "      <th>2</th>\n",
       "      <td>1</td>\n",
       "      <td>3</td>\n",
       "      <td>26.00</td>\n",
       "      <td>7.9250</td>\n",
       "      <td>0</td>\n",
       "      <td>0.0</td>\n",
       "      <td>0.0</td>\n",
       "      <td>0.0</td>\n",
       "      <td>1.0</td>\n",
       "      <td>0.0</td>\n",
       "    </tr>\n",
       "    <tr>\n",
       "      <th>3</th>\n",
       "      <td>1</td>\n",
       "      <td>1</td>\n",
       "      <td>35.00</td>\n",
       "      <td>53.1000</td>\n",
       "      <td>1</td>\n",
       "      <td>0.0</td>\n",
       "      <td>0.0</td>\n",
       "      <td>0.0</td>\n",
       "      <td>1.0</td>\n",
       "      <td>0.0</td>\n",
       "    </tr>\n",
       "    <tr>\n",
       "      <th>4</th>\n",
       "      <td>0</td>\n",
       "      <td>3</td>\n",
       "      <td>35.00</td>\n",
       "      <td>8.0500</td>\n",
       "      <td>0</td>\n",
       "      <td>1.0</td>\n",
       "      <td>0.0</td>\n",
       "      <td>0.0</td>\n",
       "      <td>1.0</td>\n",
       "      <td>0.0</td>\n",
       "    </tr>\n",
       "    <tr>\n",
       "      <th>...</th>\n",
       "      <td>...</td>\n",
       "      <td>...</td>\n",
       "      <td>...</td>\n",
       "      <td>...</td>\n",
       "      <td>...</td>\n",
       "      <td>...</td>\n",
       "      <td>...</td>\n",
       "      <td>...</td>\n",
       "      <td>...</td>\n",
       "      <td>...</td>\n",
       "    </tr>\n",
       "    <tr>\n",
       "      <th>886</th>\n",
       "      <td>0</td>\n",
       "      <td>2</td>\n",
       "      <td>27.00</td>\n",
       "      <td>13.0000</td>\n",
       "      <td>0</td>\n",
       "      <td>1.0</td>\n",
       "      <td>0.0</td>\n",
       "      <td>0.0</td>\n",
       "      <td>1.0</td>\n",
       "      <td>0.0</td>\n",
       "    </tr>\n",
       "    <tr>\n",
       "      <th>887</th>\n",
       "      <td>1</td>\n",
       "      <td>1</td>\n",
       "      <td>19.00</td>\n",
       "      <td>30.0000</td>\n",
       "      <td>0</td>\n",
       "      <td>0.0</td>\n",
       "      <td>0.0</td>\n",
       "      <td>0.0</td>\n",
       "      <td>1.0</td>\n",
       "      <td>0.0</td>\n",
       "    </tr>\n",
       "    <tr>\n",
       "      <th>888</th>\n",
       "      <td>0</td>\n",
       "      <td>3</td>\n",
       "      <td>21.75</td>\n",
       "      <td>23.4500</td>\n",
       "      <td>3</td>\n",
       "      <td>0.0</td>\n",
       "      <td>0.0</td>\n",
       "      <td>0.0</td>\n",
       "      <td>1.0</td>\n",
       "      <td>0.0</td>\n",
       "    </tr>\n",
       "    <tr>\n",
       "      <th>889</th>\n",
       "      <td>1</td>\n",
       "      <td>1</td>\n",
       "      <td>26.00</td>\n",
       "      <td>30.0000</td>\n",
       "      <td>0</td>\n",
       "      <td>1.0</td>\n",
       "      <td>1.0</td>\n",
       "      <td>0.0</td>\n",
       "      <td>0.0</td>\n",
       "      <td>0.0</td>\n",
       "    </tr>\n",
       "    <tr>\n",
       "      <th>890</th>\n",
       "      <td>0</td>\n",
       "      <td>3</td>\n",
       "      <td>32.00</td>\n",
       "      <td>7.7500</td>\n",
       "      <td>0</td>\n",
       "      <td>1.0</td>\n",
       "      <td>0.0</td>\n",
       "      <td>1.0</td>\n",
       "      <td>0.0</td>\n",
       "      <td>0.0</td>\n",
       "    </tr>\n",
       "  </tbody>\n",
       "</table>\n",
       "<p>891 rows × 10 columns</p>\n",
       "</div>"
      ]
     },
     "execution_count": 34,
     "metadata": {},
     "output_type": "execute_result"
    }
   ],
   "execution_count": 34
  },
  {
   "cell_type": "markdown",
   "id": "fc39d16d-6a9f-4fa6-ac5d-da5266c98583",
   "metadata": {},
   "source": [
    "## Partie 1 : découvrir Naive Bayes"
   ]
  },
  {
   "cell_type": "markdown",
   "id": "6f7717c4",
   "metadata": {},
   "source": [
    "### Question n°1\n",
    "Commencez par créer un modèle basé sur Naive Bayes, sans changer les paramètres par défaut, en supposant que la répartition des données correspond à une Gaussienne (loi normale).\n",
    "- Entraînez-le et testez-le.\n",
    "- Quelle score (accuracy) obtenez-vous ?\n",
    "- Que pouvez-vous dire de la précision et du rappel ?\n",
    "- Comparez avec les scores obtenus sur les arbres de décision au module 5\n",
    "- Avez-vous des hypothèses pour expliquer cette différence ?"
   ]
  },
  {
   "cell_type": "code",
   "id": "dd0f1d68",
   "metadata": {
    "ExecuteTime": {
     "end_time": "2025-05-22T09:40:36.979031Z",
     "start_time": "2025-05-22T09:40:36.964490Z"
    }
   },
   "source": [
    "X = titanic.drop(['Survived'], axis=1)\n",
    "y = titanic['Survived']\n",
    "\n",
    "X_train, X_test, y_train, y_test = train_test_split(X, y, test_size=0.2)\n",
    "\n",
    "\n",
    "gnb = GaussianNB()\n",
    "\n",
    "gnb.fit(X_train,y_train)\n",
    "\n",
    "y_pred_gnb = gnb.predict(X_test)\n",
    "\n",
    "accuracy_gnb = gnb.score(X_test, y_test)\n",
    "pscore(\"Naive Bayes -> accuracy\", accuracy_gnb)\n",
    "\n",
    "precision_gnb = precision_score(y_test, y_pred_gnb, average='binary', pos_label=1)\n",
    "pscore(\"Naive Bayes -> precision\", precision_gnb)\n",
    "\n",
    "rappel_gnb = recall_score(y_test, y_pred_gnb, average='binary', pos_label=1)\n",
    "pscore(\"Naive Bayes -> rappel\", rappel_gnb)"
   ],
   "outputs": [
    {
     "name": "stdout",
     "output_type": "stream",
     "text": [
      "Naive Bayes -> accuracy : 67.04%\n",
      "Naive Bayes -> precision : 78.95%\n",
      "Naive Bayes -> rappel : 21.43%\n"
     ]
    }
   ],
   "execution_count": 78
  },
  {
   "cell_type": "markdown",
   "id": "5a68e940-c814-44fe-927b-e66c8904d99a",
   "metadata": {},
   "source": [
    "#### Observations :\n",
    "`à compléter`"
   ]
  },
  {
   "cell_type": "markdown",
   "id": "1af14ab5",
   "metadata": {},
   "source": [
    "### Question n°2\n",
    "Affichez une matrice de corrélation des données du jeu d'entraînement, en y incluant un affichage textuel de la valeur de la corrélation.\n",
    "- Voyez-vous des informations permettant d'expliquer les performance de l'algorithme _Naive Bayes_ ?"
   ]
  },
  {
   "cell_type": "code",
   "id": "3b3d1c81",
   "metadata": {
    "ExecuteTime": {
     "end_time": "2025-05-22T09:51:40.508886Z",
     "start_time": "2025-05-22T09:51:40.317421Z"
    }
   },
   "source": "sns.heatmap(titanic.corr())\n",
   "outputs": [
    {
     "data": {
      "text/plain": [
       "<Axes: >"
      ]
     },
     "execution_count": 79,
     "metadata": {},
     "output_type": "execute_result"
    },
    {
     "data": {
      "text/plain": [
       "<Figure size 640x480 with 2 Axes>"
      ],
      "image/png": "[encoded data removed]"
     },
     "metadata": {},
     "output_type": "display_data"
    }
   ],
   "execution_count": 79
  },
  {
   "cell_type": "markdown",
   "id": "00130884-072e-4d7b-9d16-7f6dded39a8c",
   "metadata": {},
   "source": [
    "#### Observations :\n",
    "`à compléter`"
   ]
  },
  {
   "cell_type": "markdown",
   "id": "351eae75",
   "metadata": {},
   "source": [
    "### Question n°3\n",
    "Proposez une représentation graphique des attributs continus, permettant de vérifier l'hypothèse que nous avons faite, selon laquelle ces données suivent une loi normale (Gaussienne)."
   ]
  },
  {
   "cell_type": "code",
   "id": "b6b5b059",
   "metadata": {
    "ExecuteTime": {
     "end_time": "2025-05-22T09:53:02.074242Z",
     "start_time": "2025-05-22T09:53:01.709486Z"
    }
   },
   "source": [
    "fig, axes = plt.subplots(1,2, figsize=(20,5))\n",
    "i=0\n",
    "for c in ['Age', 'Fare']:\n",
    "    sns.histplot(X, x=c, kde=True, ax =axes[i])\n",
    "    i+=1"
   ],
   "outputs": [
    {
     "data": {
      "text/plain": [
       "<Figure size 2000x500 with 2 Axes>"
      ],
      "image/png": "[encoded data removed]"
     },
     "metadata": {},
     "output_type": "display_data"
    }
   ],
   "execution_count": 81
  },
  {
   "cell_type": "markdown",
   "id": "627d1608-9f5b-42cf-9666-10f86709f5b9",
   "metadata": {},
   "source": [
    "#### Observations :\n",
    "`à compléter`"
   ]
  },
  {
   "cell_type": "markdown",
   "id": "dab510d0",
   "metadata": {},
   "source": [
    "## Partie 2 : découvrir KNN"
   ]
  },
  {
   "cell_type": "markdown",
   "id": "90779015",
   "metadata": {},
   "source": [
    "### Question n°1\n",
    "Commencez par créer un modèle KNN, en gardant le nombre de voisins par défaut (à regarder dans la documentation).\n",
    "- Que pouvez-vous dire de l'accuracy, de la précision et du rappel ?"
   ]
  },
  {
   "cell_type": "code",
   "id": "8f8e1696",
   "metadata": {
    "ExecuteTime": {
     "end_time": "2025-05-22T07:47:08.332135Z",
     "start_time": "2025-05-22T07:47:08.299573Z"
    }
   },
   "source": [
    "knn = KNeighborsClassifier()\n",
    "\n",
    "knn.fit(X_train, y_train)\n",
    "\n",
    "y_pred_knn = knn.predict(X_test)\n",
    "\n",
    "accuracy_knn = knn.score(X_test, y_test)\n",
    "pscore(\"Nearest Neighbors -> accuracy\", accuracy_knn)\n",
    "\n",
    "precision_knn = precision_score(y_test, y_pred_knn, average='binary', pos_label=1)\n",
    "pscore(\"Nearest Neighbors -> precision\", precision_knn)\n",
    "\n",
    "rappel_knn = recall_score(y_test, y_pred_knn, average='binary', pos_label=1)\n",
    "pscore(\"Nearest Neighbors -> rappel\", rappel_knn)"
   ],
   "outputs": [
    {
     "name": "stdout",
     "output_type": "stream",
     "text": [
      "Nearest Neighbors -> accuracy : 69.83%\n",
      "Nearest Neighbors -> precision : 63.93%\n",
      "Nearest Neighbors -> rappel : 54.93%\n"
     ]
    }
   ],
   "execution_count": 59
  },
  {
   "cell_type": "markdown",
   "id": "1e4734d3-58a3-483f-8ffb-a898dadab63c",
   "metadata": {},
   "source": [
    "#### Observations :\n",
    "`à compléter`"
   ]
  },
  {
   "cell_type": "markdown",
   "id": "f991f919",
   "metadata": {},
   "source": [
    "### Question n°2\n",
    "Nous allons maintenant observer l'impact du nombre de voisins à prendre en considération.\n",
    "- Faite varier k entre 1 et 20.\n",
    "- Calculez à chaque fois accuracy, précision, et rappel.\n",
    "- Tracez l'évolution de ces trois scores en fonction de k, sur un même graphique.\n",
    "- Que constatez-vous ?\n",
    "- Affichez la valeur de k pour laquelle l'accuracy est la plus élevée."
   ]
  },
  {
   "cell_type": "code",
   "id": "b65bb998",
   "metadata": {
    "ExecuteTime": {
     "end_time": "2025-05-22T08:13:12.620273Z",
     "start_time": "2025-05-22T08:13:12.116136Z"
    }
   },
   "source": [
    "knn_max_accuracy = 0\n",
    "knn_neighbors = 0\n",
    "accuracies = []\n",
    "neighbors_range = range(1, 20)\n",
    "\n",
    "for i in neighbors_range:\n",
    "    knn = KNeighborsClassifier(n_neighbors=i)\n",
    "    knn.fit(X_train, y_train)\n",
    "    y_pred_knn = knn.predict(X_test)\n",
    "\n",
    "    accuracy_knn = knn.score(X_test, y_test)\n",
    "    pscore(f\"Nearest Neighbors {i} -> accuracy\", accuracy_knn)\n",
    "\n",
    "    precision_knn = precision_score(y_test, y_pred_knn, average='binary', pos_label=1)\n",
    "    pscore(f\"Nearest Neighbors {i} -> precision\", precision_knn)\n",
    "\n",
    "    rappel_knn = recall_score(y_test, y_pred_knn, average='binary', pos_label=1)\n",
    "    pscore(f\"Nearest Neighbors {i} -> rappel\", rappel_knn)\n",
    "\n",
    "    knn_neighbors = i if accuracy_knn > knn_max_accuracy else knn_neighbors\n",
    "    knn_max_accuracy = accuracy_knn if accuracy_knn > knn_max_accuracy else knn_max_accuracy\n",
    "\n",
    "    accuracies.append(accuracy_knn)\n",
    "print(f\"knn max accuracy = {knn_max_accuracy}, neighbors = {knn_neighbors}\")\n",
    "\n",
    "plt.plot(neighbors_range, accuracies, marker='o')\n",
    "plt.title('Accuracy en fonction du nombre de voisins (k)')\n",
    "plt.xlabel('Nombre de voisins (k)')\n",
    "plt.ylabel('Accuracy')\n",
    "plt.grid(True)\n",
    "plt.show()"
   ],
   "outputs": [
    {
     "name": "stdout",
     "output_type": "stream",
     "text": [
      "Nearest Neighbors 1 -> accuracy : 74.30%\n",
      "Nearest Neighbors 1 -> precision : 64.71%\n",
      "Nearest Neighbors 1 -> rappel : 54.10%\n",
      "Nearest Neighbors 2 -> accuracy : 69.27%\n",
      "Nearest Neighbors 2 -> precision : 60.00%\n",
      "Nearest Neighbors 2 -> rappel : 29.51%\n",
      "Nearest Neighbors 3 -> accuracy : 71.51%\n",
      "Nearest Neighbors 3 -> precision : 57.81%\n",
      "Nearest Neighbors 3 -> rappel : 60.66%\n",
      "Nearest Neighbors 4 -> accuracy : 73.18%\n",
      "Nearest Neighbors 4 -> precision : 62.75%\n",
      "Nearest Neighbors 4 -> rappel : 52.46%\n",
      "Nearest Neighbors 5 -> accuracy : 70.95%\n",
      "Nearest Neighbors 5 -> precision : 57.14%\n",
      "Nearest Neighbors 5 -> rappel : 59.02%\n",
      "Nearest Neighbors 6 -> accuracy : 74.86%\n",
      "Nearest Neighbors 6 -> precision : 66.00%\n",
      "Nearest Neighbors 6 -> rappel : 54.10%\n",
      "Nearest Neighbors 7 -> accuracy : 72.63%\n",
      "Nearest Neighbors 7 -> precision : 60.34%\n",
      "Nearest Neighbors 7 -> rappel : 57.38%\n",
      "Nearest Neighbors 8 -> accuracy : 74.30%\n",
      "Nearest Neighbors 8 -> precision : 65.96%\n",
      "Nearest Neighbors 8 -> rappel : 50.82%\n",
      "Nearest Neighbors 9 -> accuracy : 71.51%\n",
      "Nearest Neighbors 9 -> precision : 58.33%\n",
      "Nearest Neighbors 9 -> rappel : 57.38%\n",
      "Nearest Neighbors 10 -> accuracy : 71.51%\n",
      "Nearest Neighbors 10 -> precision : 59.62%\n",
      "Nearest Neighbors 10 -> rappel : 50.82%\n",
      "Nearest Neighbors 11 -> accuracy : 72.63%\n",
      "Nearest Neighbors 11 -> precision : 60.34%\n",
      "Nearest Neighbors 11 -> rappel : 57.38%\n",
      "Nearest Neighbors 12 -> accuracy : 72.07%\n",
      "Nearest Neighbors 12 -> precision : 60.00%\n",
      "Nearest Neighbors 12 -> rappel : 54.10%\n",
      "Nearest Neighbors 13 -> accuracy : 73.18%\n",
      "Nearest Neighbors 13 -> precision : 61.02%\n",
      "Nearest Neighbors 13 -> rappel : 59.02%\n",
      "Nearest Neighbors 14 -> accuracy : 73.18%\n",
      "Nearest Neighbors 14 -> precision : 61.82%\n",
      "Nearest Neighbors 14 -> rappel : 55.74%\n",
      "Nearest Neighbors 15 -> accuracy : 71.51%\n",
      "Nearest Neighbors 15 -> precision : 58.33%\n",
      "Nearest Neighbors 15 -> rappel : 57.38%\n",
      "Nearest Neighbors 16 -> accuracy : 73.18%\n",
      "Nearest Neighbors 16 -> precision : 61.40%\n",
      "Nearest Neighbors 16 -> rappel : 57.38%\n",
      "Nearest Neighbors 17 -> accuracy : 72.63%\n",
      "Nearest Neighbors 17 -> precision : 60.00%\n",
      "Nearest Neighbors 17 -> rappel : 59.02%\n",
      "Nearest Neighbors 18 -> accuracy : 74.86%\n",
      "Nearest Neighbors 18 -> precision : 64.29%\n",
      "Nearest Neighbors 18 -> rappel : 59.02%\n",
      "Nearest Neighbors 19 -> accuracy : 74.30%\n",
      "Nearest Neighbors 19 -> precision : 63.16%\n",
      "Nearest Neighbors 19 -> rappel : 59.02%\n",
      "knn max accuracy = 0.7486033519553073, neighbors = 6\n"
     ]
    },
    {
     "data": {
      "text/plain": [
       "<Figure size 640x480 with 1 Axes>"
      ],
      "image/png": "[encoded data removed]"
     },
     "metadata": {},
     "output_type": "display_data"
    }
   ],
   "execution_count": 71
  },
  {
   "cell_type": "markdown",
   "id": "88905973-56e2-42a7-9fce-6619592b9b7a",
   "metadata": {},
   "source": [
    "#### Observations :\n",
    "`à compléter`"
   ]
  },
  {
   "cell_type": "markdown",
   "id": "18ec66e2",
   "metadata": {},
   "source": [
    "### Question n°3\n",
    "En prenant la valeur de _k_ qui vous semble la plus pertinente, faite varier la dimension (p) utilisée pour calculer la distance de Minkowski entre 2 données.\n",
    "- Cette distance a-t'elle un fort impact sur les résultats d'accuracy obtenus ?\n",
    "- Montrez-le en montrant l'évolution de ce score en fonction de _p_<br/> (faire varier entre 1 et 10).\n",
    "- Ajoutez également la précision et le rappel."
   ]
  },
  {
   "cell_type": "code",
   "id": "ce6b99d8",
   "metadata": {
    "ExecuteTime": {
     "end_time": "2025-05-22T08:21:40.306984Z",
     "start_time": "2025-05-22T08:21:39.767247Z"
    }
   },
   "source": [
    "knn_max_accuracy = 0\n",
    "knn_distance = 0\n",
    "accuracies = []\n",
    "rappels = []\n",
    "precisions = []\n",
    "\n",
    "minkwoski_range = range(1, 10)\n",
    "\n",
    "for i in neighbors_range:\n",
    "    knn = KNeighborsClassifier(n_neighbors=6, metric='minkowski', p=i)\n",
    "    knn.fit(X_train, y_train)\n",
    "    y_pred_knn = knn.predict(X_test)\n",
    "\n",
    "    accuracy_knn = knn.score(X_test, y_test)\n",
    "    pscore(f\"Nearest Neighbors {i} -> accuracy\", accuracy_knn)\n",
    "\n",
    "    precision_knn = precision_score(y_test, y_pred_knn, average='binary', pos_label=1)\n",
    "    pscore(f\"Nearest Neighbors {i} -> precision\", precision_knn)\n",
    "\n",
    "    rappel_knn = recall_score(y_test, y_pred_knn, average='binary', pos_label=1)\n",
    "    pscore(f\"Nearest Neighbors {i} -> rappel\", rappel_knn)\n",
    "\n",
    "    knn_neighbors = i if accuracy_knn > knn_max_accuracy else knn_neighbors\n",
    "    knn_max_accuracy = accuracy_knn if accuracy_knn > knn_max_accuracy else knn_max_accuracy\n",
    "\n",
    "    accuracies.append(accuracy_knn)\n",
    "    rappels.append(rappel_knn)\n",
    "    precisions.append(precision_knn)\n",
    "\n",
    "print(f\"knn max accuracy = {knn_max_accuracy}, distance = {knn_neighbors}\")\n",
    "\n",
    "plt.plot(neighbors_range, accuracies, marker='o', label='accuracy')\n",
    "plt.plot(neighbors_range, rappels, marker='x', label='rappel')\n",
    "plt.plot(neighbors_range, precisions, marker='p', label='precision')\n",
    "\n",
    "\n",
    "plt.title('Accuracy en fonction de la distance de minkowski (k)')\n",
    "plt.xlabel('Distance (k)')\n",
    "plt.ylabel('Accuracy')\n",
    "plt.legend(loc='best', facecolor='white', framealpha=1)\n",
    "plt.grid(True)\n",
    "plt.show()"
   ],
   "outputs": [
    {
     "name": "stdout",
     "output_type": "stream",
     "text": [
      "Nearest Neighbors 1 -> accuracy : 74.30%\n",
      "Nearest Neighbors 1 -> precision : 65.31%\n",
      "Nearest Neighbors 1 -> rappel : 52.46%\n",
      "Nearest Neighbors 2 -> accuracy : 74.86%\n",
      "Nearest Neighbors 2 -> precision : 66.00%\n",
      "Nearest Neighbors 2 -> rappel : 54.10%\n",
      "Nearest Neighbors 3 -> accuracy : 72.63%\n",
      "Nearest Neighbors 3 -> precision : 62.00%\n",
      "Nearest Neighbors 3 -> rappel : 50.82%\n",
      "Nearest Neighbors 4 -> accuracy : 71.51%\n",
      "Nearest Neighbors 4 -> precision : 59.62%\n",
      "Nearest Neighbors 4 -> rappel : 50.82%\n",
      "Nearest Neighbors 5 -> accuracy : 70.95%\n",
      "Nearest Neighbors 5 -> precision : 58.49%\n",
      "Nearest Neighbors 5 -> rappel : 50.82%\n",
      "Nearest Neighbors 6 -> accuracy : 71.51%\n",
      "Nearest Neighbors 6 -> precision : 59.62%\n",
      "Nearest Neighbors 6 -> rappel : 50.82%\n",
      "Nearest Neighbors 7 -> accuracy : 71.51%\n",
      "Nearest Neighbors 7 -> precision : 59.62%\n",
      "Nearest Neighbors 7 -> rappel : 50.82%\n",
      "Nearest Neighbors 8 -> accuracy : 71.51%\n",
      "Nearest Neighbors 8 -> precision : 59.62%\n",
      "Nearest Neighbors 8 -> rappel : 50.82%\n",
      "Nearest Neighbors 9 -> accuracy : 71.51%\n",
      "Nearest Neighbors 9 -> precision : 59.62%\n",
      "Nearest Neighbors 9 -> rappel : 50.82%\n",
      "Nearest Neighbors 10 -> accuracy : 71.51%\n",
      "Nearest Neighbors 10 -> precision : 59.62%\n",
      "Nearest Neighbors 10 -> rappel : 50.82%\n",
      "Nearest Neighbors 11 -> accuracy : 72.07%\n",
      "Nearest Neighbors 11 -> precision : 60.38%\n",
      "Nearest Neighbors 11 -> rappel : 52.46%\n",
      "Nearest Neighbors 12 -> accuracy : 72.07%\n",
      "Nearest Neighbors 12 -> precision : 60.38%\n",
      "Nearest Neighbors 12 -> rappel : 52.46%\n",
      "Nearest Neighbors 13 -> accuracy : 72.07%\n",
      "Nearest Neighbors 13 -> precision : 60.38%\n",
      "Nearest Neighbors 13 -> rappel : 52.46%\n",
      "Nearest Neighbors 14 -> accuracy : 72.07%\n",
      "Nearest Neighbors 14 -> precision : 60.38%\n",
      "Nearest Neighbors 14 -> rappel : 52.46%\n",
      "Nearest Neighbors 15 -> accuracy : 72.07%\n",
      "Nearest Neighbors 15 -> precision : 60.38%\n",
      "Nearest Neighbors 15 -> rappel : 52.46%\n",
      "Nearest Neighbors 16 -> accuracy : 72.07%\n",
      "Nearest Neighbors 16 -> precision : 60.38%\n",
      "Nearest Neighbors 16 -> rappel : 52.46%\n",
      "Nearest Neighbors 17 -> accuracy : 72.07%\n",
      "Nearest Neighbors 17 -> precision : 60.38%\n",
      "Nearest Neighbors 17 -> rappel : 52.46%\n",
      "Nearest Neighbors 18 -> accuracy : 72.07%\n",
      "Nearest Neighbors 18 -> precision : 60.38%\n",
      "Nearest Neighbors 18 -> rappel : 52.46%\n",
      "Nearest Neighbors 19 -> accuracy : 72.07%\n",
      "Nearest Neighbors 19 -> precision : 60.38%\n",
      "Nearest Neighbors 19 -> rappel : 52.46%\n",
      "knn max accuracy = 0.7486033519553073, distance = 2\n"
     ]
    },
    {
     "data": {
      "text/plain": [
       "<Figure size 640x480 with 1 Axes>"
      ],
      "image/png": "[encoded data removed]"
     },
     "metadata": {},
     "output_type": "display_data"
    }
   ],
   "execution_count": 76
  },
  {
   "cell_type": "markdown",
   "id": "d13a3756-fc4c-441d-846d-26e848db111b",
   "metadata": {},
   "source": [
    "#### Observations :\n",
    "`à compléter`"
   ]
  },
  {
   "cell_type": "markdown",
   "id": "fec73153-fbe1-4503-8bda-be6125a3691e",
   "metadata": {},
   "source": [
    "## Partie 3 : découvrir les SVM"
   ]
  },
  {
   "cell_type": "markdown",
   "id": "0a7c6024",
   "metadata": {},
   "source": [
    "### Question n°1\n",
    "Créez un modèle de classification basée sur les machines à vecteur de support.\n",
    "- Dans un premier temps, gardez les options par défaut.\n",
    "- Que pouvez-vous dire des performances obtenues (accuracy, précision, rappel) ?"
   ]
  },
  {
   "cell_type": "code",
   "id": "3b136dbf",
   "metadata": {
    "ExecuteTime": {
     "end_time": "2025-05-22T07:45:59.046517Z",
     "start_time": "2025-05-22T07:45:59.012972Z"
    }
   },
   "source": [
    "svm = SVC()\n",
    "\n",
    "svm.fit(X_train, y_train)\n",
    "\n",
    "\n",
    "\n",
    "y_pred_svm = svm.predict(X_test)\n",
    "\n",
    "accuracy_svm = svm.score(X_test, y_test)\n",
    "pscore(\"vecteur de support -> accuracy\", accuracy_svm)\n",
    "\n",
    "precision_svm = precision_score(y_test, y_pred_svm, average='binary', pos_label=1)\n",
    "pscore(\"vecteur de support -> precision\", precision_svm)\n",
    "\n",
    "rappel_svm = recall_score(y_test, y_pred_svm, average='binary', pos_label=1)\n",
    "pscore(\"vecteur de support -> rappel\", rappel_svm)"
   ],
   "outputs": [
    {
     "name": "stdout",
     "output_type": "stream",
     "text": [
      "vecteur de support -> accuracy : 66.48%\n",
      "vecteur de support -> precision : 64.10%\n",
      "vecteur de support -> rappel : 35.21%\n"
     ]
    }
   ],
   "execution_count": 58
  },
  {
   "cell_type": "markdown",
   "id": "b07b1658-849c-4cdc-9f9b-c763291c1890",
   "metadata": {},
   "source": [
    "#### Observations :\n",
    "`à compléter`"
   ]
  },
  {
   "cell_type": "markdown",
   "id": "905b31a7",
   "metadata": {},
   "source": [
    "### Question n°2\n",
    "Testez les différents noyaux disponibles pour l'algorithme SVM (linéaire, polynomial, rbf et sigmoïde).\n",
    "- Représentez graphiquement l'accuracy, la précision et le rappel, pour chaque noyau.\n",
    "- Il y en a t'il un qui semble plus pertinent que les autres ?\n",
    "- Affichez-le, ainsi que les scores obtenus pour ce noyau."
   ]
  },
  {
   "cell_type": "code",
   "id": "e68429cd",
   "metadata": {
    "ExecuteTime": {
     "end_time": "2025-05-22T07:40:12.556551Z",
     "start_time": "2025-05-22T07:40:12.553534Z"
    }
   },
   "source": [
    "#TODO"
   ],
   "outputs": [],
   "execution_count": 42
  },
  {
   "cell_type": "markdown",
   "id": "014b5138",
   "metadata": {},
   "source": [
    "### Question n°3\n",
    "Nous allons essayer d'améliorer les performances obtenues avec le noyau polynomial.\n",
    "- Utilisez ce noyau (`poly`), et faites varier le degré du polynôme utilisé de 1 à 10.\n",
    "- Représentez graphiquement l'accuracy, la précision et le rappel, en fonction du degré du polynôme.\n",
    "- Il y en a-t-il un qui semble plus pertinent que les autres ?\n",
    "- Affichez-le, ainsi que les scores obtenus pour cette valeur.\n",
    "- Comparez avec le meilleur score obtenu à la question précédente."
   ]
  },
  {
   "cell_type": "code",
   "id": "544318b0",
   "metadata": {
    "ExecuteTime": {
     "end_time": "2025-05-22T07:40:12.612898Z",
     "start_time": "2025-05-22T07:40:12.610649Z"
    }
   },
   "source": [
    "#TODO"
   ],
   "outputs": [],
   "execution_count": 43
  },
  {
   "cell_type": "markdown",
   "id": "25f11b31",
   "metadata": {},
   "source": [
    "## Partie 4 : découvrir les réseaux de neurones (ANN)"
   ]
  },
  {
   "cell_type": "markdown",
   "id": "77448c8c",
   "metadata": {},
   "source": [
    "### Question n°1\n",
    "Commençons par étudier le réseau le plus simple : un _perceptron_.\n",
    "- À l'aide de la classe `sklearn.linear_model.Perceptron`,<br/> créez un perceptron, en gardant les options par défaut.\n",
    "- Affichez `accuracy`, `précision` et `rappel` : Que pensez-vous de ces performances ?"
   ]
  },
  {
   "cell_type": "code",
   "id": "0d2620da",
   "metadata": {
    "ExecuteTime": {
     "end_time": "2025-05-22T07:43:52.825450Z",
     "start_time": "2025-05-22T07:43:52.487720Z"
    }
   },
   "source": [
    "ann = MLPClassifier(max_iter=1000)\n",
    "\n",
    "ann.fit(X_train, y_train)\n",
    "\n",
    "y_pred_ann = ann.predict(X_test)\n",
    "\n",
    "accuracy_ann = ann.score(X_test, y_test)\n",
    "pscore(\"réseau de neurone -> accuracy\", accuracy_ann)\n",
    "\n",
    "precision_ann = precision_score(y_test, y_pred_ann, average='binary', pos_label=1)\n",
    "pscore(\"réseau de neurone -> precision\", precision_ann)\n",
    "\n",
    "rappel_ann = recall_score(y_test, y_pred_ann, average='binary', pos_label=1)\n",
    "pscore(\"réseau de neurone -> rappel\", rappel_ann)"
   ],
   "outputs": [
    {
     "name": "stdout",
     "output_type": "stream",
     "text": [
      "réseau de neurone -> accuracy : 79.89%\n",
      "réseau de neurone -> precision : 74.65%\n",
      "réseau de neurone -> rappel : 74.65%\n"
     ]
    }
   ],
   "execution_count": 57
  },
  {
   "cell_type": "markdown",
   "id": "646a3f3a-7382-4728-951d-d14637df4ca4",
   "metadata": {},
   "source": [
    "#### Observation :\n",
    "`à compléter`"
   ]
  },
  {
   "cell_type": "markdown",
   "id": "bda13ed8",
   "metadata": {},
   "source": [
    "### Question n°2\n",
    "Regardez la documentation pour créer un réseau de neurones (`sklearn.neural_network.MLPClassifier`) :\n",
    "- Quelle est la structure d'un réseau de neurones par défaut avec scikit-learn ?\n",
    "- Combien de couches cachées ?\n",
    "- Combien de neurones par couche ?\n",
    "\n",
    "_N.B. : Un message d'alerte (⚠Warning: Stochastic Optimizer: Maximum iterations) est suceptible d'apparaître._"
   ]
  },
  {
   "cell_type": "markdown",
   "id": "e627e744-c82a-4cd9-b215-58694948a2c3",
   "metadata": {},
   "source": [
    "#### Réponse :\n",
    "`à compléter`"
   ]
  },
  {
   "cell_type": "markdown",
   "id": "f4ae8d40",
   "metadata": {},
   "source": [
    "### Question n°3\n",
    "- Créer un réseau de neurones, en gardant ces options par défaut.\n",
    "- Affichez `accuracy`, `précision` et `rappel` :\n",
    "    - Que pensez-vous de ces performances, notamment en comparant par rapport au perceptron ?\n",
    "    - Avez-vous un message d'alerte ?<br/>(⚠Warning: Stochastic Optimizer: Maximum iterations)"
   ]
  },
  {
   "cell_type": "code",
   "id": "652f5cca",
   "metadata": {
    "ExecuteTime": {
     "end_time": "2025-05-22T07:40:13.084981Z",
     "start_time": "2025-05-22T07:40:13.082479Z"
    }
   },
   "source": [
    "#TODO"
   ],
   "outputs": [],
   "execution_count": 45
  },
  {
   "cell_type": "markdown",
   "id": "06a6ba7f-2e4b-4a51-9ed8-42a1a5c36551",
   "metadata": {},
   "source": [
    "#### Observation :\n",
    "`à compléter`"
   ]
  },
  {
   "cell_type": "markdown",
   "id": "3f9b9f82",
   "metadata": {},
   "source": [
    "### Question n°4\n",
    "Si vous avez observé un message d'alerte sur la question précédent :\n",
    "- Que signifie-t'il selon vous ?\n",
    "- Que pouvez-vous faire pour y remédier ?\n",
    "- Proposez un code permettant d'obtenir des résultats, sans message d'alerte.\n",
    "- Qu'observez-vous sur l'évolution des scores ?"
   ]
  },
  {
   "cell_type": "code",
   "id": "7268b9a1",
   "metadata": {
    "ExecuteTime": {
     "end_time": "2025-05-22T07:40:13.183168Z",
     "start_time": "2025-05-22T07:40:13.179169Z"
    }
   },
   "source": [
    "#TODO"
   ],
   "outputs": [],
   "execution_count": 46
  },
  {
   "cell_type": "markdown",
   "id": "720ecf9a-c376-41e1-bbf3-7e3261a53120",
   "metadata": {},
   "source": [
    "#### Observation :\n",
    "`à compléter`"
   ]
  },
  {
   "cell_type": "markdown",
   "id": "132b2069",
   "metadata": {},
   "source": [
    "### Question n°5\n",
    "Nous allons à présent comparer différentes architectures du réseau de neurones :\n",
    "- 3 couches de 50 neurones chacune\n",
    "- 5 couches de 50 neurones chacune\n",
    "- 3 couches :\n",
    "    1. 50 neurones,\n",
    "    2. 100 neurones,\n",
    "    3. 50 neurones\n",
    "- 5 couches :\n",
    "    1. 50 neurones,\n",
    "    2. 100 neurones,\n",
    "    3. 50 neurones,\n",
    "    4. 100 neurones,\n",
    "    5. 50 neurones\n",
    "\n",
    "**Les attendus :**\n",
    "- Représentez graphiquement l'_accuracy_, la _précision_ et le _rappel_, pour chaque architecture.\n",
    "- Il y en a t'il une qui semble plus pertinente que les autres ?\n",
    "- Affichez-la, ainsi que les scores obtenus pour cette architecture.\n",
    "- Comparez avec le score obtenu par l'architecture par défaut.\n",
    "- Votre code ne doit générer aucun message d'alerte."
   ]
  },
  {
   "cell_type": "code",
   "id": "1027a554",
   "metadata": {
    "ExecuteTime": {
     "end_time": "2025-05-22T07:40:13.252403Z",
     "start_time": "2025-05-22T07:40:13.249253Z"
    }
   },
   "source": [
    "#TODO"
   ],
   "outputs": [],
   "execution_count": 47
  },
  {
   "cell_type": "markdown",
   "id": "e437de59",
   "metadata": {},
   "source": [
    "### Question n°6\n",
    "En utilisant l'architecture qui vous donnait les meilleures performances, étudier l'impact de la fonction d'activation utilisée sur les performances.\n",
    "- Représentez sur un graphiques les scores (accuracy, précision et rappel) obtenus pour les quatres fonctions d'activation proposées par _Scikit-Learn_.\n",
    "- Affichez la fonction qui vous parait la plus pertinente, ainsi que les scores associés."
   ]
  },
  {
   "cell_type": "code",
   "id": "9ad2a684",
   "metadata": {
    "ExecuteTime": {
     "end_time": "2025-05-22T07:40:13.305418Z",
     "start_time": "2025-05-22T07:40:13.302417Z"
    }
   },
   "source": [
    "#TODO"
   ],
   "outputs": [],
   "execution_count": 48
  },
  {
   "cell_type": "markdown",
   "id": "60141a50",
   "metadata": {},
   "source": [
    "## Partie 5 : comparer les performances des différents algorithmes\n",
    "\n",
    "Nous allons à présent résumer les différentes performances des algorithmes que vous avez testé dans ce TP :\n",
    "- Récupérez les meilleurs scores (accuracy) obtenu pour chaque algorithme.\n",
    "- Représentez-les sur un diagramme en barres, en regroupant par algorithme, et en représentant chaque score par une couleur.\n",
    "- Un algorithme semble-t'il obtenir de meilleures performances que les autres ?"
   ]
  },
  {
   "cell_type": "code",
   "id": "2318f1a5",
   "metadata": {
    "ExecuteTime": {
     "end_time": "2025-05-22T07:40:13.378574Z",
     "start_time": "2025-05-22T07:40:13.374051Z"
    }
   },
   "source": [
    "#TODO"
   ],
   "outputs": [],
   "execution_count": 49
  },
  {
   "cell_type": "markdown",
   "id": "fe7a5b28",
   "metadata": {},
   "source": [
    "## Partie 6 : optimiser la recherche des paramètres optimaux"
   ]
  },
  {
   "cell_type": "markdown",
   "id": "62b98a2e-281c-49fb-93b4-0a71d690e572",
   "metadata": {},
   "source": [
    "Dans ce TP, nous avons souvent cherché à identifier la meilleur combinaison de paramètres. Nous avons procédé par itération, en cherchant à fixer un paramètre avant de faire évoluer les autres. Cette méthode est coûteuse, et pour faire une recherche exhaustive, nécessite, de répéter très souvent le même code. Scikit-learn propose une classe, `sklearn.model_selection.GridSearchCV`, qui va permettre d'optimiser cette recherche de paramétrage optimal.\n",
    "\n",
    "_Lien vers la documentation :_ [sklearn.model_selection.GridSearchCV](https://scikit-learn.org/stable/modules/generated/sklearn.model_selection.GridSearchCV.html)\n",
    "\n",
    "Le principe est de définir un dictionnaire, où la clé correspond à un paramètre, et la valeur à la liste de valeurs possibles à tester pour le paramètre considéré. \n",
    "\n",
    "### Consigne :\n",
    "Appliquez ce principe pour déterminer la meilleure combinaison possible pour le réseau de neurones, en repartant des différentes configurations testées dans les parties précédentes."
   ]
  },
  {
   "cell_type": "code",
   "id": "7f6eeac1",
   "metadata": {
    "ExecuteTime": {
     "end_time": "2025-05-22T07:40:13.408717Z",
     "start_time": "2025-05-22T07:40:13.405540Z"
    }
   },
   "source": [
    "#TODO"
   ],
   "outputs": [],
   "execution_count": 50
  },
  {
   "cell_type": "code",
   "id": "40f04782-02e8-47f6-8f01-195c0b7f882f",
   "metadata": {
    "ExecuteTime": {
     "end_time": "2025-05-22T07:40:13.471028Z",
     "start_time": "2025-05-22T07:40:13.467988Z"
    }
   },
   "source": [
    "#TODO"
   ],
   "outputs": [],
   "execution_count": 51
  },
  {
   "cell_type": "markdown",
   "id": "82eca36d-3c7d-4440-ab03-066762fea747",
   "metadata": {},
   "source": [
    "# Fin du TP !"
   ]
  }
 ],
 "metadata": {
  "kernelspec": {
   "display_name": "Python 3 (ipykernel)",
   "language": "python",
   "name": "python3"
  },
  "language_info": {
   "codemirror_mode": {
    "name": "ipython",
    "version": 3
   },
   "file_extension": ".py",
   "mimetype": "text/x-python",
   "name": "python",
   "nbconvert_exporter": "python",
   "pygments_lexer": "ipython3",
   "version": "3.12.4"
  }
 },
 "nbformat": 4,
 "nbformat_minor": 5
}
