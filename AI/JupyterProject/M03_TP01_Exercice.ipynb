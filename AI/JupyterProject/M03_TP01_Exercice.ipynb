{
 "cells": [
  {
   "cell_type": "markdown",
   "id": "55d19678",
   "metadata": {},
   "source": [
    "# TP n°1 du Module 3 : les librairies Python pour le _Machine Learning_\n",
    "\n",
    "Dans ce TP, nous allons explorer les 4 librairies présentées dans le cours. Objectifs :\n",
    "* Savoir créer et récupérer des données avec _NumPy_ et _Pandas_\n",
    "* Savoir interroger les données avec _Pandas_\n",
    "* Savoir calculer des statistiques de base\n",
    "* Produire des visualisations avec _Matplotlib_ (module _PyPlot_) et _Seaborn_"
   ]
  },
  {
   "cell_type": "code",
   "id": "4ceeadf3",
   "metadata": {
    "ExecuteTime": {
     "end_time": "2025-05-20T10:14:16.125284Z",
     "start_time": "2025-05-20T10:14:16.122276Z"
    }
   },
   "source": [
    "import numpy as np\n",
    "import pandas as pd\n",
    "import matplotlib.pyplot as plt\n",
    "import seaborn as sns"
   ],
   "outputs": [],
   "execution_count": 48
  },
  {
   "cell_type": "markdown",
   "id": "06617af8",
   "metadata": {},
   "source": [
    "## Première partie : s'échauffer avec NumPy !\n",
    "Commencons avec quelques exercices sur NumPy, qui vous permettront également de réviser certaines fonctionnalités de Python.\n",
    "\n",
    "Pour rappel, toute la documentation NumPy est disponible en cliquant sur ce [lien](https://numpy.org/doc/stable/user/index.html)\n",
    "\n",
    "### Question n°1\n",
    "Créer une matrice `mat` 3x3 contenant tous les chiffres de 1 à 9, à l'aide des méthodes `arange` et `reshape`."
   ]
  },
  {
   "metadata": {},
   "cell_type": "markdown",
   "source": "",
   "id": "91f32304432d5aab"
  },
  {
   "cell_type": "code",
   "id": "f4bbe51d",
   "metadata": {
    "ExecuteTime": {
     "end_time": "2025-05-20T10:14:16.175959Z",
     "start_time": "2025-05-20T10:14:16.171954Z"
    }
   },
   "source": [
    "matrice = np.arange(1,10).reshape((3, 3))\n",
    "matrice\n"
   ],
   "outputs": [
    {
     "data": {
      "text/plain": [
       "array([[1, 2, 3],\n",
       "       [4, 5, 6],\n",
       "       [7, 8, 9]])"
      ]
     },
     "execution_count": 49,
     "metadata": {},
     "output_type": "execute_result"
    }
   ],
   "execution_count": 49
  },
  {
   "cell_type": "markdown",
   "id": "b7a6cbc4",
   "metadata": {},
   "source": [
    "### Question n°2\n",
    "Écrire une fonction prenant en paramètre une matrice carré (de taille NxN, où N est un entier), et qui renvoie sa _trace_ (la somme des nombres sur la diagonale de la matrice), sans utiliser la méthode `trace` de _NumPy_. \n",
    "\n",
    "Puis, appliquez votre fonction à la matrice `mat` créée à la question précédente, et comparez le résultat avec la méthode `trace` de _NumPy_ pour valider votre fonction."
   ]
  },
  {
   "cell_type": "code",
   "id": "f646cc15",
   "metadata": {
    "ExecuteTime": {
     "end_time": "2025-05-20T10:14:16.238877Z",
     "start_time": "2025-05-20T10:14:16.235868Z"
    }
   },
   "source": [
    "def trace(mat):\n",
    "    result = 0\n",
    "    for i in range(0, len(mat)):\n",
    "        result+=[i][i]\n",
    "    return result"
   ],
   "outputs": [],
   "execution_count": 50
  },
  {
   "cell_type": "markdown",
   "id": "05c9d50e",
   "metadata": {},
   "source": [
    "### Question n°3\n",
    "Créez une deuxième matrice `mat2`, de dimension 3x3 également, qui ne contient que des 1."
   ]
  },
  {
   "cell_type": "code",
   "id": "d09bc99f",
   "metadata": {
    "ExecuteTime": {
     "end_time": "2025-05-20T10:14:16.371866Z",
     "start_time": "2025-05-20T10:14:16.367918Z"
    }
   },
   "source": [
    "matrice1 = np.ones((3, 3), dtype=int)\n",
    "matrice1"
   ],
   "outputs": [
    {
     "data": {
      "text/plain": [
       "array([[1, 1, 1],\n",
       "       [1, 1, 1],\n",
       "       [1, 1, 1]])"
      ]
     },
     "execution_count": 51,
     "metadata": {},
     "output_type": "execute_result"
    }
   ],
   "execution_count": 51
  },
  {
   "cell_type": "markdown",
   "id": "81406a80",
   "metadata": {},
   "source": [
    "### Question n°4\n",
    "Créez la matrice `vert`, qui consiste à empiler verticalement `mat` sur `mat2`.\n",
    "\n",
    "Résultat attendu :\n",
    "|   |   |   |\n",
    "|---|---|---|\n",
    "| 1 | 2 | 3 |\n",
    "| 4 | 5 | 6 |\n",
    "| 7 | 8 | 9 |\n",
    "| 1 | 1 | 1 |\n",
    "| 1 | 1 | 1 |\n",
    "| 1 | 1 | 1 |"
   ]
  },
  {
   "cell_type": "code",
   "id": "e79b59fd",
   "metadata": {
    "ExecuteTime": {
     "end_time": "2025-05-20T10:14:16.493985Z",
     "start_time": "2025-05-20T10:14:16.489985Z"
    }
   },
   "source": [
    "vert = np.concatenate((matrice, matrice1))\n",
    "vert"
   ],
   "outputs": [
    {
     "data": {
      "text/plain": [
       "array([[1, 2, 3],\n",
       "       [4, 5, 6],\n",
       "       [7, 8, 9],\n",
       "       [1, 1, 1],\n",
       "       [1, 1, 1],\n",
       "       [1, 1, 1]])"
      ]
     },
     "execution_count": 52,
     "metadata": {},
     "output_type": "execute_result"
    }
   ],
   "execution_count": 52
  },
  {
   "cell_type": "markdown",
   "id": "4d168af1",
   "metadata": {},
   "source": [
    "### Question n°5\n",
    "Créez la matrice `hori`, qui consiste à coller horizontalement `mat` à `mat2`.\n",
    "\n",
    "Résultat attendu :\n",
    "|   |   |   |   |   |   |\n",
    "|---|---|---|---|---|---|\n",
    "| 1 | 2 | 3 | 1 | 1 | 1 |\n",
    "| 4 | 5 | 6 | 1 | 1 | 1 |\n",
    "| 7 | 8 | 9 | 1 | 1 | 1 |"
   ]
  },
  {
   "cell_type": "code",
   "id": "041d438b",
   "metadata": {
    "ExecuteTime": {
     "end_time": "2025-05-20T10:14:16.634996Z",
     "start_time": "2025-05-20T10:14:16.630490Z"
    }
   },
   "source": [
    "hmatrice = np.hstack((matrice, matrice1))\n",
    "hmatrice"
   ],
   "outputs": [
    {
     "data": {
      "text/plain": [
       "array([[1, 2, 3, 1, 1, 1],\n",
       "       [4, 5, 6, 1, 1, 1],\n",
       "       [7, 8, 9, 1, 1, 1]])"
      ]
     },
     "execution_count": 53,
     "metadata": {},
     "output_type": "execute_result"
    }
   ],
   "execution_count": 53
  },
  {
   "cell_type": "markdown",
   "id": "c37d28f6",
   "metadata": {},
   "source": [
    "### Question n°6\n",
    "Écrire une fonction `less_than` qui prend en paramètre une matrice (`matrice`) et un nombre (`limite`), qui renvoie le nombre d'éléments de la matrice mais uniquement pour les éléments qui sont strictement inférieurs à ce nombre limite.\n",
    "\n",
    "_Indice : Vous pouvez utiliser la méthode `count_nonzero` de NumPy._"
   ]
  },
  {
   "cell_type": "code",
   "id": "f916be17",
   "metadata": {
    "ExecuteTime": {
     "end_time": "2025-05-20T10:14:16.822639Z",
     "start_time": "2025-05-20T10:14:16.818344Z"
    }
   },
   "source": [
    "def less_than(matParam, limit):\n",
    "    return np.count_nonzero(matParam < limit)\n",
    "\n",
    "less_than(hmatrice, 3)"
   ],
   "outputs": [
    {
     "data": {
      "text/plain": [
       "11"
      ]
     },
     "execution_count": 54,
     "metadata": {},
     "output_type": "execute_result"
    }
   ],
   "execution_count": 54
  },
  {
   "cell_type": "markdown",
   "id": "908cc920-e841-45cb-8bf0-406f09266286",
   "metadata": {},
   "source": [
    "## Partie 2 : manipuler un jeu de données\n",
    "Après cet échauffement, nous allons passer à la manipulation d'un jeu de données, pour en commencer l'analyse, et pour produire des visualisations.\n",
    "\n",
    "### Présentation du jeu de données\n",
    "Pour ce TP (et les suivants), nous allons analyser les données d'un jeu de données sur les passagers du Titanic.\n",
    "\n",
    "_Pour rappel, le RMS Titanic est un paquebot transatlantique britannique qui fait naufrage dans l'océan Atlantique Nord en 1912 à la suite d'une collision avec un iceberg, lors de son voyage inaugural de Southampton à New York.<br/>Entre 1 490 et 1 520 personnes trouvent la mort, ce qui fait de cet événement l'une des plus grandes catastrophes maritimes survenues en temps de paix et la plus grande pour l'époque._\n",
    "\n",
    "![Le Titanic à Southampton le 10 avril 1912. ](https://upload.wikimedia.org/wikipedia/commons/thumb/f/fd/RMS_Titanic_3.jpg/420px-RMS_Titanic_3.jpg)\n",
    "\n",
    "Ce jeu de données est assez utilisé pour débuter dans le machine learning. Nous irons plus loin sur le prochain TP (module 4) dans son analyse, sur cette partie l'objectif est simplement de prendre en main Pandas, Matplotlib et Seaborn.\n",
    "\n",
    "Les données contiennent un ensemble d'information sur ces passages (genre, âge, …), ainsi qu'un atribut sépcifiant s'ils ont ou non survécu au naufrage.\n",
    "\n",
    "Pour vous aider, voilà un bref descriptifs des attributs du jeu de données :\n",
    "|N°| Attribut | Explications |\n",
    "|-:| :-- |:--: |\n",
    "|0| PassengerId | N° de Passager |\n",
    "|1| Survived | 0= Décédé, 1= Survivant |\n",
    "|2| Pclass | 1= cabine 1ere classe, 2= cabine 2e classe, 3= cabine 3e classe |\n",
    "|3| Name | Nom, Civilité. Prénom |\n",
    "|4| Sex | _female_ = Femme, _male_ = Homme |\n",
    "|5| Age |Âge (années) |\n",
    "|6| SibSp | Nb. de frères, sœurs, et/ou conjoint |\n",
    "|7| Parch | Nb. de parents et/ou enfant |\n",
    "|8| Ticket | N° Ticket |\n",
    "|9| Fare | Tarif du billet / Classe (£) |\n",
    "|10| Cabin | Code de Cabine |\n",
    "|11| Embarked | Port d'embarquement (C = Cherbourg; Q = Queenstown; S = Southampton) |\n",
    "||||"
   ]
  },
  {
   "cell_type": "markdown",
   "id": "5e1c586f",
   "metadata": {},
   "source": [
    "### Pandas\n",
    "Dans cette partie, chaque question ne nécessite qu'une seule ligne de code.\n",
    "\n",
    "_Attention : n'oublier pas d'importer la librairie correspondant…_"
   ]
  },
  {
   "cell_type": "markdown",
   "id": "6bcb4062-99c8-4936-bcef-798f1f72a07e",
   "metadata": {},
   "source": [
    "#### Question n°1\n",
    "Charger le jeu de données dans un Dataframe nommé `titanic` depuis l'adresse suivante :\n",
    "- https://raw.githubusercontent.com/datasciencedojo/datasets/master/titanic.csv"
   ]
  },
  {
   "cell_type": "code",
   "id": "96ab19ad",
   "metadata": {
    "ExecuteTime": {
     "end_time": "2025-05-20T10:14:17.089671Z",
     "start_time": "2025-05-20T10:14:17.002489Z"
    }
   },
   "source": [
    "titanic = pd.read_csv(\"https://raw.githubusercontent.com/datasciencedojo/datasets/master/titanic.csv\")\n",
    "titanic"
   ],
   "outputs": [
    {
     "data": {
      "text/plain": [
       "     PassengerId  Survived  Pclass  \\\n",
       "0              1         0       3   \n",
       "1              2         1       1   \n",
       "2              3         1       3   \n",
       "3              4         1       1   \n",
       "4              5         0       3   \n",
       "..           ...       ...     ...   \n",
       "886          887         0       2   \n",
       "887          888         1       1   \n",
       "888          889         0       3   \n",
       "889          890         1       1   \n",
       "890          891         0       3   \n",
       "\n",
       "                                                  Name     Sex   Age  SibSp  \\\n",
       "0                              Braund, Mr. Owen Harris    male  22.0      1   \n",
       "1    Cumings, Mrs. John Bradley (Florence Briggs Th...  female  38.0      1   \n",
       "2                               Heikkinen, Miss. Laina  female  26.0      0   \n",
       "3         Futrelle, Mrs. Jacques Heath (Lily May Peel)  female  35.0      1   \n",
       "4                             Allen, Mr. William Henry    male  35.0      0   \n",
       "..                                                 ...     ...   ...    ...   \n",
       "886                              Montvila, Rev. Juozas    male  27.0      0   \n",
       "887                       Graham, Miss. Margaret Edith  female  19.0      0   \n",
       "888           Johnston, Miss. Catherine Helen \"Carrie\"  female   NaN      1   \n",
       "889                              Behr, Mr. Karl Howell    male  26.0      0   \n",
       "890                                Dooley, Mr. Patrick    male  32.0      0   \n",
       "\n",
       "     Parch            Ticket     Fare Cabin Embarked  \n",
       "0        0         A/5 21171   7.2500   NaN        S  \n",
       "1        0          PC 17599  71.2833   C85        C  \n",
       "2        0  STON/O2. 3101282   7.9250   NaN        S  \n",
       "3        0            113803  53.1000  C123        S  \n",
       "4        0            373450   8.0500   NaN        S  \n",
       "..     ...               ...      ...   ...      ...  \n",
       "886      0            211536  13.0000   NaN        S  \n",
       "887      0            112053  30.0000   B42        S  \n",
       "888      2        W./C. 6607  23.4500   NaN        S  \n",
       "889      0            111369  30.0000  C148        C  \n",
       "890      0            370376   7.7500   NaN        Q  \n",
       "\n",
       "[891 rows x 12 columns]"
      ],
      "text/html": [
       "<div>\n",
       "<style scoped>\n",
       "    .dataframe tbody tr th:only-of-type {\n",
       "        vertical-align: middle;\n",
       "    }\n",
       "\n",
       "    .dataframe tbody tr th {\n",
       "        vertical-align: top;\n",
       "    }\n",
       "\n",
       "    .dataframe thead th {\n",
       "        text-align: right;\n",
       "    }\n",
       "</style>\n",
       "<table border=\"1\" class=\"dataframe\">\n",
       "  <thead>\n",
       "    <tr style=\"text-align: right;\">\n",
       "      <th></th>\n",
       "      <th>PassengerId</th>\n",
       "      <th>Survived</th>\n",
       "      <th>Pclass</th>\n",
       "      <th>Name</th>\n",
       "      <th>Sex</th>\n",
       "      <th>Age</th>\n",
       "      <th>SibSp</th>\n",
       "      <th>Parch</th>\n",
       "      <th>Ticket</th>\n",
       "      <th>Fare</th>\n",
       "      <th>Cabin</th>\n",
       "      <th>Embarked</th>\n",
       "    </tr>\n",
       "  </thead>\n",
       "  <tbody>\n",
       "    <tr>\n",
       "      <th>0</th>\n",
       "      <td>1</td>\n",
       "      <td>0</td>\n",
       "      <td>3</td>\n",
       "      <td>Braund, Mr. Owen Harris</td>\n",
       "      <td>male</td>\n",
       "      <td>22.0</td>\n",
       "      <td>1</td>\n",
       "      <td>0</td>\n",
       "      <td>A/5 21171</td>\n",
       "      <td>7.2500</td>\n",
       "      <td>NaN</td>\n",
       "      <td>S</td>\n",
       "    </tr>\n",
       "    <tr>\n",
       "      <th>1</th>\n",
       "      <td>2</td>\n",
       "      <td>1</td>\n",
       "      <td>1</td>\n",
       "      <td>Cumings, Mrs. John Bradley (Florence Briggs Th...</td>\n",
       "      <td>female</td>\n",
       "      <td>38.0</td>\n",
       "      <td>1</td>\n",
       "      <td>0</td>\n",
       "      <td>PC 17599</td>\n",
       "      <td>71.2833</td>\n",
       "      <td>C85</td>\n",
       "      <td>C</td>\n",
       "    </tr>\n",
       "    <tr>\n",
       "      <th>2</th>\n",
       "      <td>3</td>\n",
       "      <td>1</td>\n",
       "      <td>3</td>\n",
       "      <td>Heikkinen, Miss. Laina</td>\n",
       "      <td>female</td>\n",
       "      <td>26.0</td>\n",
       "      <td>0</td>\n",
       "      <td>0</td>\n",
       "      <td>STON/O2. 3101282</td>\n",
       "      <td>7.9250</td>\n",
       "      <td>NaN</td>\n",
       "      <td>S</td>\n",
       "    </tr>\n",
       "    <tr>\n",
       "      <th>3</th>\n",
       "      <td>4</td>\n",
       "      <td>1</td>\n",
       "      <td>1</td>\n",
       "      <td>Futrelle, Mrs. Jacques Heath (Lily May Peel)</td>\n",
       "      <td>female</td>\n",
       "      <td>35.0</td>\n",
       "      <td>1</td>\n",
       "      <td>0</td>\n",
       "      <td>113803</td>\n",
       "      <td>53.1000</td>\n",
       "      <td>C123</td>\n",
       "      <td>S</td>\n",
       "    </tr>\n",
       "    <tr>\n",
       "      <th>4</th>\n",
       "      <td>5</td>\n",
       "      <td>0</td>\n",
       "      <td>3</td>\n",
       "      <td>Allen, Mr. William Henry</td>\n",
       "      <td>male</td>\n",
       "      <td>35.0</td>\n",
       "      <td>0</td>\n",
       "      <td>0</td>\n",
       "      <td>373450</td>\n",
       "      <td>8.0500</td>\n",
       "      <td>NaN</td>\n",
       "      <td>S</td>\n",
       "    </tr>\n",
       "    <tr>\n",
       "      <th>...</th>\n",
       "      <td>...</td>\n",
       "      <td>...</td>\n",
       "      <td>...</td>\n",
       "      <td>...</td>\n",
       "      <td>...</td>\n",
       "      <td>...</td>\n",
       "      <td>...</td>\n",
       "      <td>...</td>\n",
       "      <td>...</td>\n",
       "      <td>...</td>\n",
       "      <td>...</td>\n",
       "      <td>...</td>\n",
       "    </tr>\n",
       "    <tr>\n",
       "      <th>886</th>\n",
       "      <td>887</td>\n",
       "      <td>0</td>\n",
       "      <td>2</td>\n",
       "      <td>Montvila, Rev. Juozas</td>\n",
       "      <td>male</td>\n",
       "      <td>27.0</td>\n",
       "      <td>0</td>\n",
       "      <td>0</td>\n",
       "      <td>211536</td>\n",
       "      <td>13.0000</td>\n",
       "      <td>NaN</td>\n",
       "      <td>S</td>\n",
       "    </tr>\n",
       "    <tr>\n",
       "      <th>887</th>\n",
       "      <td>888</td>\n",
       "      <td>1</td>\n",
       "      <td>1</td>\n",
       "      <td>Graham, Miss. Margaret Edith</td>\n",
       "      <td>female</td>\n",
       "      <td>19.0</td>\n",
       "      <td>0</td>\n",
       "      <td>0</td>\n",
       "      <td>112053</td>\n",
       "      <td>30.0000</td>\n",
       "      <td>B42</td>\n",
       "      <td>S</td>\n",
       "    </tr>\n",
       "    <tr>\n",
       "      <th>888</th>\n",
       "      <td>889</td>\n",
       "      <td>0</td>\n",
       "      <td>3</td>\n",
       "      <td>Johnston, Miss. Catherine Helen \"Carrie\"</td>\n",
       "      <td>female</td>\n",
       "      <td>NaN</td>\n",
       "      <td>1</td>\n",
       "      <td>2</td>\n",
       "      <td>W./C. 6607</td>\n",
       "      <td>23.4500</td>\n",
       "      <td>NaN</td>\n",
       "      <td>S</td>\n",
       "    </tr>\n",
       "    <tr>\n",
       "      <th>889</th>\n",
       "      <td>890</td>\n",
       "      <td>1</td>\n",
       "      <td>1</td>\n",
       "      <td>Behr, Mr. Karl Howell</td>\n",
       "      <td>male</td>\n",
       "      <td>26.0</td>\n",
       "      <td>0</td>\n",
       "      <td>0</td>\n",
       "      <td>111369</td>\n",
       "      <td>30.0000</td>\n",
       "      <td>C148</td>\n",
       "      <td>C</td>\n",
       "    </tr>\n",
       "    <tr>\n",
       "      <th>890</th>\n",
       "      <td>891</td>\n",
       "      <td>0</td>\n",
       "      <td>3</td>\n",
       "      <td>Dooley, Mr. Patrick</td>\n",
       "      <td>male</td>\n",
       "      <td>32.0</td>\n",
       "      <td>0</td>\n",
       "      <td>0</td>\n",
       "      <td>370376</td>\n",
       "      <td>7.7500</td>\n",
       "      <td>NaN</td>\n",
       "      <td>Q</td>\n",
       "    </tr>\n",
       "  </tbody>\n",
       "</table>\n",
       "<p>891 rows × 12 columns</p>\n",
       "</div>"
      ]
     },
     "execution_count": 55,
     "metadata": {},
     "output_type": "execute_result"
    }
   ],
   "execution_count": 55
  },
  {
   "cell_type": "markdown",
   "id": "539c23f2",
   "metadata": {},
   "source": [
    "#### Question n° 2\n",
    "Répondre à ces 3 questions (en une seule instruction) :\n",
    "1. Combien de lignes comporte ce dataset ?\n",
    "2. Combien de colonnes ?\n",
    "3. Contient-il des valeurs nulles dans certaines colonnes ?"
   ]
  },
  {
   "cell_type": "code",
   "id": "72c8a945",
   "metadata": {
    "ExecuteTime": {
     "end_time": "2025-05-20T10:14:17.147471Z",
     "start_time": "2025-05-20T10:14:17.140953Z"
    }
   },
   "source": "titanic.info()",
   "outputs": [
    {
     "name": "stdout",
     "output_type": "stream",
     "text": [
      "<class 'pandas.core.frame.DataFrame'>\n",
      "RangeIndex: 891 entries, 0 to 890\n",
      "Data columns (total 12 columns):\n",
      " #   Column       Non-Null Count  Dtype  \n",
      "---  ------       --------------  -----  \n",
      " 0   PassengerId  891 non-null    int64  \n",
      " 1   Survived     891 non-null    int64  \n",
      " 2   Pclass       891 non-null    int64  \n",
      " 3   Name         891 non-null    object \n",
      " 4   Sex          891 non-null    object \n",
      " 5   Age          714 non-null    float64\n",
      " 6   SibSp        891 non-null    int64  \n",
      " 7   Parch        891 non-null    int64  \n",
      " 8   Ticket       891 non-null    object \n",
      " 9   Fare         891 non-null    float64\n",
      " 10  Cabin        204 non-null    object \n",
      " 11  Embarked     889 non-null    object \n",
      "dtypes: float64(2), int64(5), object(5)\n",
      "memory usage: 83.7+ KB\n"
     ]
    }
   ],
   "execution_count": 56
  },
  {
   "cell_type": "markdown",
   "id": "292c712a",
   "metadata": {},
   "source": [
    "#### Question n°3\n",
    "Calculez les statistiques de base sur les colonnes numériques ce jeu de données"
   ]
  },
  {
   "cell_type": "code",
   "id": "3b8aea3e",
   "metadata": {
    "ExecuteTime": {
     "end_time": "2025-05-20T10:14:17.326218Z",
     "start_time": "2025-05-20T10:14:17.311665Z"
    }
   },
   "source": "titanic.describe()",
   "outputs": [
    {
     "data": {
      "text/plain": [
       "       PassengerId    Survived      Pclass         Age       SibSp  \\\n",
       "count   891.000000  891.000000  891.000000  714.000000  891.000000   \n",
       "mean    446.000000    0.383838    2.308642   29.699118    0.523008   \n",
       "std     257.353842    0.486592    0.836071   14.526497    1.102743   \n",
       "min       1.000000    0.000000    1.000000    0.420000    0.000000   \n",
       "25%     223.500000    0.000000    2.000000   20.125000    0.000000   \n",
       "50%     446.000000    0.000000    3.000000   28.000000    0.000000   \n",
       "75%     668.500000    1.000000    3.000000   38.000000    1.000000   \n",
       "max     891.000000    1.000000    3.000000   80.000000    8.000000   \n",
       "\n",
       "            Parch        Fare  \n",
       "count  891.000000  891.000000  \n",
       "mean     0.381594   32.204208  \n",
       "std      0.806057   49.693429  \n",
       "min      0.000000    0.000000  \n",
       "25%      0.000000    7.910400  \n",
       "50%      0.000000   14.454200  \n",
       "75%      0.000000   31.000000  \n",
       "max      6.000000  512.329200  "
      ],
      "text/html": [
       "<div>\n",
       "<style scoped>\n",
       "    .dataframe tbody tr th:only-of-type {\n",
       "        vertical-align: middle;\n",
       "    }\n",
       "\n",
       "    .dataframe tbody tr th {\n",
       "        vertical-align: top;\n",
       "    }\n",
       "\n",
       "    .dataframe thead th {\n",
       "        text-align: right;\n",
       "    }\n",
       "</style>\n",
       "<table border=\"1\" class=\"dataframe\">\n",
       "  <thead>\n",
       "    <tr style=\"text-align: right;\">\n",
       "      <th></th>\n",
       "      <th>PassengerId</th>\n",
       "      <th>Survived</th>\n",
       "      <th>Pclass</th>\n",
       "      <th>Age</th>\n",
       "      <th>SibSp</th>\n",
       "      <th>Parch</th>\n",
       "      <th>Fare</th>\n",
       "    </tr>\n",
       "  </thead>\n",
       "  <tbody>\n",
       "    <tr>\n",
       "      <th>count</th>\n",
       "      <td>891.000000</td>\n",
       "      <td>891.000000</td>\n",
       "      <td>891.000000</td>\n",
       "      <td>714.000000</td>\n",
       "      <td>891.000000</td>\n",
       "      <td>891.000000</td>\n",
       "      <td>891.000000</td>\n",
       "    </tr>\n",
       "    <tr>\n",
       "      <th>mean</th>\n",
       "      <td>446.000000</td>\n",
       "      <td>0.383838</td>\n",
       "      <td>2.308642</td>\n",
       "      <td>29.699118</td>\n",
       "      <td>0.523008</td>\n",
       "      <td>0.381594</td>\n",
       "      <td>32.204208</td>\n",
       "    </tr>\n",
       "    <tr>\n",
       "      <th>std</th>\n",
       "      <td>257.353842</td>\n",
       "      <td>0.486592</td>\n",
       "      <td>0.836071</td>\n",
       "      <td>14.526497</td>\n",
       "      <td>1.102743</td>\n",
       "      <td>0.806057</td>\n",
       "      <td>49.693429</td>\n",
       "    </tr>\n",
       "    <tr>\n",
       "      <th>min</th>\n",
       "      <td>1.000000</td>\n",
       "      <td>0.000000</td>\n",
       "      <td>1.000000</td>\n",
       "      <td>0.420000</td>\n",
       "      <td>0.000000</td>\n",
       "      <td>0.000000</td>\n",
       "      <td>0.000000</td>\n",
       "    </tr>\n",
       "    <tr>\n",
       "      <th>25%</th>\n",
       "      <td>223.500000</td>\n",
       "      <td>0.000000</td>\n",
       "      <td>2.000000</td>\n",
       "      <td>20.125000</td>\n",
       "      <td>0.000000</td>\n",
       "      <td>0.000000</td>\n",
       "      <td>7.910400</td>\n",
       "    </tr>\n",
       "    <tr>\n",
       "      <th>50%</th>\n",
       "      <td>446.000000</td>\n",
       "      <td>0.000000</td>\n",
       "      <td>3.000000</td>\n",
       "      <td>28.000000</td>\n",
       "      <td>0.000000</td>\n",
       "      <td>0.000000</td>\n",
       "      <td>14.454200</td>\n",
       "    </tr>\n",
       "    <tr>\n",
       "      <th>75%</th>\n",
       "      <td>668.500000</td>\n",
       "      <td>1.000000</td>\n",
       "      <td>3.000000</td>\n",
       "      <td>38.000000</td>\n",
       "      <td>1.000000</td>\n",
       "      <td>0.000000</td>\n",
       "      <td>31.000000</td>\n",
       "    </tr>\n",
       "    <tr>\n",
       "      <th>max</th>\n",
       "      <td>891.000000</td>\n",
       "      <td>1.000000</td>\n",
       "      <td>3.000000</td>\n",
       "      <td>80.000000</td>\n",
       "      <td>8.000000</td>\n",
       "      <td>6.000000</td>\n",
       "      <td>512.329200</td>\n",
       "    </tr>\n",
       "  </tbody>\n",
       "</table>\n",
       "</div>"
      ]
     },
     "execution_count": 57,
     "metadata": {},
     "output_type": "execute_result"
    }
   ],
   "execution_count": 57
  },
  {
   "cell_type": "markdown",
   "id": "805559e2",
   "metadata": {},
   "source": [
    "#### Question n°4\n",
    "Sélectionnez uniquement les colonnes `Survived` et `Age`"
   ]
  },
  {
   "cell_type": "code",
   "id": "b984a966",
   "metadata": {
    "ExecuteTime": {
     "end_time": "2025-05-20T10:14:17.462932Z",
     "start_time": "2025-05-20T10:14:17.455520Z"
    }
   },
   "source": [
    "age_survived = titanic[['Survived', 'Age']]\n",
    "age_survived"
   ],
   "outputs": [
    {
     "data": {
      "text/plain": [
       "     Survived   Age\n",
       "0           0  22.0\n",
       "1           1  38.0\n",
       "2           1  26.0\n",
       "3           1  35.0\n",
       "4           0  35.0\n",
       "..        ...   ...\n",
       "886         0  27.0\n",
       "887         1  19.0\n",
       "888         0   NaN\n",
       "889         1  26.0\n",
       "890         0  32.0\n",
       "\n",
       "[891 rows x 2 columns]"
      ],
      "text/html": [
       "<div>\n",
       "<style scoped>\n",
       "    .dataframe tbody tr th:only-of-type {\n",
       "        vertical-align: middle;\n",
       "    }\n",
       "\n",
       "    .dataframe tbody tr th {\n",
       "        vertical-align: top;\n",
       "    }\n",
       "\n",
       "    .dataframe thead th {\n",
       "        text-align: right;\n",
       "    }\n",
       "</style>\n",
       "<table border=\"1\" class=\"dataframe\">\n",
       "  <thead>\n",
       "    <tr style=\"text-align: right;\">\n",
       "      <th></th>\n",
       "      <th>Survived</th>\n",
       "      <th>Age</th>\n",
       "    </tr>\n",
       "  </thead>\n",
       "  <tbody>\n",
       "    <tr>\n",
       "      <th>0</th>\n",
       "      <td>0</td>\n",
       "      <td>22.0</td>\n",
       "    </tr>\n",
       "    <tr>\n",
       "      <th>1</th>\n",
       "      <td>1</td>\n",
       "      <td>38.0</td>\n",
       "    </tr>\n",
       "    <tr>\n",
       "      <th>2</th>\n",
       "      <td>1</td>\n",
       "      <td>26.0</td>\n",
       "    </tr>\n",
       "    <tr>\n",
       "      <th>3</th>\n",
       "      <td>1</td>\n",
       "      <td>35.0</td>\n",
       "    </tr>\n",
       "    <tr>\n",
       "      <th>4</th>\n",
       "      <td>0</td>\n",
       "      <td>35.0</td>\n",
       "    </tr>\n",
       "    <tr>\n",
       "      <th>...</th>\n",
       "      <td>...</td>\n",
       "      <td>...</td>\n",
       "    </tr>\n",
       "    <tr>\n",
       "      <th>886</th>\n",
       "      <td>0</td>\n",
       "      <td>27.0</td>\n",
       "    </tr>\n",
       "    <tr>\n",
       "      <th>887</th>\n",
       "      <td>1</td>\n",
       "      <td>19.0</td>\n",
       "    </tr>\n",
       "    <tr>\n",
       "      <th>888</th>\n",
       "      <td>0</td>\n",
       "      <td>NaN</td>\n",
       "    </tr>\n",
       "    <tr>\n",
       "      <th>889</th>\n",
       "      <td>1</td>\n",
       "      <td>26.0</td>\n",
       "    </tr>\n",
       "    <tr>\n",
       "      <th>890</th>\n",
       "      <td>0</td>\n",
       "      <td>32.0</td>\n",
       "    </tr>\n",
       "  </tbody>\n",
       "</table>\n",
       "<p>891 rows × 2 columns</p>\n",
       "</div>"
      ]
     },
     "execution_count": 58,
     "metadata": {},
     "output_type": "execute_result"
    }
   ],
   "execution_count": 58
  },
  {
   "cell_type": "markdown",
   "id": "899df8dc",
   "metadata": {},
   "source": [
    "#### Question n°5\n",
    "Sélectionner les informations sur le passager ayant occupé la cabine B78.\n",
    "\n",
    "Résultat attendu : \n",
    "|    | PassengerId | Survived | Pclass |                                           Name |    Sex | Age | SibSp | Parch |   Ticket |     Fare | Cabin | Embarked |\n",
    "|---:|------------:|---------:|-------:|-----------------------------------------------:|-------:|----:|------:|------:|---------:|---------:|------:|---------:|\n",
    "| 31 | 32          | 1        | 1      | Spencer, Mrs. William Augustus (Marie Eugenie) | female | NaN | 1     | 0     | PC 17569 | 146.5208 | B78   | C        |"
   ]
  },
  {
   "cell_type": "code",
   "id": "4f6fd760",
   "metadata": {
    "ExecuteTime": {
     "end_time": "2025-05-20T10:14:17.624032Z",
     "start_time": "2025-05-20T10:14:17.615531Z"
    }
   },
   "source": [
    "cabB478 = titanic[(titanic['Cabin'] == 'B78')]\n",
    "cabB478"
   ],
   "outputs": [
    {
     "data": {
      "text/plain": [
       "    PassengerId  Survived  Pclass  \\\n",
       "31           32         1       1   \n",
       "\n",
       "                                              Name     Sex  Age  SibSp  Parch  \\\n",
       "31  Spencer, Mrs. William Augustus (Marie Eugenie)  female  NaN      1      0   \n",
       "\n",
       "      Ticket      Fare Cabin Embarked  \n",
       "31  PC 17569  146.5208   B78        C  "
      ],
      "text/html": [
       "<div>\n",
       "<style scoped>\n",
       "    .dataframe tbody tr th:only-of-type {\n",
       "        vertical-align: middle;\n",
       "    }\n",
       "\n",
       "    .dataframe tbody tr th {\n",
       "        vertical-align: top;\n",
       "    }\n",
       "\n",
       "    .dataframe thead th {\n",
       "        text-align: right;\n",
       "    }\n",
       "</style>\n",
       "<table border=\"1\" class=\"dataframe\">\n",
       "  <thead>\n",
       "    <tr style=\"text-align: right;\">\n",
       "      <th></th>\n",
       "      <th>PassengerId</th>\n",
       "      <th>Survived</th>\n",
       "      <th>Pclass</th>\n",
       "      <th>Name</th>\n",
       "      <th>Sex</th>\n",
       "      <th>Age</th>\n",
       "      <th>SibSp</th>\n",
       "      <th>Parch</th>\n",
       "      <th>Ticket</th>\n",
       "      <th>Fare</th>\n",
       "      <th>Cabin</th>\n",
       "      <th>Embarked</th>\n",
       "    </tr>\n",
       "  </thead>\n",
       "  <tbody>\n",
       "    <tr>\n",
       "      <th>31</th>\n",
       "      <td>32</td>\n",
       "      <td>1</td>\n",
       "      <td>1</td>\n",
       "      <td>Spencer, Mrs. William Augustus (Marie Eugenie)</td>\n",
       "      <td>female</td>\n",
       "      <td>NaN</td>\n",
       "      <td>1</td>\n",
       "      <td>0</td>\n",
       "      <td>PC 17569</td>\n",
       "      <td>146.5208</td>\n",
       "      <td>B78</td>\n",
       "      <td>C</td>\n",
       "    </tr>\n",
       "  </tbody>\n",
       "</table>\n",
       "</div>"
      ]
     },
     "execution_count": 59,
     "metadata": {},
     "output_type": "execute_result"
    }
   ],
   "execution_count": 59
  },
  {
   "cell_type": "markdown",
   "id": "3c6ac11b",
   "metadata": {},
   "source": [
    "#### Question n°6\n",
    "Sélectionnez uniquement les passagers âgés de plus de 30 ans (strictement), qui sont des femmes, qui voyageaient en première classe, et qui n'ont pas survécu.\n",
    "\n",
    "Résultat attendu :\n",
    "|     | PassengerId | Survived | Pclass |                       Name |    Sex |  Age | SibSp | Parch |   Ticket |    Fare | Cabin | Embarked |\n",
    "|----:|------------:|---------:|-------:|---------------------------:|-------:|-----:|------:|------:|---------:|--------:|------:|---------:|\n",
    "| 177 | 178         | 0        | 1      | Isham, Miss. Ann Elizabeth | female | 50.0 | 0     | 0     | PC 17595 | 28.7125 | C49   | C        |"
   ]
  },
  {
   "cell_type": "code",
   "id": "a7da8b14",
   "metadata": {
    "ExecuteTime": {
     "end_time": "2025-05-20T10:14:17.812414Z",
     "start_time": "2025-05-20T10:14:17.803935Z"
    }
   },
   "source": [
    "woman_30_not_survived = titanic[(titanic['Age'] > 30) & (titanic['Sex'] == 'female') & (titanic['Pclass'] == 1) & (titanic['Survived'] == 0)]\n",
    "woman_30_not_survived"
   ],
   "outputs": [
    {
     "data": {
      "text/plain": [
       "     PassengerId  Survived  Pclass                        Name     Sex   Age  \\\n",
       "177          178         0       1  Isham, Miss. Ann Elizabeth  female  50.0   \n",
       "\n",
       "     SibSp  Parch    Ticket     Fare Cabin Embarked  \n",
       "177      0      0  PC 17595  28.7125   C49        C  "
      ],
      "text/html": [
       "<div>\n",
       "<style scoped>\n",
       "    .dataframe tbody tr th:only-of-type {\n",
       "        vertical-align: middle;\n",
       "    }\n",
       "\n",
       "    .dataframe tbody tr th {\n",
       "        vertical-align: top;\n",
       "    }\n",
       "\n",
       "    .dataframe thead th {\n",
       "        text-align: right;\n",
       "    }\n",
       "</style>\n",
       "<table border=\"1\" class=\"dataframe\">\n",
       "  <thead>\n",
       "    <tr style=\"text-align: right;\">\n",
       "      <th></th>\n",
       "      <th>PassengerId</th>\n",
       "      <th>Survived</th>\n",
       "      <th>Pclass</th>\n",
       "      <th>Name</th>\n",
       "      <th>Sex</th>\n",
       "      <th>Age</th>\n",
       "      <th>SibSp</th>\n",
       "      <th>Parch</th>\n",
       "      <th>Ticket</th>\n",
       "      <th>Fare</th>\n",
       "      <th>Cabin</th>\n",
       "      <th>Embarked</th>\n",
       "    </tr>\n",
       "  </thead>\n",
       "  <tbody>\n",
       "    <tr>\n",
       "      <th>177</th>\n",
       "      <td>178</td>\n",
       "      <td>0</td>\n",
       "      <td>1</td>\n",
       "      <td>Isham, Miss. Ann Elizabeth</td>\n",
       "      <td>female</td>\n",
       "      <td>50.0</td>\n",
       "      <td>0</td>\n",
       "      <td>0</td>\n",
       "      <td>PC 17595</td>\n",
       "      <td>28.7125</td>\n",
       "      <td>C49</td>\n",
       "      <td>C</td>\n",
       "    </tr>\n",
       "  </tbody>\n",
       "</table>\n",
       "</div>"
      ]
     },
     "execution_count": 60,
     "metadata": {},
     "output_type": "execute_result"
    }
   ],
   "execution_count": 60
  },
  {
   "cell_type": "markdown",
   "id": "5fbf471a",
   "metadata": {},
   "source": [
    "#### Question n°7\n",
    "Trouver le nom des passagers qui sont montés à Cherbourg ou à Queenstown, qui voyageaient en 1e classe, avec au moins deux frère/soeurs/conjoints ?\n",
    "\n",
    "Résultat attendu :\n",
    "|     | PassengerId | Survived | Pclass |                                  Name |    Sex |  Age | SibSp | Parch |   Ticket |    Fare |           Cabin | Embarked |\n",
    "|----:|------------:|---------:|-------:|--------------------------------------:|-------:|-----:|------:|------:|---------:|--------:|----------------:|---------:|\n",
    "| 245 | 246         | 0        | 1      | Minahan, Dr. William Edward           | male   | 44.0 | 2     | 0     | 19928    | 90.000  | C78             | Q        |\n",
    "| 311 | 312         | 1        | 1      | Ryerson, Miss. Emily Borie            | female | 18.0 | 2     | 2     | PC 17608 | 262.375 | B57 B59 B63 B66 | C        |\n",
    "| 742 | 743         | 1        | 1      | Ryerson, Miss. Susan Parker \"Suzette\" | female | 21.0 | 2     | 2     | PC 17608 | 262.375 | B57 B59 B63 B66 | C        |"
   ]
  },
  {
   "cell_type": "code",
   "id": "eb6cf581",
   "metadata": {
    "ExecuteTime": {
     "end_time": "2025-05-20T10:14:18.122342Z",
     "start_time": "2025-05-20T10:14:18.113916Z"
    }
   },
   "source": [
    "first_class = titanic[titanic['Embarked'].isin([\"Q\", \"C\"]) & (titanic['Pclass'] == 1) & (titanic['SibSp'] >= 2)]\n",
    "first_class"
   ],
   "outputs": [
    {
     "data": {
      "text/plain": [
       "     PassengerId  Survived  Pclass                                   Name  \\\n",
       "245          246         0       1            Minahan, Dr. William Edward   \n",
       "311          312         1       1             Ryerson, Miss. Emily Borie   \n",
       "742          743         1       1  Ryerson, Miss. Susan Parker \"Suzette\"   \n",
       "\n",
       "        Sex   Age  SibSp  Parch    Ticket     Fare            Cabin Embarked  \n",
       "245    male  44.0      2      0     19928   90.000              C78        Q  \n",
       "311  female  18.0      2      2  PC 17608  262.375  B57 B59 B63 B66        C  \n",
       "742  female  21.0      2      2  PC 17608  262.375  B57 B59 B63 B66        C  "
      ],
      "text/html": [
       "<div>\n",
       "<style scoped>\n",
       "    .dataframe tbody tr th:only-of-type {\n",
       "        vertical-align: middle;\n",
       "    }\n",
       "\n",
       "    .dataframe tbody tr th {\n",
       "        vertical-align: top;\n",
       "    }\n",
       "\n",
       "    .dataframe thead th {\n",
       "        text-align: right;\n",
       "    }\n",
       "</style>\n",
       "<table border=\"1\" class=\"dataframe\">\n",
       "  <thead>\n",
       "    <tr style=\"text-align: right;\">\n",
       "      <th></th>\n",
       "      <th>PassengerId</th>\n",
       "      <th>Survived</th>\n",
       "      <th>Pclass</th>\n",
       "      <th>Name</th>\n",
       "      <th>Sex</th>\n",
       "      <th>Age</th>\n",
       "      <th>SibSp</th>\n",
       "      <th>Parch</th>\n",
       "      <th>Ticket</th>\n",
       "      <th>Fare</th>\n",
       "      <th>Cabin</th>\n",
       "      <th>Embarked</th>\n",
       "    </tr>\n",
       "  </thead>\n",
       "  <tbody>\n",
       "    <tr>\n",
       "      <th>245</th>\n",
       "      <td>246</td>\n",
       "      <td>0</td>\n",
       "      <td>1</td>\n",
       "      <td>Minahan, Dr. William Edward</td>\n",
       "      <td>male</td>\n",
       "      <td>44.0</td>\n",
       "      <td>2</td>\n",
       "      <td>0</td>\n",
       "      <td>19928</td>\n",
       "      <td>90.000</td>\n",
       "      <td>C78</td>\n",
       "      <td>Q</td>\n",
       "    </tr>\n",
       "    <tr>\n",
       "      <th>311</th>\n",
       "      <td>312</td>\n",
       "      <td>1</td>\n",
       "      <td>1</td>\n",
       "      <td>Ryerson, Miss. Emily Borie</td>\n",
       "      <td>female</td>\n",
       "      <td>18.0</td>\n",
       "      <td>2</td>\n",
       "      <td>2</td>\n",
       "      <td>PC 17608</td>\n",
       "      <td>262.375</td>\n",
       "      <td>B57 B59 B63 B66</td>\n",
       "      <td>C</td>\n",
       "    </tr>\n",
       "    <tr>\n",
       "      <th>742</th>\n",
       "      <td>743</td>\n",
       "      <td>1</td>\n",
       "      <td>1</td>\n",
       "      <td>Ryerson, Miss. Susan Parker \"Suzette\"</td>\n",
       "      <td>female</td>\n",
       "      <td>21.0</td>\n",
       "      <td>2</td>\n",
       "      <td>2</td>\n",
       "      <td>PC 17608</td>\n",
       "      <td>262.375</td>\n",
       "      <td>B57 B59 B63 B66</td>\n",
       "      <td>C</td>\n",
       "    </tr>\n",
       "  </tbody>\n",
       "</table>\n",
       "</div>"
      ]
     },
     "execution_count": 61,
     "metadata": {},
     "output_type": "execute_result"
    }
   ],
   "execution_count": 61
  },
  {
   "cell_type": "markdown",
   "id": "ec2f5672",
   "metadata": {},
   "source": [
    "#### Question n°8\n",
    "Compter le nombre de femmes et d'hommes ayant survécu. (rappel : en une seule ligne de code !).\n",
    "\n",
    "Résultat attendu :\n",
    "|          Sex |     |\n",
    "|-------------:|----:|\n",
    "|    female    | 233 |\n",
    "|     male     | 109 |\n",
    "| dtype: int64 |     |"
   ]
  },
  {
   "cell_type": "code",
   "id": "bfeb02c2",
   "metadata": {
    "ExecuteTime": {
     "end_time": "2025-05-20T10:14:18.237692Z",
     "start_time": "2025-05-20T10:14:18.232829Z"
    }
   },
   "source": [
    "survivors = titanic[titanic['Survived'] == 1].groupby('Sex').size().rename(\"Nombres\")\n",
    "survivors"
   ],
   "outputs": [
    {
     "data": {
      "text/plain": [
       "Sex\n",
       "female    233\n",
       "male      109\n",
       "Name: Nombres, dtype: int64"
      ]
     },
     "execution_count": 62,
     "metadata": {},
     "output_type": "execute_result"
    }
   ],
   "execution_count": 62
  },
  {
   "cell_type": "markdown",
   "id": "48f48106",
   "metadata": {},
   "source": [
    "#### Question n°9\n",
    "Pour chaque classe, calculer la moyenne d'âge.\n",
    "\n",
    "Résultat attendu :\n",
    "|           Pclass          |           |\n",
    "|:-------------------------:|----------:|\n",
    "|             1             | 38.233441 |\n",
    "|             2             | 29.877630 |\n",
    "|             3             | 25.140620 |\n",
    "| Name: Age, dtype: float64 |           |"
   ]
  },
  {
   "cell_type": "code",
   "id": "bd7b6d5c",
   "metadata": {
    "ExecuteTime": {
     "end_time": "2025-05-20T10:14:18.432048Z",
     "start_time": "2025-05-20T10:14:18.426747Z"
    }
   },
   "source": [
    "average_age = titanic.groupby('Pclass')['Age'].mean()\n",
    "average_age"
   ],
   "outputs": [
    {
     "data": {
      "text/plain": [
       "Pclass\n",
       "1    38.233441\n",
       "2    29.877630\n",
       "3    25.140620\n",
       "Name: Age, dtype: float64"
      ]
     },
     "execution_count": 63,
     "metadata": {},
     "output_type": "execute_result"
    }
   ],
   "execution_count": 63
  },
  {
   "cell_type": "markdown",
   "id": "78cd99eb",
   "metadata": {},
   "source": [
    "#### Question n°10\n",
    "Ajouter une colonne `FamilyMembers` au _DataFrame_ contenant les données du Titanic, qui représente le nombre total de personnes accompagnant chaque passager.\n",
    "_(somme de `SibSp` et `Parch`)._"
   ]
  },
  {
   "cell_type": "code",
   "id": "722450a8",
   "metadata": {
    "ExecuteTime": {
     "end_time": "2025-05-20T10:14:18.650710Z",
     "start_time": "2025-05-20T10:14:18.639687Z"
    }
   },
   "source": [
    "titanic['FamilyMembers'] = titanic['SibSp'] + titanic['Parch']\n",
    "titanic"
   ],
   "outputs": [
    {
     "data": {
      "text/plain": [
       "     PassengerId  Survived  Pclass  \\\n",
       "0              1         0       3   \n",
       "1              2         1       1   \n",
       "2              3         1       3   \n",
       "3              4         1       1   \n",
       "4              5         0       3   \n",
       "..           ...       ...     ...   \n",
       "886          887         0       2   \n",
       "887          888         1       1   \n",
       "888          889         0       3   \n",
       "889          890         1       1   \n",
       "890          891         0       3   \n",
       "\n",
       "                                                  Name     Sex   Age  SibSp  \\\n",
       "0                              Braund, Mr. Owen Harris    male  22.0      1   \n",
       "1    Cumings, Mrs. John Bradley (Florence Briggs Th...  female  38.0      1   \n",
       "2                               Heikkinen, Miss. Laina  female  26.0      0   \n",
       "3         Futrelle, Mrs. Jacques Heath (Lily May Peel)  female  35.0      1   \n",
       "4                             Allen, Mr. William Henry    male  35.0      0   \n",
       "..                                                 ...     ...   ...    ...   \n",
       "886                              Montvila, Rev. Juozas    male  27.0      0   \n",
       "887                       Graham, Miss. Margaret Edith  female  19.0      0   \n",
       "888           Johnston, Miss. Catherine Helen \"Carrie\"  female   NaN      1   \n",
       "889                              Behr, Mr. Karl Howell    male  26.0      0   \n",
       "890                                Dooley, Mr. Patrick    male  32.0      0   \n",
       "\n",
       "     Parch            Ticket     Fare Cabin Embarked  FamilyMembers  \n",
       "0        0         A/5 21171   7.2500   NaN        S              1  \n",
       "1        0          PC 17599  71.2833   C85        C              1  \n",
       "2        0  STON/O2. 3101282   7.9250   NaN        S              0  \n",
       "3        0            113803  53.1000  C123        S              1  \n",
       "4        0            373450   8.0500   NaN        S              0  \n",
       "..     ...               ...      ...   ...      ...            ...  \n",
       "886      0            211536  13.0000   NaN        S              0  \n",
       "887      0            112053  30.0000   B42        S              0  \n",
       "888      2        W./C. 6607  23.4500   NaN        S              3  \n",
       "889      0            111369  30.0000  C148        C              0  \n",
       "890      0            370376   7.7500   NaN        Q              0  \n",
       "\n",
       "[891 rows x 13 columns]"
      ],
      "text/html": [
       "<div>\n",
       "<style scoped>\n",
       "    .dataframe tbody tr th:only-of-type {\n",
       "        vertical-align: middle;\n",
       "    }\n",
       "\n",
       "    .dataframe tbody tr th {\n",
       "        vertical-align: top;\n",
       "    }\n",
       "\n",
       "    .dataframe thead th {\n",
       "        text-align: right;\n",
       "    }\n",
       "</style>\n",
       "<table border=\"1\" class=\"dataframe\">\n",
       "  <thead>\n",
       "    <tr style=\"text-align: right;\">\n",
       "      <th></th>\n",
       "      <th>PassengerId</th>\n",
       "      <th>Survived</th>\n",
       "      <th>Pclass</th>\n",
       "      <th>Name</th>\n",
       "      <th>Sex</th>\n",
       "      <th>Age</th>\n",
       "      <th>SibSp</th>\n",
       "      <th>Parch</th>\n",
       "      <th>Ticket</th>\n",
       "      <th>Fare</th>\n",
       "      <th>Cabin</th>\n",
       "      <th>Embarked</th>\n",
       "      <th>FamilyMembers</th>\n",
       "    </tr>\n",
       "  </thead>\n",
       "  <tbody>\n",
       "    <tr>\n",
       "      <th>0</th>\n",
       "      <td>1</td>\n",
       "      <td>0</td>\n",
       "      <td>3</td>\n",
       "      <td>Braund, Mr. Owen Harris</td>\n",
       "      <td>male</td>\n",
       "      <td>22.0</td>\n",
       "      <td>1</td>\n",
       "      <td>0</td>\n",
       "      <td>A/5 21171</td>\n",
       "      <td>7.2500</td>\n",
       "      <td>NaN</td>\n",
       "      <td>S</td>\n",
       "      <td>1</td>\n",
       "    </tr>\n",
       "    <tr>\n",
       "      <th>1</th>\n",
       "      <td>2</td>\n",
       "      <td>1</td>\n",
       "      <td>1</td>\n",
       "      <td>Cumings, Mrs. John Bradley (Florence Briggs Th...</td>\n",
       "      <td>female</td>\n",
       "      <td>38.0</td>\n",
       "      <td>1</td>\n",
       "      <td>0</td>\n",
       "      <td>PC 17599</td>\n",
       "      <td>71.2833</td>\n",
       "      <td>C85</td>\n",
       "      <td>C</td>\n",
       "      <td>1</td>\n",
       "    </tr>\n",
       "    <tr>\n",
       "      <th>2</th>\n",
       "      <td>3</td>\n",
       "      <td>1</td>\n",
       "      <td>3</td>\n",
       "      <td>Heikkinen, Miss. Laina</td>\n",
       "      <td>female</td>\n",
       "      <td>26.0</td>\n",
       "      <td>0</td>\n",
       "      <td>0</td>\n",
       "      <td>STON/O2. 3101282</td>\n",
       "      <td>7.9250</td>\n",
       "      <td>NaN</td>\n",
       "      <td>S</td>\n",
       "      <td>0</td>\n",
       "    </tr>\n",
       "    <tr>\n",
       "      <th>3</th>\n",
       "      <td>4</td>\n",
       "      <td>1</td>\n",
       "      <td>1</td>\n",
       "      <td>Futrelle, Mrs. Jacques Heath (Lily May Peel)</td>\n",
       "      <td>female</td>\n",
       "      <td>35.0</td>\n",
       "      <td>1</td>\n",
       "      <td>0</td>\n",
       "      <td>113803</td>\n",
       "      <td>53.1000</td>\n",
       "      <td>C123</td>\n",
       "      <td>S</td>\n",
       "      <td>1</td>\n",
       "    </tr>\n",
       "    <tr>\n",
       "      <th>4</th>\n",
       "      <td>5</td>\n",
       "      <td>0</td>\n",
       "      <td>3</td>\n",
       "      <td>Allen, Mr. William Henry</td>\n",
       "      <td>male</td>\n",
       "      <td>35.0</td>\n",
       "      <td>0</td>\n",
       "      <td>0</td>\n",
       "      <td>373450</td>\n",
       "      <td>8.0500</td>\n",
       "      <td>NaN</td>\n",
       "      <td>S</td>\n",
       "      <td>0</td>\n",
       "    </tr>\n",
       "    <tr>\n",
       "      <th>...</th>\n",
       "      <td>...</td>\n",
       "      <td>...</td>\n",
       "      <td>...</td>\n",
       "      <td>...</td>\n",
       "      <td>...</td>\n",
       "      <td>...</td>\n",
       "      <td>...</td>\n",
       "      <td>...</td>\n",
       "      <td>...</td>\n",
       "      <td>...</td>\n",
       "      <td>...</td>\n",
       "      <td>...</td>\n",
       "      <td>...</td>\n",
       "    </tr>\n",
       "    <tr>\n",
       "      <th>886</th>\n",
       "      <td>887</td>\n",
       "      <td>0</td>\n",
       "      <td>2</td>\n",
       "      <td>Montvila, Rev. Juozas</td>\n",
       "      <td>male</td>\n",
       "      <td>27.0</td>\n",
       "      <td>0</td>\n",
       "      <td>0</td>\n",
       "      <td>211536</td>\n",
       "      <td>13.0000</td>\n",
       "      <td>NaN</td>\n",
       "      <td>S</td>\n",
       "      <td>0</td>\n",
       "    </tr>\n",
       "    <tr>\n",
       "      <th>887</th>\n",
       "      <td>888</td>\n",
       "      <td>1</td>\n",
       "      <td>1</td>\n",
       "      <td>Graham, Miss. Margaret Edith</td>\n",
       "      <td>female</td>\n",
       "      <td>19.0</td>\n",
       "      <td>0</td>\n",
       "      <td>0</td>\n",
       "      <td>112053</td>\n",
       "      <td>30.0000</td>\n",
       "      <td>B42</td>\n",
       "      <td>S</td>\n",
       "      <td>0</td>\n",
       "    </tr>\n",
       "    <tr>\n",
       "      <th>888</th>\n",
       "      <td>889</td>\n",
       "      <td>0</td>\n",
       "      <td>3</td>\n",
       "      <td>Johnston, Miss. Catherine Helen \"Carrie\"</td>\n",
       "      <td>female</td>\n",
       "      <td>NaN</td>\n",
       "      <td>1</td>\n",
       "      <td>2</td>\n",
       "      <td>W./C. 6607</td>\n",
       "      <td>23.4500</td>\n",
       "      <td>NaN</td>\n",
       "      <td>S</td>\n",
       "      <td>3</td>\n",
       "    </tr>\n",
       "    <tr>\n",
       "      <th>889</th>\n",
       "      <td>890</td>\n",
       "      <td>1</td>\n",
       "      <td>1</td>\n",
       "      <td>Behr, Mr. Karl Howell</td>\n",
       "      <td>male</td>\n",
       "      <td>26.0</td>\n",
       "      <td>0</td>\n",
       "      <td>0</td>\n",
       "      <td>111369</td>\n",
       "      <td>30.0000</td>\n",
       "      <td>C148</td>\n",
       "      <td>C</td>\n",
       "      <td>0</td>\n",
       "    </tr>\n",
       "    <tr>\n",
       "      <th>890</th>\n",
       "      <td>891</td>\n",
       "      <td>0</td>\n",
       "      <td>3</td>\n",
       "      <td>Dooley, Mr. Patrick</td>\n",
       "      <td>male</td>\n",
       "      <td>32.0</td>\n",
       "      <td>0</td>\n",
       "      <td>0</td>\n",
       "      <td>370376</td>\n",
       "      <td>7.7500</td>\n",
       "      <td>NaN</td>\n",
       "      <td>Q</td>\n",
       "      <td>0</td>\n",
       "    </tr>\n",
       "  </tbody>\n",
       "</table>\n",
       "<p>891 rows × 13 columns</p>\n",
       "</div>"
      ]
     },
     "execution_count": 64,
     "metadata": {},
     "output_type": "execute_result"
    }
   ],
   "execution_count": 64
  },
  {
   "cell_type": "markdown",
   "id": "10c01d50",
   "metadata": {},
   "source": [
    "### MatPlotLib\n",
    "Il est à présent temps de proposer quelques visualisations sur ce jeu de données. Pour les questions suivantes, il vous est demandé d'utiliser uniquement matplotlib (pyplot), même si des équivalences peuvent exister avec seaborn.\n",
    "\n",
    "La documentation matplotlib est accessible à l'adresse suivante :\n",
    "- https://matplotlib.org/stable/index.html"
   ]
  },
  {
   "cell_type": "markdown",
   "id": "5752640b-4647-4c24-8aaa-ff721e65abe9",
   "metadata": {},
   "source": [
    "#### Question n°1\n",
    "Afficher un graphe de type _scatterplot_, affichant l'âge des passagers en fonction du tarif de leurs tickets.\n",
    "\n",
    "_Pensez à bien afficher un texte sur chaque axe, et ajouter un titre._"
   ]
  },
  {
   "cell_type": "code",
   "id": "34f1fe70",
   "metadata": {
    "ExecuteTime": {
     "end_time": "2025-05-20T10:14:18.908459Z",
     "start_time": "2025-05-20T10:14:18.783173Z"
    }
   },
   "source": [
    "\n",
    "\n",
    "plt.scatter(titanic['Age'], titanic['Fare'], marker=\"x\")\n",
    "plt.xlabel(\"Âge\")\n",
    "plt.ylabel(\"Prix du ticket\")\n",
    "plt.title(\"Âge des passagers par prix du ticket\")\n"
   ],
   "outputs": [
    {
     "data": {
      "text/plain": [
       "Text(0.5, 1.0, 'Âge des passagers par prix du ticket')"
      ]
     },
     "execution_count": 65,
     "metadata": {},
     "output_type": "execute_result"
    },
    {
     "data": {
      "text/plain": [
       "<Figure size 640x480 with 1 Axes>"
      ],
      "image/png": "[encoded data removed]"
     },
     "metadata": {},
     "output_type": "display_data"
    }
   ],
   "execution_count": 65
  },
  {
   "cell_type": "markdown",
   "id": "92a0c112",
   "metadata": {},
   "source": [
    "#### Question n°2\n",
    "Afficher un histogramme de type `barplot`, montrant pour chaque classe (1e, 2e et 3e), le nombre de passagers à bord du navire.\n",
    "\n",
    "- Pensez à nommer vos axes et votre figure.\n",
    "- Sur l'abscisse, seules les classes 1, 2 et 3 doivent apparaitre (pas de nombre décimal) :\n",
    "    - si nécessaire, regarder dans la documention comment utiliser `xticks`."
   ]
  },
  {
   "cell_type": "code",
   "id": "b5c4552f",
   "metadata": {
    "ExecuteTime": {
     "end_time": "2025-05-20T10:14:19.116759Z",
     "start_time": "2025-05-20T10:14:19.030641Z"
    }
   },
   "source": [
    "\n",
    "plt.bar((1, 2, 3), titanic.groupby('Pclass')['PassengerId'].count())\n",
    "locs, labels = plt.xticks()\n",
    "plt.xticks([0,1,2, 3], [0,1,2,3])"
   ],
   "outputs": [
    {
     "data": {
      "text/plain": [
       "([<matplotlib.axis.XTick at 0x1aec899a7e0>,\n",
       "  <matplotlib.axis.XTick at 0x1aec8782930>,\n",
       "  <matplotlib.axis.XTick at 0x1aec8881220>,\n",
       "  <matplotlib.axis.XTick at 0x1aec8982480>],\n",
       " [Text(0, 0, '0'), Text(1, 0, '1'), Text(2, 0, '2'), Text(3, 0, '3')])"
      ]
     },
     "execution_count": 66,
     "metadata": {},
     "output_type": "execute_result"
    },
    {
     "data": {
      "text/plain": [
       "<Figure size 640x480 with 1 Axes>"
      ],
      "image/png": "[encoded data removed]"
     },
     "metadata": {},
     "output_type": "display_data"
    }
   ],
   "execution_count": 66
  },
  {
   "cell_type": "markdown",
   "id": "6f811c0d",
   "metadata": {},
   "source": [
    "#### Question n°3\n",
    "Proposez un graphique similaire au précédent, en représentant séparement pour chaque classe le nombre d'hommes et le nombre de femmes, sur deux barres côte à côte. Pensez à nommer vos axes, votre figure, et à afficher une légende expliquant quelle couleur représente les hommes, et laquelle représente les femmes."
   ]
  },
  {
   "cell_type": "code",
   "id": "5e32ab09",
   "metadata": {
    "ExecuteTime": {
     "end_time": "2025-05-20T10:14:19.368792Z",
     "start_time": "2025-05-20T10:14:19.235949Z"
    }
   },
   "source": [
    "grouped = titanic.groupby(['Pclass', 'Sex']).size().unstack(fill_value=0)\n",
    "grouped.plot(kind='bar')\n",
    "\n",
    "plt.title('Nombre de passagers par classe et par sexe')\n",
    "plt.xlabel('Classe')\n",
    "plt.ylabel('Nombre de passagers')\n",
    "plt.legend(title='Sexe')\n",
    "plt.show()"
   ],
   "outputs": [
    {
     "data": {
      "text/plain": [
       "<Figure size 640x480 with 1 Axes>"
      ],
      "image/png": "[encoded data removed]"
     },
     "metadata": {},
     "output_type": "display_data"
    }
   ],
   "execution_count": 67
  },
  {
   "cell_type": "markdown",
   "id": "aed1e423",
   "metadata": {},
   "source": [
    "#### Question n°4\n",
    "Proposez un scatterplot montrant le nombre total de membres de la famille voyageant avec le passsagers (calculé à la question 10 de la section sur _Pandas_ nommé `FamilyMembers`), en fonction du tarif du ticket (sur l'axe y des ordonnées).\n",
    "\n",
    "Colorez chaque point du graphique en fonction de si le passager a survécu ou non.\n",
    "\n",
    "Affichez une légende expliquant ce code couleur, donnez un titre à vos axes, et ajoutez un titre à votre graphique."
   ]
  },
  {
   "cell_type": "code",
   "id": "ab3e1e93",
   "metadata": {
    "ExecuteTime": {
     "end_time": "2025-05-20T10:14:19.452993Z",
     "start_time": "2025-05-20T10:14:19.450600Z"
    }
   },
   "source": [
    "#TODO"
   ],
   "outputs": [],
   "execution_count": 68
  },
  {
   "cell_type": "markdown",
   "id": "35d5fe49",
   "metadata": {},
   "source": [
    "#### Question n°5\n",
    "Proposez une figure composée de six sous-graphes, répartis sur 2 lignes et 3 colonnes.<br/>Chaque colonne représente un port d'embarquement.\n",
    "- Sur la première ligne pour chaque port, représentez sur un _scatterplot_ de l'âge des passagers (axe des abscisses) en fonction du tarif de leur billet (axe des ordonnées).\n",
    "- Sur la deuxième ligne pour chaque port, représentez un _barplot_ représentant le nombre de passagers de chaque genre."
   ]
  },
  {
   "cell_type": "code",
   "id": "1f3662f1",
   "metadata": {
    "ExecuteTime": {
     "end_time": "2025-05-20T10:14:19.482123Z",
     "start_time": "2025-05-20T10:14:19.479739Z"
    }
   },
   "source": [
    "#TODO"
   ],
   "outputs": [],
   "execution_count": 69
  },
  {
   "cell_type": "markdown",
   "id": "d2845c23",
   "metadata": {},
   "source": [
    "### Seaborn\n",
    "\n",
    "Vous allez cette fois générer des visualisations uniquement avec Seaborn. La documentation est accessible à l'adresse suivante : https://seaborn.pydata.org/api.html"
   ]
  },
  {
   "cell_type": "markdown",
   "id": "f4ee66b8-f3c9-4203-8215-caafce24a7be",
   "metadata": {},
   "source": [
    "#### Question n°1\n",
    "Proposez un _scatterplot_ de l'âge des passagers en fonction du tarif de leur ticket.\n",
    "- Colorez chaque point en fonction du port dans lequel le passager à embarqué,\n",
    "- Affichez une légende,\n",
    "- Nommez vos axes,\n",
    "- Affichez un titre pour votre graphique."
   ]
  },
  {
   "cell_type": "code",
   "id": "0068c9f7",
   "metadata": {
    "ExecuteTime": {
     "end_time": "2025-05-20T10:14:19.648768Z",
     "start_time": "2025-05-20T10:14:19.531255Z"
    }
   },
   "source": [
    "age_ticket = titanic[['Age', 'Fare']]\n",
    "sns.scatterplot(data=titanic, x=\"Age\", y=\"Fare\")\n"
   ],
   "outputs": [
    {
     "data": {
      "text/plain": [
       "<Axes: xlabel='Age', ylabel='Fare'>"
      ]
     },
     "execution_count": 70,
     "metadata": {},
     "output_type": "execute_result"
    },
    {
     "data": {
      "text/plain": [
       "<Figure size 640x480 with 1 Axes>"
      ],
      "image/png": "[encoded data removed]"
     },
     "metadata": {},
     "output_type": "display_data"
    }
   ],
   "execution_count": 70
  },
  {
   "cell_type": "markdown",
   "id": "565aad2c",
   "metadata": {},
   "source": [
    "#### Question n°2\n",
    "Faire un _barplot_ représentant le nombre de passagers par genre.\n",
    "\n",
    "_Indice : utilisez un `histplot`._"
   ]
  },
  {
   "cell_type": "code",
   "id": "c8cb3730",
   "metadata": {
    "ExecuteTime": {
     "end_time": "2025-05-20T10:14:19.770483Z",
     "start_time": "2025-05-20T10:14:19.675815Z"
    }
   },
   "source": "sns.histplot(data=titanic, x='Sex').set(title=\"NB. Passaengers per Gender\")",
   "outputs": [
    {
     "data": {
      "text/plain": [
       "[Text(0.5, 1.0, 'NB. Passaengers per Gender')]"
      ]
     },
     "execution_count": 71,
     "metadata": {},
     "output_type": "execute_result"
    },
    {
     "data": {
      "text/plain": [
       "<Figure size 640x480 with 1 Axes>"
      ],
      "image/png": "[encoded data removed]"
     },
     "metadata": {},
     "output_type": "display_data"
    }
   ],
   "execution_count": 71
  },
  {
   "cell_type": "markdown",
   "id": "a12b94fb",
   "metadata": {},
   "source": [
    "#### Question n°3\n",
    "Reproduire l'histogramme de la _Question n°3_ de la partie `MatPlotLib` - histogramme du nombre d'homme (_male_) et de femmes (_female_) pour chaque classe."
   ]
  },
  {
   "cell_type": "code",
   "id": "f58d3ff7",
   "metadata": {
    "ExecuteTime": {
     "end_time": "2025-05-20T10:14:19.973406Z",
     "start_time": "2025-05-20T10:14:19.797784Z"
    }
   },
   "source": "sns.histplot(data=titanic, x=\"Pclass\", hue='Sex', multiple=\"dodge\").set(title=\"Nb. Passengers par Gender and Class\")",
   "outputs": [
    {
     "data": {
      "text/plain": [
       "[Text(0.5, 1.0, 'Nb. Passengers par Gender and Class')]"
      ]
     },
     "execution_count": 72,
     "metadata": {},
     "output_type": "execute_result"
    },
    {
     "data": {
      "text/plain": [
       "<Figure size 640x480 with 1 Axes>"
      ],
      "image/png": "[encoded data removed]"
     },
     "metadata": {},
     "output_type": "display_data"
    }
   ],
   "execution_count": 72
  },
  {
   "cell_type": "markdown",
   "id": "5dbf5040",
   "metadata": {},
   "source": [
    "#### Question n°4\n",
    "Proposer un _pairplot_ pour les colonnes suivantes : `Age` et `Fare`.\n",
    "\n",
    "- Colorer chaque point en fonction de la survie des passagers."
   ]
  },
  {
   "cell_type": "code",
   "id": "2cfc979b",
   "metadata": {
    "ExecuteTime": {
     "end_time": "2025-05-20T11:54:24.081612Z",
     "start_time": "2025-05-20T11:54:23.518873Z"
    }
   },
   "source": "sns.pairplot(data=titanic[['Age', 'Fare', 'Survived']], hue='Survived')",
   "outputs": [
    {
     "data": {
      "text/plain": [
       "<seaborn.axisgrid.PairGrid at 0x1aec8cb7770>"
      ]
     },
     "execution_count": 75,
     "metadata": {},
     "output_type": "execute_result"
    },
    {
     "data": {
      "text/plain": [
       "<Figure size 565.361x500 with 6 Axes>"
      ],
      "image/png": "[encoded data removed]"
     },
     "metadata": {},
     "output_type": "display_data"
    }
   ],
   "execution_count": 75
  },
  {
   "cell_type": "markdown",
   "id": "8a3e5008",
   "metadata": {},
   "source": [
    "#### Question n°5\n",
    "En utilisant la fonction `corr` de _Pandas_, et la fonction `heatmap` de _Seaborn_, proposez une *heatmap* représentant la corrélation entre les attributs suivants : `Survived`, `Age`, `Pclass`, `FamilyMembers` (calculé par vos soins dans la partie _Pandas_), et `Fare`."
   ]
  },
  {
   "cell_type": "code",
   "id": "862165a1",
   "metadata": {
    "ExecuteTime": {
     "end_time": "2025-05-20T10:14:20.712893Z",
     "start_time": "2025-05-20T10:14:20.573216Z"
    }
   },
   "source": "sns.heatmap(titanic[['Survived', 'Age', 'Pclass', 'FamilyMembers', 'Fare']].corr()).set(title='Correlations')",
   "outputs": [
    {
     "data": {
      "text/plain": [
       "[Text(0.5, 1.0, 'Correlations')]"
      ]
     },
     "execution_count": 74,
     "metadata": {},
     "output_type": "execute_result"
    },
    {
     "data": {
      "text/plain": [
       "<Figure size 640x480 with 2 Axes>"
      ],
      "image/png": "[encoded data removed]"
     },
     "metadata": {},
     "output_type": "display_data"
    }
   ],
   "execution_count": 74
  },
  {
   "cell_type": "markdown",
   "id": "e0735b47",
   "metadata": {},
   "source": [
    "# Fin du TP !"
   ]
  }
 ],
 "metadata": {
  "kernelspec": {
   "display_name": "Python 3 (ipykernel)",
   "language": "python",
   "name": "python3"
  },
  "language_info": {
   "codemirror_mode": {
    "name": "ipython",
    "version": 3
   },
   "file_extension": ".py",
   "mimetype": "text/x-python",
   "name": "python",
   "nbconvert_exporter": "python",
   "pygments_lexer": "ipython3",
   "version": "3.12.4"
  }
 },
 "nbformat": 4,
 "nbformat_minor": 5
}
